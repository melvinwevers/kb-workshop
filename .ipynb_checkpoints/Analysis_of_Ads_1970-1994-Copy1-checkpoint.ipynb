{
 "cells": [
  {
   "cell_type": "code",
   "execution_count": 1,
   "metadata": {
    "collapsed": true
   },
   "outputs": [],
   "source": [
    "import matplotlib.pyplot as plt\n",
    "from matplotlib.pylab import rcParams\n",
    "from nltk.corpus import stopwords\n",
    "import numpy as np\n",
    "from urllib.request import urlopen\n",
    "from urllib.error import URLError, HTTPError\n",
    "import pandas as pd\n",
    "import seaborn as sns \n",
    "from sklearn.cluster import KMeans\n",
    "import string\n",
    "import warnings\n",
    "from nltk import word_tokenize\n",
    "from sklearn.feature_extraction.text import CountVectorizer\n",
    "from collections import Counter"
   ]
  },
  {
   "cell_type": "code",
   "execution_count": 2,
   "metadata": {
    "collapsed": false
   },
   "outputs": [],
   "source": [
    "#settings\n",
    "%matplotlib inline\n",
    "rcParams['figure.figsize'] = 15, 6\n",
    "pd.set_option('display.max_colwidth', -1) #show full columns\n",
    "warnings.filterwarnings('ignore')\n",
    "np.set_printoptions(threshold=np.inf)"
   ]
  },
  {
   "cell_type": "code",
   "execution_count": 3,
   "metadata": {
    "collapsed": false
   },
   "outputs": [],
   "source": [
    "#function to extract images stored in a df\n",
    "def image_extract(x,file_name,n):\n",
    "    x_sample = x.sample(n)\n",
    "    img_urls = x_sample['image_url']\n",
    "    for index, url in enumerate(img_urls):\n",
    "        try:\n",
    "            link = urlopen(url)\n",
    "        except:\n",
    "            print(\"Bad URL\")\n",
    "            continue\n",
    "        try:\n",
    "            name = \"%s%s.jpg\" % (file_name, (index+1))\n",
    "            with open(name, \"wb\") as output:\n",
    "                output.write(link.read())\n",
    "        except IOError:\n",
    "            print(\"Unable to create %s\") % name"
   ]
  },
  {
   "cell_type": "code",
   "execution_count": 4,
   "metadata": {
    "collapsed": true
   },
   "outputs": [],
   "source": [
    "#word count function\n",
    "def freq_dist(data, n_words):\n",
    "    ngram_vectorizer = CountVectorizer(analyzer='word', tokenizer=word_tokenize, ngram_range=(1, 1), min_df=1)\n",
    "    X = ngram_vectorizer.fit_transform(data)\n",
    "    vocab = list(ngram_vectorizer.get_feature_names())\n",
    "    counts = X.sum(axis=0).A1\n",
    "    freq_distribution = Counter(dict(zip(vocab, counts)))\n",
    "    return freq_distribution.most_common(n_words)"
   ]
  },
  {
   "cell_type": "code",
   "execution_count": 5,
   "metadata": {
    "collapsed": true
   },
   "outputs": [],
   "source": [
    "#function to determine the best number of clusters \n",
    "#input the matrix and the range of the clusters defined by x and y\n",
    "def elbow_num_clusters(matrix, x, y):\n",
    "    Ks = range(x, y)\n",
    "    km = [KMeans(n_clusters=i) for i in Ks]\n",
    "    score = [km[i].fit(matrix).score(matrix) for i in range(len(km))]\n",
    "    plt.plot(score)"
   ]
  },
  {
   "cell_type": "code",
   "execution_count": 6,
   "metadata": {
    "collapsed": true
   },
   "outputs": [],
   "source": [
    "#function to print ranges of clusters \n",
    "def print_clusters(array):\n",
    "    for x in range(0,num_clus):\n",
    "        print(np.amin(array[x]))\n",
    "        print(np.amax(array[x]))"
   ]
  },
  {
   "cell_type": "code",
   "execution_count": 5,
   "metadata": {
    "collapsed": false
   },
   "outputs": [],
   "source": [
    "df = pd.read_csv(\"harvest-nrc-1970-1994.csv\", sep=\"\\t\")\n",
    "df['date'] = pd.to_datetime(df['date'])\n",
    "df = df.set_index(['date'])"
   ]
  },
  {
   "cell_type": "code",
   "execution_count": 6,
   "metadata": {
    "collapsed": false
   },
   "outputs": [
    {
     "data": {
      "text/html": [
       "<div>\n",
       "<table border=\"1\" class=\"dataframe\">\n",
       "  <thead>\n",
       "    <tr style=\"text-align: right;\">\n",
       "      <th></th>\n",
       "      <th>page</th>\n",
       "      <th>n_pages</th>\n",
       "      <th>min_x</th>\n",
       "      <th>min_y</th>\n",
       "      <th>max_x</th>\n",
       "      <th>max_y</th>\n",
       "      <th>w</th>\n",
       "      <th>h</th>\n",
       "      <th>area</th>\n",
       "    </tr>\n",
       "  </thead>\n",
       "  <tbody>\n",
       "    <tr>\n",
       "      <th>count</th>\n",
       "      <td>524982.000000</td>\n",
       "      <td>524982.000000</td>\n",
       "      <td>524982.000000</td>\n",
       "      <td>524982.000000</td>\n",
       "      <td>524982.000000</td>\n",
       "      <td>524982.000000</td>\n",
       "      <td>524982.000000</td>\n",
       "      <td>524982.000000</td>\n",
       "      <td>5.249820e+05</td>\n",
       "    </tr>\n",
       "    <tr>\n",
       "      <th>mean</th>\n",
       "      <td>16.829105</td>\n",
       "      <td>29.162912</td>\n",
       "      <td>1914.276202</td>\n",
       "      <td>3093.136988</td>\n",
       "      <td>3179.918959</td>\n",
       "      <td>5249.980224</td>\n",
       "      <td>1265.642757</td>\n",
       "      <td>2156.843237</td>\n",
       "      <td>3.167086e+06</td>\n",
       "    </tr>\n",
       "    <tr>\n",
       "      <th>std</th>\n",
       "      <td>11.045624</td>\n",
       "      <td>10.805025</td>\n",
       "      <td>1406.036416</td>\n",
       "      <td>2017.481744</td>\n",
       "      <td>1399.400868</td>\n",
       "      <td>1807.503741</td>\n",
       "      <td>1042.304341</td>\n",
       "      <td>1742.245559</td>\n",
       "      <td>4.913918e+06</td>\n",
       "    </tr>\n",
       "    <tr>\n",
       "      <th>min</th>\n",
       "      <td>1.000000</td>\n",
       "      <td>8.000000</td>\n",
       "      <td>0.000000</td>\n",
       "      <td>0.000000</td>\n",
       "      <td>241.000000</td>\n",
       "      <td>90.000000</td>\n",
       "      <td>54.000000</td>\n",
       "      <td>33.000000</td>\n",
       "      <td>1.366200e+04</td>\n",
       "    </tr>\n",
       "    <tr>\n",
       "      <th>25%</th>\n",
       "      <td>9.000000</td>\n",
       "      <td>20.000000</td>\n",
       "      <td>337.000000</td>\n",
       "      <td>749.000000</td>\n",
       "      <td>1987.000000</td>\n",
       "      <td>3979.000000</td>\n",
       "      <td>531.000000</td>\n",
       "      <td>839.000000</td>\n",
       "      <td>6.191618e+05</td>\n",
       "    </tr>\n",
       "    <tr>\n",
       "      <th>50%</th>\n",
       "      <td>14.000000</td>\n",
       "      <td>28.000000</td>\n",
       "      <td>1962.000000</td>\n",
       "      <td>3414.000000</td>\n",
       "      <td>3373.000000</td>\n",
       "      <td>6042.000000</td>\n",
       "      <td>936.000000</td>\n",
       "      <td>1610.000000</td>\n",
       "      <td>1.453824e+06</td>\n",
       "    </tr>\n",
       "    <tr>\n",
       "      <th>75%</th>\n",
       "      <td>24.000000</td>\n",
       "      <td>34.000000</td>\n",
       "      <td>3079.000000</td>\n",
       "      <td>4821.000000</td>\n",
       "      <td>4707.000000</td>\n",
       "      <td>6738.000000</td>\n",
       "      <td>1411.000000</td>\n",
       "      <td>2979.000000</td>\n",
       "      <td>3.518330e+06</td>\n",
       "    </tr>\n",
       "    <tr>\n",
       "      <th>max</th>\n",
       "      <td>76.000000</td>\n",
       "      <td>76.000000</td>\n",
       "      <td>6558.000000</td>\n",
       "      <td>6986.000000</td>\n",
       "      <td>7219.000000</td>\n",
       "      <td>7477.000000</td>\n",
       "      <td>7033.000000</td>\n",
       "      <td>7156.000000</td>\n",
       "      <td>9.562867e+07</td>\n",
       "    </tr>\n",
       "  </tbody>\n",
       "</table>\n",
       "</div>"
      ],
      "text/plain": [
       "                page        n_pages          min_x          min_y  \\\n",
       "count  524982.000000  524982.000000  524982.000000  524982.000000   \n",
       "mean   16.829105      29.162912      1914.276202    3093.136988     \n",
       "std    11.045624      10.805025      1406.036416    2017.481744     \n",
       "min    1.000000       8.000000       0.000000       0.000000        \n",
       "25%    9.000000       20.000000      337.000000     749.000000      \n",
       "50%    14.000000      28.000000      1962.000000    3414.000000     \n",
       "75%    24.000000      34.000000      3079.000000    4821.000000     \n",
       "max    76.000000      76.000000      6558.000000    6986.000000     \n",
       "\n",
       "               max_x          max_y              w              h  \\\n",
       "count  524982.000000  524982.000000  524982.000000  524982.000000   \n",
       "mean   3179.918959    5249.980224    1265.642757    2156.843237     \n",
       "std    1399.400868    1807.503741    1042.304341    1742.245559     \n",
       "min    241.000000     90.000000      54.000000      33.000000       \n",
       "25%    1987.000000    3979.000000    531.000000     839.000000      \n",
       "50%    3373.000000    6042.000000    936.000000     1610.000000     \n",
       "75%    4707.000000    6738.000000    1411.000000    2979.000000     \n",
       "max    7219.000000    7477.000000    7033.000000    7156.000000     \n",
       "\n",
       "               area  \n",
       "count  5.249820e+05  \n",
       "mean   3.167086e+06  \n",
       "std    4.913918e+06  \n",
       "min    1.366200e+04  \n",
       "25%    6.191618e+05  \n",
       "50%    1.453824e+06  \n",
       "75%    3.518330e+06  \n",
       "max    9.562867e+07  "
      ]
     },
     "execution_count": 6,
     "metadata": {},
     "output_type": "execute_result"
    }
   ],
   "source": [
    "df.describe()"
   ]
  },
  {
   "cell_type": "markdown",
   "metadata": {},
   "source": [
    "Text Cleaning"
   ]
  },
  {
   "cell_type": "code",
   "execution_count": 7,
   "metadata": {
    "collapsed": true
   },
   "outputs": [],
   "source": [
    "stoplist = stopwords.words('dutch')\n",
    "def remove_punctuation(s):\n",
    "    s = ''.join([i for i in s if i not in frozenset(string.punctuation)])\n",
    "    return s\n",
    "\n",
    "df['ocr'] = df['ocr'].str.findall('\\w{4,}').str.join(' ') #remove words shorter than 4 characters\n",
    "df['ocr'].replace('[!\"#%\\'()*+,-./:;<=>?@\\[\\]^_`{|}~1234567890’”“′‘\\\\\\]',' ',inplace=True,regex=True)\n",
    "df['ocr'] = df['ocr'].apply(lambda S:S.strip('Advertentie ')) #remove initial Advertentie\n",
    "df['ocr'] = df['ocr'].str.replace('\\d+', '') #remove digits\n",
    "df['ocr'] = df['ocr'].str.strip()\n",
    "df['ocr'] = [' '.join(filter(None,filter(lambda word: word not in stoplist, line))) for line in df['ocr'].str.lower().str.split(' ')]\n",
    "df['ocr'] = df['ocr'].apply(remove_punctuation) #remove punctuation\n",
    "\n",
    "#remove colophon\n",
    "to_drop = ['nrc handelsblad rotterdam westblaak', 'redactie parkstraat hoofdredacteur']\n",
    "df = df[~df['ocr'].isin(to_drop)]\n",
    "\n",
    "#remove error\n",
    "df = df[~df['ocr'].str.contains(\"jboss\")]\n"
   ]
  },
  {
   "cell_type": "code",
   "execution_count": 7,
   "metadata": {
    "collapsed": false
   },
   "outputs": [],
   "source": [
    "#df.to_pickle(\"1970-1994\")\n",
    "df = pd.read_pickle(\"1970-1994\")"
   ]
  },
  {
   "cell_type": "code",
   "execution_count": 8,
   "metadata": {
    "collapsed": false
   },
   "outputs": [],
   "source": [
    "#calculating proportion of characters relative to size of the advertisement. \n",
    "df['string_length'] = df['ocr'].str.len()\n",
    "df['character_proportion'] = df['string_length'] / df ['area']"
   ]
  },
  {
   "cell_type": "code",
   "execution_count": 9,
   "metadata": {
    "collapsed": false,
    "scrolled": true
   },
   "outputs": [
    {
     "data": {
      "text/plain": [
       "<matplotlib.axes._subplots.AxesSubplot at 0x1287b82e8>"
      ]
     },
     "execution_count": 9,
     "metadata": {},
     "output_type": "execute_result"
    },
    {
     "data": {
      "image/png": "[encoded data removed]",
      "text/plain": [
       "<matplotlib.figure.Figure at 0x11af80278>"
      ]
     },
     "metadata": {},
     "output_type": "display_data"
    }
   ],
   "source": [
    "sns.distplot(df['w'])"
   ]
  },
  {
   "cell_type": "markdown",
   "metadata": {},
   "source": [
    "The dataset contains different groups of advertisements with specific widths. The types can be broadly categorized in these groups: \n",
    "* 375 - 650\n",
    "* 750 - 1500\n",
    "* 1700 - 1950\n",
    "* 2150 - 2425\n",
    "* 4500 - "
   ]
  },
  {
   "cell_type": "code",
   "execution_count": 10,
   "metadata": {
    "collapsed": false
   },
   "outputs": [
    {
     "data": {
      "text/plain": [
       "<matplotlib.axes._subplots.AxesSubplot at 0x11d011eb8>"
      ]
     },
     "execution_count": 10,
     "metadata": {},
     "output_type": "execute_result"
    },
    {
     "data": {
      "image/png": "[encoded data removed]",
      "text/plain": [
       "<matplotlib.figure.Figure at 0x11af80f28>"
      ]
     },
     "metadata": {},
     "output_type": "display_data"
    }
   ],
   "source": [
    "sns.distplot(df['h'])"
   ]
  },
  {
   "cell_type": "markdown",
   "metadata": {},
   "source": [
    "I cluster the entire sets of ads (classifieds, full-page, and small ads removed) based on their character proportion and width of the ads. There is also a group of full_page ads that contain many differnet picture and for that reason they might not be suited for the analysis of images. I filtered out these full_page_ads (with a size greather than 80000000) Moreover, I removed very small_ads (based on their height and width) and classifieds (ads with a height greater than 5000 and width smaller than 900). The character proportion does not seem to be a very good defining factor for the general set of ads. These four clusters can be defined as \n",
    "cluster1 \n",
    "cluster2\n",
    "cluster3\n",
    "cluster4"
   ]
  },
  {
   "cell_type": "code",
   "execution_count": 14,
   "metadata": {
    "collapsed": false
   },
   "outputs": [],
   "source": [
    "#based on df2 -- after taking out classifieds ads\n",
    "cluster1 = df2[(df2['character_proportion'] > 0) & (df2['character_proportion'] < 0.00227509467026) & (df2['w'] < 1613) & (df2['w'] > 798)] #medium\n",
    "cluster2 = df2[(df2['character_proportion'] > 0) & (df2['character_proportion'] < 0.000968770603194) & (df2['w'] < 7033) & (df2['w'] > 3222)] #large-image\n",
    "cluster3 = df2[(df2['character_proportion'] > 0) & (df2['character_proportion'] < 0.00236256979862) & (df2['w'] < 797) & (df2['w'] > 300)] #small\n",
    "cluster4 = df2[(df2['character_proportion'] > 0) & (df2['character_proportion'] < 0.00180380012711) & (df2['w'] < 3221) & (df2['w'] > 1614)] #large-text"
   ]
  },
  {
   "cell_type": "markdown",
   "metadata": {},
   "source": [
    "cluster 2 yields relatively large ads with images and text."
   ]
  },
  {
   "cell_type": "code",
   "execution_count": 12,
   "metadata": {
    "collapsed": false
   },
   "outputs": [
    {
     "ename": "NameError",
     "evalue": "name 'cluster2' is not defined",
     "output_type": "error",
     "traceback": [
      "\u001b[0;31m---------------------------------------------------------------------------\u001b[0m",
      "\u001b[0;31mNameError\u001b[0m                                 Traceback (most recent call last)",
      "\u001b[0;32m<ipython-input-12-5e9f2d5bf568>\u001b[0m in \u001b[0;36m<module>\u001b[0;34m()\u001b[0m\n\u001b[0;32m----> 1\u001b[0;31m \u001b[0mimage_extract\u001b[0m\u001b[0;34m(\u001b[0m\u001b[0mcluster2\u001b[0m\u001b[0;34m,\u001b[0m \u001b[0;34m\"cluster2-\"\u001b[0m\u001b[0;34m,\u001b[0m \u001b[0;36m50\u001b[0m\u001b[0;34m)\u001b[0m\u001b[0;34m\u001b[0m\u001b[0m\n\u001b[0m",
      "\u001b[0;31mNameError\u001b[0m: name 'cluster2' is not defined"
     ]
    }
   ],
   "source": [
    "image_extract(cluster2, \"cluster2-\", 50)"
   ]
  },
  {
   "cell_type": "code",
   "execution_count": 12,
   "metadata": {
    "collapsed": false
   },
   "outputs": [],
   "source": [
    "#maybe filter these out??\n",
    "full_page_ads = (df['area'] > 80000000)\n",
    "#rest category wide ads tussen 2500 and 4250 \n",
    "classifieds = (df['h'] > 5000) & (df['w'] < 900) # tot 650 puur classifieds groter ook filmladders enzo twee groepen\n",
    "small_ads = (df['h'] < 500) | (df['w'] < 500) #small ads"
   ]
  },
  {
   "cell_type": "markdown",
   "metadata": {},
   "source": [
    "Not a very clear grouping based on height. There seem to be a group around 1000, 3000, and > 6000 pixels. Height by itself is not the best variable to group on. There does seem to be a group of very tall advertisements. "
   ]
  },
  {
   "cell_type": "markdown",
   "metadata": {
    "collapsed": true
   },
   "source": [
    "After exploring the dataset a character proportion of < 0.0001 seems to yield image-heavy ads. "
   ]
  },
  {
   "cell_type": "code",
   "execution_count": 14,
   "metadata": {
    "collapsed": true
   },
   "outputs": [],
   "source": [
    "low_character_ads = df[(df['character_proportion'] > 0) & (df['character_proportion'] < 0.0001)]"
   ]
  },
  {
   "cell_type": "markdown",
   "metadata": {},
   "source": [
    "I also used kmeans clustering to identify clusters of ads based on their character proportion. After elbowing the number of clusters, three clusters seems to be the most significant number. I have defined these three groups into a cluster of 1) image-heavy, 2) half-half ads, and 3) text-based ads. These clusters do contain some false positives. For analysis that rely on images the more conservate character_proportion limit of 0.0001 might be better. "
   ]
  },
  {
   "cell_type": "code",
   "execution_count": 106,
   "metadata": {
    "collapsed": false
   },
   "outputs": [],
   "source": [
    "num_clus = 3\n",
    "X = df[['character_proportion']].as_matrix()\n",
    "kmeans = KMeans(n_clusters=num_clus, random_state=111).fit(X)\n",
    "array = {i: X[np.where(kmeans.labels_ == i)] for i in range(kmeans.n_clusters)}"
   ]
  },
  {
   "cell_type": "code",
   "execution_count": 10,
   "metadata": {
    "collapsed": false
   },
   "outputs": [],
   "source": [
    "#kmeans\n",
    "image_ads = df[(df['character_proportion'] > 0) & (df['character_proportion'] < 0.000284339202685)] #inspect sizes\n",
    "half_half = df[(df['character_proportion'] > 0.000284343344589) & (df['character_proportion'] < 0.000625687476899)] #inspect sizes\n",
    "text_based = df[(df['character_proportion'] > 0.000625695983418) & (df['character_proportion'] < 0.00236256979862)] #inspect sizes"
   ]
  },
  {
   "cell_type": "code",
   "execution_count": 140,
   "metadata": {
    "collapsed": false
   },
   "outputs": [
    {
     "data": {
      "text/plain": [
       "<seaborn.axisgrid.JointGrid at 0x138717128>"
      ]
     },
     "execution_count": 140,
     "metadata": {},
     "output_type": "execute_result"
    },
    {
     "data": {
      "image/png": "[encoded data removed]",
      "text/plain": [
       "<matplotlib.figure.Figure at 0x13712b6a0>"
      ]
     },
     "metadata": {},
     "output_type": "display_data"
    }
   ],
   "source": [
    "sns.jointplot('w', 'h', data=low_character_ads, kind=\"kde\")"
   ]
  },
  {
   "cell_type": "markdown",
   "metadata": {},
   "source": [
    "This density plot of the width and height of low_character \n",
    "advertisments reveals some noticeable clusters. Using Kmeans clustering I have extracted these clusters. "
   ]
  },
  {
   "cell_type": "markdown",
   "metadata": {},
   "source": [
    "I also identified different sets of ads based on their height and width in the cluster of image_ads. "
   ]
  },
  {
   "cell_type": "code",
   "execution_count": 147,
   "metadata": {
    "collapsed": false
   },
   "outputs": [
    {
     "data": {
      "text/plain": [
       "<seaborn.axisgrid.JointGrid at 0x1468223c8>"
      ]
     },
     "execution_count": 147,
     "metadata": {},
     "output_type": "execute_result"
    },
    {
     "data": {
      "image/png": "[encoded data removed]",
      "text/plain": [
       "<matplotlib.figure.Figure at 0x146822438>"
      ]
     },
     "metadata": {},
     "output_type": "display_data"
    }
   ],
   "source": [
    "sns.jointplot('h', 'w', data = image_ads, kind=\"kde\")"
   ]
  },
  {
   "cell_type": "code",
   "execution_count": 16,
   "metadata": {
    "collapsed": false
   },
   "outputs": [],
   "source": [
    "banners = image_ads[(image_ads['h'] > 0 ) & (image_ads['h'] < 1500) & (image_ads['w'] > 4000)]\n",
    "big_ads = image_ads[(image_ads['h'] > 3000 ) & (image_ads['h'] < 8000) & (image_ads['w'] > 4000)]\n",
    "column_ads = image_ads[(image_ads['h'] > 6000 ) & (image_ads['h'] < 8000) & (image_ads['w'] < 1000)]\n",
    "small_ads = image_ads['image_url'].loc[(image_ads['h'] < 1000 ) & (image_ads['h'] < 1000) & (image_ads['w'] < 1000)]"
   ]
  },
  {
   "cell_type": "code",
   "execution_count": 13,
   "metadata": {
    "collapsed": false
   },
   "outputs": [],
   "source": [
    "df2 = df[(~classifieds) & (~small_ads) & (~full_page_ads)] #dataframe without classifieds and small_ads (n = 486,294)\n",
    "df3 = df2[(df2['character_proportion'] < 0.000284339202685)] #dataframe based on the clustering threshold (n = 207,780)\n",
    "df4 = df2[(df2['character_proportion'] < 0.0001)] #dataframe based on my own more conservative limit (n = 71,661)"
   ]
  },
  {
   "cell_type": "code",
   "execution_count": null,
   "metadata": {
    "collapsed": false
   },
   "outputs": [
    {
     "name": "stdout",
     "output_type": "stream",
     "text": [
      "Bad URL\n",
      "Bad URL"
     ]
    }
   ],
   "source": [
    "image_extract(df4, \"df4-\", 200)"
   ]
  },
  {
   "cell_type": "code",
   "execution_count": 17,
   "metadata": {
    "collapsed": false
   },
   "outputs": [],
   "source": [
    "num_clus = 4\n",
    "X2 = df2[['character_proportion','w']].as_matrix()\n",
    "kmeans = KMeans(n_clusters=num_clus, random_state=111).fit(X2)\n",
    "array = {i: X2[np.where(kmeans.labels_ == i)] for i in range(kmeans.n_clusters)}"
   ]
  },
  {
   "cell_type": "code",
   "execution_count": 18,
   "metadata": {
    "collapsed": false
   },
   "outputs": [
    {
     "name": "stdout",
     "output_type": "stream",
     "text": [
      "0.0\n",
      "0.00180380012711\n",
      "1614.0\n",
      "3221.0\n",
      "0.0\n",
      "0.00227509467026\n",
      "798.0\n",
      "1613.0\n",
      "0.0\n",
      "0.000968770603194\n",
      "3222.0\n",
      "7033.0\n",
      "0.0\n",
      "0.00236256979862\n",
      "300.0\n",
      "797.0\n"
     ]
    }
   ],
   "source": [
    "for x in range(0,num_clus):\n",
    "    print(np.amin(array[x][:,0]))\n",
    "    print(np.amax(array[x][:,0]))\n",
    "    print(np.amin(array[x][:,1]))\n",
    "    print(np.amax(array[x][:,1]))"
   ]
  },
  {
   "cell_type": "code",
   "execution_count": 15,
   "metadata": {
    "collapsed": false
   },
   "outputs": [],
   "source": [
    "#clustering based on width and height within df4\n",
    "df4_cluster1 = df4[(df4['h'] > 4125) & (df4['h'] < 7156) & (df4['w'] > 465) & (df4['w'] < 7033)] #large size \n",
    "df4_cluster2 = df4[(df4['h'] > 300) & (df4['h'] < 4338) & (df4['w'] > 1367) & (df4['w'] < 4921)] #medium\n",
    "df4_cluster3 = df4[(df4['h'] > 300) & (df4['h'] < 4814) & (df4['w'] > 300) & (df4['w'] < 3162)] #small  "
   ]
  },
  {
   "cell_type": "markdown",
   "metadata": {
    "collapsed": true
   },
   "source": [
    "Three groups in cluster1 (900px, 1100px, 1400px) - more text based?\n",
    "Two groups in cluster2 (around 3500px, 4600px) \n",
    "Two groups in cluster3 (around 450 with 0.00075 character thus more text, and 550w with 0.00025char_prop)\n",
    "Two major clusters in cluster4 (around 1750px, 2250) and two minor (2800, 3100)"
   ]
  },
  {
   "cell_type": "markdown",
   "metadata": {},
   "source": [
    "TEXT ANALYSIS"
   ]
  },
  {
   "cell_type": "code",
   "execution_count": 16,
   "metadata": {
    "collapsed": false
   },
   "outputs": [],
   "source": [
    "from sklearn.feature_extraction.text import TfidfVectorizer\n",
    "vectorizer = TfidfVectorizer(norm='l1', sublinear_tf=True, analyzer='word', lowercase=True, max_df = 0.25, min_df = 0.005)\n",
    "tfidf_matrix =  vectorizer.fit_transform(cluster2['ocr']['1970':'1995'])"
   ]
  },
  {
   "cell_type": "code",
   "execution_count": 17,
   "metadata": {
    "collapsed": false
   },
   "outputs": [],
   "source": [
    "scores = zip(vectorizer.get_feature_names(), np.asarray(tfidf_matrix.sum(axis=0)).ravel())\n",
    "sorted_scores = sorted(scores, key=lambda x: x[1], reverse=True)\n",
    "feature_list = []\n",
    "for item in sorted_scores:\n",
    "    feature_list.append(\"{0:50} Score: {1}\".format(item[0], item[1]))"
   ]
  },
  {
   "cell_type": "code",
   "execution_count": 18,
   "metadata": {
    "collapsed": false
   },
   "outputs": [
    {
     "data": {
      "text/plain": [
       "4153"
      ]
     },
     "execution_count": 18,
     "metadata": {},
     "output_type": "execute_result"
    }
   ],
   "source": [
    "len(feature_list)"
   ]
  },
  {
   "cell_type": "markdown",
   "metadata": {},
   "source": [
    "4000 x 7000 > size of page"
   ]
  },
  {
   "cell_type": "code",
   "execution_count": 19,
   "metadata": {
    "collapsed": false
   },
   "outputs": [],
   "source": [
    "features = pd.DataFrame(feature_list)\n",
    "features.to_csv(\"features-cluster2-1970-1994.csv\")"
   ]
  },
  {
   "cell_type": "code",
   "execution_count": 124,
   "metadata": {
    "collapsed": false
   },
   "outputs": [
    {
     "data": {
      "text/plain": [
       "[('kunt', 15287),\n",
       " ('gram', 14006),\n",
       " ('nieuwe', 13880),\n",
       " ('jaar', 12365),\n",
       " ('alle', 11377),\n",
       " ('onze', 10536),\n",
       " ('rotterdam', 9998),\n",
       " ('amsterdam', 9944),\n",
       " ('nederland', 9101),\n",
       " ('auto', 8998),\n",
       " ('alleen', 7253),\n",
       " ('waar', 7222),\n",
       " ('extra', 7184),\n",
       " ('bank', 7014),\n",
       " ('informatie', 6914),\n",
       " ('liter', 6899),\n",
       " ('prijs', 6689),\n",
       " ('goed', 6581),\n",
       " ('telefoon', 6489),\n",
       " ('no', 6197),\n",
       " ('vanaf', 6153),\n",
       " ('gratis', 5939),\n",
       " ('handelsblad', 5698),\n",
       " ('eigen', 5566),\n",
       " ('grote', 5529),\n",
       " ('elke', 5513),\n",
       " ('maken', 5495),\n",
       " ('gaat', 5297),\n",
       " ('staat', 5169),\n",
       " ('even', 5063),\n",
       " ('wilt', 4876),\n",
       " ('naam', 4707),\n",
       " ('plaats', 4587),\n",
       " ('rente', 4576),\n",
       " ('geld', 4570),\n",
       " ('twee', 4552),\n",
       " ('heel', 4332),\n",
       " ('mensen', 4261),\n",
       " ('kilo', 4207),\n",
       " ('tijd', 4012),\n",
       " ('adres', 3933),\n",
       " ('krijgt', 3921),\n",
       " ('ingezonden', 3899),\n",
       " ('maakt', 3896),\n",
       " ('bent', 3874),\n",
       " ('mededeling', 3867),\n",
       " ('graag', 3853),\n",
       " ('kleuren', 3841),\n",
       " ('snel', 3828),\n",
       " ('weer', 3816),\n",
       " ('prijzen', 3804),\n",
       " ('komt', 3789),\n",
       " ('postbus', 3772),\n",
       " ('wereld', 3636),\n",
       " ('natuurlijk', 3593),\n",
       " ('zeer', 3565),\n",
       " ('bovendien', 3528),\n",
       " ('zoals', 3510),\n",
       " ('haag', 3486),\n",
       " ('daarom', 3467),\n",
       " ('utrecht', 3447),\n",
       " ('eerste', 3428),\n",
       " ('volvo', 3420),\n",
       " ('bijvoorbeeld', 3379),\n",
       " ('stuks', 3373),\n",
       " ('binnen', 3362),\n",
       " ('dealer', 3357),\n",
       " ('goede', 3345),\n",
       " ('gaan', 3315),\n",
       " ('huis', 3291),\n",
       " ('weten', 3273),\n",
       " ('nieuw', 3268),\n",
       " ('service', 3235),\n",
       " ('vraag', 3178),\n",
       " ('bedrijf', 3154),\n",
       " ('hebt', 3110),\n",
       " ('bijenkorf', 3082),\n",
       " ('week', 3032),\n",
       " ('geeft', 3028),\n",
       " ('fles', 2965),\n",
       " ('zelfs', 2963),\n",
       " ('weet', 2950),\n",
       " ('staan', 2945),\n",
       " ('komen', 2934),\n",
       " ('vindt', 2905),\n",
       " ('rabobank', 2867),\n",
       " ('renault', 2848),\n",
       " ('steeds', 2784),\n",
       " ('motor', 2773),\n",
       " ('biedt', 2753),\n",
       " ('nederlandse', 2705),\n",
       " ('stuk', 2701),\n",
       " ('postcode', 2683),\n",
       " ('minder', 2680),\n",
       " ('opel', 2665),\n",
       " ('beste', 2647),\n",
       " ('normaal', 2641),\n",
       " ('incl', 2625),\n",
       " ('stuur', 2624),\n",
       " ('nodig', 2603),\n",
       " ('philips', 2601),\n",
       " ('tussen', 2563),\n",
       " ('rekening', 2534),\n",
       " ('verkrijgbaar', 2532),\n",
       " ('vele', 2530),\n",
       " ('laat', 2519),\n",
       " ('lang', 2515),\n",
       " ('drie', 2508),\n",
       " ('beter', 2504),\n",
       " ('mogelijk', 2502),\n",
       " ('antwoordnummer', 2495),\n",
       " ('groot', 2483),\n",
       " ('diverse', 2469),\n",
       " ('hele', 2466),\n",
       " ('zaterdag', 2455),\n",
       " ('zien', 2438),\n",
       " ('laten', 2419),\n",
       " ('kwaliteit', 2412),\n",
       " ('maand', 2385),\n",
       " ('blijft', 2368),\n",
       " ('grootste', 2340),\n",
       " ('kleine', 2326),\n",
       " ('hoge', 2321),\n",
       " ('meest', 2319),\n",
       " ('kopen', 2295),\n",
       " ('speciale', 2291),\n",
       " ('amro', 2288),\n",
       " ('computer', 2285),\n",
       " ('voordeel', 2241),\n",
       " ('doet', 2240),\n",
       " ('aantal', 2230),\n",
       " ('artikelen', 2215),\n",
       " ('zaken', 2213),\n",
       " ('geven', 2183),\n",
       " ('europa', 2181),\n",
       " ('ruim', 2153),\n",
       " ('voorraad', 2152),\n",
       " ('kosten', 2150),\n",
       " ('katoen', 2109),\n",
       " ('ford', 2108),\n",
       " ('slechts', 2087),\n",
       " ('buitenland', 2063),\n",
       " ('willen', 2061),\n",
       " ('ruimte', 2055),\n",
       " ('zeker', 2052),\n",
       " ('hoeft', 2045),\n",
       " ('gewoon', 2034),\n",
       " ('samen', 2034),\n",
       " ('werk', 2017),\n",
       " ('dagen', 2013),\n",
       " ('achter', 2012),\n",
       " ('keuze', 2007),\n",
       " ('mogelijkheden', 1991),\n",
       " ('ziet', 1991),\n",
       " ('verder', 1987),\n",
       " ('open', 1986),\n",
       " ('envelop', 1981),\n",
       " ('anders', 1973),\n",
       " ('garantie', 1973),\n",
       " ('bellen', 1972),\n",
       " ('moeten', 1948),\n",
       " ('leven', 1947),\n",
       " ('diesel', 1938),\n",
       " ('meteen', 1931),\n",
       " ('werken', 1928),\n",
       " ('standaard', 1923),\n",
       " ('gebruik', 1913),\n",
       " ('inlichtingen', 1898),\n",
       " ('zwart', 1895),\n",
       " ('land', 1889),\n",
       " ('nooit', 1884),\n",
       " ('verschillende', 1876),\n",
       " ('méér', 1856),\n",
       " ('maten', 1837),\n",
       " ('systeem', 1836),\n",
       " ('bedrag', 1834),\n",
       " ('groep', 1832),\n",
       " ('zolang', 1819),\n",
       " ('jaren', 1797),\n",
       " ('keer', 1786),\n",
       " ('fiat', 1783),\n",
       " ('elkaar', 1775),\n",
       " ('deurs', 1774),\n",
       " ('plus', 1764),\n",
       " ('vaak', 1762),\n",
       " ('wanneer', 1762),\n",
       " ('internationale', 1760),\n",
       " ('lage', 1748),\n",
       " ('rijden', 1748),\n",
       " ('vooral', 1739),\n",
       " ('nieuws', 1732),\n",
       " ('unieke', 1723),\n",
       " ('vakantie', 1721),\n",
       " ('citroen', 1712),\n",
       " ('ligt', 1710),\n",
       " ('peugeot', 1708),\n",
       " ('eindhoven', 1707),\n",
       " ('klaar', 1704),\n",
       " ('f', 1701),\n",
       " ('landen', 1691),\n",
       " ('afdeling', 1689),\n",
       " ('comfort', 1686),\n",
       " ('bedrijven', 1666),\n",
       " ('echt', 1649),\n",
       " ('luxe', 1643),\n",
       " ('advertentie', 1640),\n",
       " ('blik', 1623),\n",
       " ('gulden', 1621),\n",
       " ('exclusief', 1619),\n",
       " ('kiezen', 1617),\n",
       " ('vandaag', 1610),\n",
       " ('hoog', 1608),\n",
       " ('lange', 1604),\n",
       " ('welke', 1601),\n",
       " ('betalen', 1599),\n",
       " ('allemaal', 1592),\n",
       " ('thuis', 1592),\n",
       " ('iedereen', 1588),\n",
       " ('gemaakt', 1578),\n",
       " ('gebied', 1576),\n",
       " ('vast', 1565),\n",
       " ('krijgen', 1559),\n",
       " ('voorbehouden', 1559),\n",
       " ('arnhem', 1544),\n",
       " ('klasse', 1531),\n",
       " ('zoveel', 1528),\n",
       " ('hypotheek', 1524),\n",
       " ('winkels', 1522),\n",
       " ('betekent', 1521),\n",
       " ('miljoen', 1517),\n",
       " ('liefst', 1514),\n",
       " ('vier', 1514),\n",
       " ('serie', 1512),\n",
       " ('precies', 1511),\n",
       " ('brochure', 1508),\n",
       " ('postzegel', 1508),\n",
       " ('nemen', 1507),\n",
       " ('inclusief', 1505),\n",
       " ('kost', 1499),\n",
       " ('telex', 1499),\n",
       " ('geldt', 1497),\n",
       " ('programma', 1497),\n",
       " ('enige', 1481),\n",
       " ('kinderen', 1478),\n",
       " ('misschien', 1475),\n",
       " ('bieden', 1470),\n",
       " ('daarbij', 1467),\n",
       " ('waarom', 1465),\n",
       " ('houden', 1463),\n",
       " ('strekt', 1463),\n",
       " ('geheel', 1458),\n",
       " ('betaalt', 1457),\n",
       " ('lekker', 1456),\n",
       " ('vinden', 1447),\n",
       " ('iedere', 1440),\n",
       " ('paar', 1440),\n",
       " ('blijven', 1434),\n",
       " ('toekomst', 1433),\n",
       " ('manier', 1429),\n",
       " ('volledig', 1423),\n",
       " ('donderdag', 1421),\n",
       " ('sparen', 1413),\n",
       " ('modellen', 1412),\n",
       " ('alfa', 1410),\n",
       " ('kans', 1408),\n",
       " ('bedrijfsleven', 1405),\n",
       " ('waarmee', 1403),\n",
       " ('waarin', 1397),\n",
       " ('kantoor', 1396),\n",
       " ('neem', 1393),\n",
       " ('koop', 1387),\n",
       " ('laatste', 1384),\n",
       " ('werkt', 1382),\n",
       " ('zoekt', 1367),\n",
       " ('voordelen', 1366),\n",
       " ('zodat', 1363),\n",
       " ('houdt', 1360),\n",
       " ('treffer', 1358),\n",
       " ('nummer', 1356),\n",
       " ('zowel', 1356),\n",
       " ('maanden', 1353),\n",
       " ('rood', 1353),\n",
       " ('kleur', 1346),\n",
       " ('financiële', 1334),\n",
       " ('vaste', 1334),\n",
       " ('proefrit', 1333),\n",
       " ('uitvoering', 1332),\n",
       " ('excl', 1331),\n",
       " ('veiligheid', 1331),\n",
       " ('bijna', 1329),\n",
       " ('toyota', 1329),\n",
       " ('direct', 1325),\n",
       " ('toestel', 1323),\n",
       " ('nationale', 1317),\n",
       " ('zorgen', 1311),\n",
       " ('pagina', 1308),\n",
       " ('genoeg', 1307),\n",
       " ('koffie', 1304),\n",
       " ('straks', 1303),\n",
       " ('zult', 1301),\n",
       " ('dagelijks', 1296),\n",
       " ('kennis', 1294),\n",
       " ('financiering', 1287),\n",
       " ('hand', 1285),\n",
       " ('terwijl', 1284),\n",
       " ('ervaring', 1280),\n",
       " ('gelden', 1277),\n",
       " ('enkele', 1276),\n",
       " ('vrij', 1276),\n",
       " ('benzine', 1274),\n",
       " ('citroën', 1274),\n",
       " ('zullen', 1272),\n",
       " ('behalve', 1271),\n",
       " ('best', 1271),\n",
       " ('juiste', 1271),\n",
       " ('computers', 1268),\n",
       " ('x', 1268),\n",
       " ('namelijk', 1266),\n",
       " ('vóór', 1264),\n",
       " ('eerst', 1259),\n",
       " ('april', 1258),\n",
       " ('deel', 1256),\n",
       " ('krant', 1256),\n",
       " ('moderne', 1256),\n",
       " ('zeggen', 1255),\n",
       " ('kantoren', 1252),\n",
       " ('neemt', 1249),\n",
       " ('tijdens', 1249),\n",
       " ('denkt', 1247),\n",
       " ('ander', 1246),\n",
       " ('maak', 1246),\n",
       " ('bijzonder', 1242),\n",
       " ('speciaal', 1241),\n",
       " ('leverbaar', 1233),\n",
       " ('glas', 1232),\n",
       " ('moment', 1230),\n",
       " ('risico', 1226),\n",
       " ('uiterst', 1216),\n",
       " ('verpakt', 1214),\n",
       " ('kent', 1210),\n",
       " ('maart', 1208),\n",
       " ('mooi', 1204),\n",
       " ('super', 1202),\n",
       " ('centraal', 1199),\n",
       " ('vrijdag', 1195),\n",
       " ('kijk', 1187),\n",
       " ('overal', 1184),\n",
       " ('voorzien', 1181),\n",
       " ('coupon', 1178),\n",
       " ('audi', 1176),\n",
       " ('dezelfde', 1176),\n",
       " ('vragen', 1176),\n",
       " ('keus', 1172),\n",
       " ('terug', 1170),\n",
       " ('afleveringskosten', 1167),\n",
       " ('deur', 1167),\n",
       " ('naast', 1164),\n",
       " ('boekhandel', 1161),\n",
       " ('nederlands', 1156),\n",
       " ('advies', 1154),\n",
       " ('kiest', 1154),\n",
       " ('oktober', 1138),\n",
       " ('echte', 1136),\n",
       " ('waardoor', 1133),\n",
       " ('wensen', 1131),\n",
       " ('december', 1128),\n",
       " ('model', 1128),\n",
       " ('europese', 1123),\n",
       " ('weinig', 1121),\n",
       " ('eigenlijk', 1118),\n",
       " ('automatisch', 1117),\n",
       " ('centrum', 1116),\n",
       " ('zorgt', 1115),\n",
       " ('beheer', 1114),\n",
       " ('korte', 1114),\n",
       " ('techniek', 1113),\n",
       " ('centrale', 1109),\n",
       " ('vorm', 1107),\n",
       " ('basis', 1106),\n",
       " ('zitten', 1105),\n",
       " ('organisatie', 1097),\n",
       " ('smaak', 1097),\n",
       " ('helpen', 1095),\n",
       " ('helemaal', 1094),\n",
       " ('mercedes', 1090),\n",
       " ('hoogte', 1084),\n",
       " ('tijdelijk', 1084),\n",
       " ('rijdt', 1082),\n",
       " ('amerika', 1078),\n",
       " ('wijzigingen', 1077),\n",
       " ('denken', 1075),\n",
       " ('zekerheid', 1072),\n",
       " ('systemen', 1070),\n",
       " ('premie', 1066),\n",
       " ('vermogen', 1066),\n",
       " ('vijf', 1065),\n",
       " ('volgende', 1061),\n",
       " ('witte', 1061),\n",
       " ('kijken', 1060),\n",
       " ('aanbiedingen', 1056),\n",
       " ('kortom', 1055),\n",
       " ('langs', 1052),\n",
       " ('dankzij', 1050),\n",
       " ('januari', 1049),\n",
       " ('geval', 1048),\n",
       " ('importeur', 1042),\n",
       " ('vestigingen', 1039),\n",
       " ('groningen', 1037),\n",
       " ('business', 1036),\n",
       " ('rendement', 1033),\n",
       " ('duidelijk', 1032),\n",
       " ('ieder', 1029),\n",
       " ('waarbij', 1029),\n",
       " ('doos', 1025),\n",
       " ('cijfers', 1024),\n",
       " ('interieur', 1022),\n",
       " ('korting', 1016),\n",
       " ('markt', 1013),\n",
       " ('licht', 1011),\n",
       " ('klein', 1009),\n",
       " ('belt', 1007),\n",
       " ('aanbod', 1006),\n",
       " ('september', 1005),\n",
       " ('makkelijk', 1003),\n",
       " ('management', 1000),\n",
       " ('welkom', 992),\n",
       " ('uitgebreide', 988),\n",
       " ('oude', 984),\n",
       " ('pensioen', 982),\n",
       " ('brengt', 979),\n",
       " ('sportieve', 978),\n",
       " ('data', 975),\n",
       " ('veilig', 975),\n",
       " ('belangrijke', 974),\n",
       " ('prestaties', 974),\n",
       " ('huismerk', 973),\n",
       " ('international', 972),\n",
       " ('sinds', 971),\n",
       " ('vanuit', 971),\n",
       " ('totaal', 966),\n",
       " ('rode', 965),\n",
       " ('personal', 962),\n",
       " ('november', 961),\n",
       " ('snelle', 960),\n",
       " ('beide', 956),\n",
       " ('produkten', 954),\n",
       " ('juist', 953),\n",
       " ('noemen', 953),\n",
       " ('winkel', 952),\n",
       " ('echter', 951),\n",
       " ('belangrijk', 950),\n",
       " ('verstelbare', 950),\n",
       " ('heer', 949),\n",
       " ('persoonlijke', 949),\n",
       " ('laag', 946),\n",
       " ('opnemen', 942),\n",
       " ('lijn', 941),\n",
       " ('siemens', 941),\n",
       " ('buiten', 939),\n",
       " ('postgiro', 939),\n",
       " ('contact', 936),\n",
       " ('brede', 932),\n",
       " ('folder', 931),\n",
       " ('turbo', 931),\n",
       " ('boek', 929),\n",
       " ('mooie', 929),\n",
       " ('leer', 928),\n",
       " ('gouden', 925),\n",
       " ('verzekeringen', 925),\n",
       " ('bruin', 924),\n",
       " ('samenwerking', 924),\n",
       " ('vliegt', 924),\n",
       " ('ontwikkeling', 923),\n",
       " ('morgen', 921),\n",
       " ('immers', 919),\n",
       " ('wonen', 919),\n",
       " ('aanbieding', 918),\n",
       " ('aantrekkelijke', 917),\n",
       " ('postbank', 915),\n",
       " ('sturen', 914),\n",
       " ('plan', 913),\n",
       " ('combinatie', 912),\n",
       " ('volgens', 912),\n",
       " ('breed', 911),\n",
       " ('half', 911),\n",
       " ('juni', 911),\n",
       " ('banken', 909),\n",
       " ('complete', 906),\n",
       " ('ontvangt', 903),\n",
       " ('beeld', 902),\n",
       " ('holland', 902),\n",
       " ('brengen', 901),\n",
       " ('volle', 901),\n",
       " ('medewerkers', 900),\n",
       " ('reizen', 899),\n",
       " ('betreft', 898),\n",
       " ('blauw', 897),\n",
       " ('ruime', 895),\n",
       " ('maandag', 890),\n",
       " ('afspraak', 889),\n",
       " ('londen', 889),\n",
       " ('verzekerd', 889),\n",
       " ('daarmee', 888),\n",
       " ('soms', 888),\n",
       " ('succes', 887),\n",
       " ('aandacht', 884),\n",
       " ('dealers', 884),\n",
       " ('shell', 884),\n",
       " ('terecht', 881),\n",
       " ('mode', 880),\n",
       " ('york', 879),\n",
       " ('meeste', 878),\n",
       " ('beginnen', 876),\n",
       " ('koopt', 876),\n",
       " ('problemen', 874),\n",
       " ('maat', 873),\n",
       " ('sterk', 872),\n",
       " ('bekleding', 870),\n",
       " ('oplossing', 869),\n",
       " ('eisen', 868),\n",
       " ('zaak', 868),\n",
       " ('jonge', 867),\n",
       " ('uiteraard', 866),\n",
       " ('uitgerust', 866),\n",
       " ('cent', 865),\n",
       " ('gravenhage', 863),\n",
       " ('polyester', 863),\n",
       " ('boven', 862),\n",
       " ('resultaat', 862),\n",
       " ('dingen', 860),\n",
       " ('merk', 859),\n",
       " ('reden', 858),\n",
       " ('sedan', 858),\n",
       " ('betere', 857),\n",
       " ('software', 857),\n",
       " ('weken', 857),\n",
       " ('voorbeeld', 856),\n",
       " ('opsturen', 855),\n",
       " ('groen', 854),\n",
       " ('industrie', 854),\n",
       " ('boekje', 853),\n",
       " ('diepvries', 851),\n",
       " ('sneller', 850),\n",
       " ('soorten', 848),\n",
       " ('compleet', 846),\n",
       " ('merken', 846),\n",
       " ('xerox', 846),\n",
       " ('bijzondere', 841),\n",
       " ('tweede', 841),\n",
       " ('zenden', 835),\n",
       " ('bestaat', 834),\n",
       " ('plezier', 832),\n",
       " ('algemeen', 831),\n",
       " ('leasing', 831),\n",
       " ('midden', 831),\n",
       " ('class', 830),\n",
       " ('lezers', 830),\n",
       " ('zorg', 828),\n",
       " ('reis', 826),\n",
       " ('gemakkelijk', 824),\n",
       " ('voordelig', 824),\n",
       " ('uitstekende', 823),\n",
       " ('lease', 822),\n",
       " ('kadett', 820),\n",
       " ('onderneming', 819),\n",
       " ('apparatuur', 816),\n",
       " ('haarlem', 815),\n",
       " ('rijksweg', 815),\n",
       " ('verzekering', 814),\n",
       " ('nadere', 813),\n",
       " ('eenvoudig', 812),\n",
       " ('niemand', 811),\n",
       " ('huidige', 809),\n",
       " ('internationaal', 807),\n",
       " ('delta', 805),\n",
       " ('vers', 805),\n",
       " ('reisbureau', 804),\n",
       " ('franse', 803),\n",
       " ('stad', 802),\n",
       " ('wijn', 801),\n",
       " ('zakelijk', 799),\n",
       " ('zuid', 799),\n",
       " ('overigens', 798),\n",
       " ('maatschappij', 796),\n",
       " ('rond', 796),\n",
       " ('voorwaarden', 796),\n",
       " ('dinsdag', 795),\n",
       " ('helpt', 795),\n",
       " ('later', 794),\n",
       " ('halen', 793),\n",
       " ('bekende', 792),\n",
       " ('waarde', 792),\n",
       " ('zuinig', 791),\n",
       " ('daardoor', 789),\n",
       " ('langer', 789),\n",
       " ('singapore', 788),\n",
       " ('benz', 787),\n",
       " ('kant', 786),\n",
       " ('visa', 786),\n",
       " ('motoren', 785),\n",
       " ('ooit', 785),\n",
       " ('huur', 784),\n",
       " ('daarvoor', 783),\n",
       " ('begint', 779),\n",
       " ('levert', 779),\n",
       " ('technische', 778),\n",
       " ('vluchten', 778),\n",
       " ('rekenen', 777),\n",
       " ('begin', 776),\n",
       " ('woonplaats', 776),\n",
       " ('daarnaast', 775),\n",
       " ('stijl', 775),\n",
       " ('beschikt', 774),\n",
       " ('stoelen', 772),\n",
       " ('niveau', 770),\n",
       " ('direkt', 769),\n",
       " ('leren', 769),\n",
       " ('liggen', 769),\n",
       " ('bekend', 768),\n",
       " ('foto', 767),\n",
       " ('prima', 764),\n",
       " ('uitvoeringen', 761),\n",
       " ('hart', 760),\n",
       " ('woensdag', 760),\n",
       " ('canon', 759),\n",
       " ('straat', 757),\n",
       " ('plaatsen', 754),\n",
       " ('waard', 754),\n",
       " ('energie', 753),\n",
       " ('mazda', 750),\n",
       " ('papier', 750),\n",
       " ('wijze', 750),\n",
       " ('hoek', 749),\n",
       " ('zetten', 749),\n",
       " ('automatische', 748),\n",
       " ('automatisering', 748),\n",
       " ('makelaars', 748),\n",
       " ('looptijd', 745),\n",
       " ('uniek', 745),\n",
       " ('weekeditie', 745),\n",
       " ('zuiver', 745),\n",
       " ('radio', 744),\n",
       " ('waarvan', 744),\n",
       " ('stap', 743),\n",
       " ('algemene', 742),\n",
       " ('beetje', 742),\n",
       " ('hetzelfde', 741),\n",
       " ('leiden', 741),\n",
       " ('stellen', 741),\n",
       " ('showroom', 737),\n",
       " ('vandaar', 737),\n",
       " ('vraagt', 736),\n",
       " ('bereikt', 734),\n",
       " ('kracht', 734),\n",
       " ('vliegen', 734),\n",
       " ('belangrijkste', 733),\n",
       " ('kaas', 731),\n",
       " ('nuance', 731),\n",
       " ('gunstige', 729),\n",
       " ('nieuwste', 729),\n",
       " ('breda', 726),\n",
       " ('l', 726),\n",
       " ('team', 726),\n",
       " ('geldig', 721),\n",
       " ('boeken', 720),\n",
       " ('voldoende', 720),\n",
       " ('meter', 719),\n",
       " ('kopieën', 716),\n",
       " ('ontwikkelingen', 716),\n",
       " ('puur', 716),\n",
       " ('past', 714),\n",
       " ('rubriek', 712),\n",
       " ('fijne', 711),\n",
       " ('verre', 707),\n",
       " ('hoort', 706),\n",
       " ('overh', 706),\n",
       " ('ideale', 705),\n",
       " ('valt', 704),\n",
       " ('vrijwel', 704),\n",
       " ('vrouw', 703),\n",
       " ('voortaan', 701),\n",
       " ('fraaie', 700),\n",
       " ('geworden', 700),\n",
       " ('dienst', 698),\n",
       " ('spaarrekening', 697),\n",
       " ('liever', 696),\n",
       " ('uitsluitend', 696),\n",
       " ('loopt', 695),\n",
       " ('gemak', 694),\n",
       " ('leveren', 694),\n",
       " ('stelt', 694),\n",
       " ('onderhoud', 692),\n",
       " ('beurs', 690),\n",
       " ('gezien', 689),\n",
       " ('zegt', 689),\n",
       " ('mens', 688),\n",
       " ('cijfertjes', 687),\n",
       " ('pakket', 687),\n",
       " ('gids', 686),\n",
       " ('gegevens', 684),\n",
       " ('genieten', 684),\n",
       " ('vertellen', 684),\n",
       " ('giro', 683),\n",
       " ('praten', 683),\n",
       " ('gebruiken', 681),\n",
       " ('pakje', 680),\n",
       " ('eenmaal', 679),\n",
       " ('hotel', 679),\n",
       " ('stuurt', 679),\n",
       " ('verkoop', 679),\n",
       " ('exclusieve', 678),\n",
       " ('katoenen', 677),\n",
       " ('comfortabel', 675),\n",
       " ('kort', 675),\n",
       " ('aankoop', 674),\n",
       " ('idee', 674),\n",
       " ('mees', 673),\n",
       " ('onroerend', 673),\n",
       " ('ongefrankeerde', 672),\n",
       " ('normale', 671),\n",
       " ('rechtstreeks', 671),\n",
       " ('tenslotte', 671),\n",
       " ('club', 670),\n",
       " ('totale', 670),\n",
       " ('wagen', 670),\n",
       " ('beleggen', 665),\n",
       " ('probleem', 663),\n",
       " ('stereo', 663),\n",
       " ('collectie', 662),\n",
       " ('interessant', 662),\n",
       " ('tekst', 662),\n",
       " ('recht', 659),\n",
       " ('gevoel', 658),\n",
       " ('maastricht', 658),\n",
       " ('blad', 657),\n",
       " ('geavanceerde', 657),\n",
       " ('optimaal', 657),\n",
       " ('waarop', 657),\n",
       " ('situatie', 656),\n",
       " ('afgebeeld', 655),\n",
       " ('juli', 655),\n",
       " ('treffers', 655),\n",
       " ('voordelige', 655),\n",
       " ('miljard', 654),\n",
       " ('naturel', 653),\n",
       " ('mooiste', 650),\n",
       " ('snelheid', 649),\n",
       " ('delen', 648),\n",
       " ('type', 648),\n",
       " ('mogen', 647),\n",
       " ('komfort', 646),\n",
       " ('mogelijkheid', 645),\n",
       " ('trouwens', 645),\n",
       " ('betrouwbaar', 644),\n",
       " ('hoeveel', 644),\n",
       " ('geschikt', 643),\n",
       " ('grotere', 642),\n",
       " ('tien', 642),\n",
       " ('verzekeringsadviseur', 641),\n",
       " ('belang', 640),\n",
       " ('beschikbaar', 640),\n",
       " ('vormen', 637),\n",
       " ('frankrijk', 636),\n",
       " ('sport', 635),\n",
       " ('cadeau', 634),\n",
       " ('guldens', 634),\n",
       " ('optimale', 633),\n",
       " ('februari', 632),\n",
       " ('lufthansa', 632),\n",
       " ('groei', 631),\n",
       " ('leuk', 631),\n",
       " ('leuke', 629),\n",
       " ('start', 629),\n",
       " ('eerder', 628),\n",
       " ('stand', 627),\n",
       " ('zouden', 627),\n",
       " ('water', 626),\n",
       " ('uitgebreid', 625),\n",
       " ('flacon', 624),\n",
       " ('kompleet', 624),\n",
       " ('specialisten', 624),\n",
       " ('zoek', 624),\n",
       " ('blijkt', 623),\n",
       " ('privé', 623),\n",
       " ('abonnement', 622),\n",
       " ('geopend', 622),\n",
       " ('grond', 621),\n",
       " ('haal', 620),\n",
       " ('adviseur', 619),\n",
       " ('gelukkig', 619),\n",
       " ('karakter', 619),\n",
       " ('video', 619),\n",
       " ('saab', 618),\n",
       " ('milieu', 615),\n",
       " ('gewenste', 614),\n",
       " ('bosch', 611),\n",
       " ('bureau', 610),\n",
       " ('praktijk', 610),\n",
       " ('bestemmingen', 609),\n",
       " ('telecommunicatie', 609),\n",
       " ('film', 608),\n",
       " ('albert', 607),\n",
       " ('gesloten', 607),\n",
       " ('bouwen', 606),\n",
       " ('kleintjes', 606),\n",
       " ('lucht', 606),\n",
       " ('marine', 606),\n",
       " ('westblaak', 606),\n",
       " ('koopavond', 604),\n",
       " ('stichting', 604),\n",
       " ('vlees', 604),\n",
       " ('gewone', 603),\n",
       " ('ervoor', 602),\n",
       " ('escort', 601),\n",
       " ('miele', 600),\n",
       " ('rondom', 599),\n",
       " ('geef', 598),\n",
       " ('zomer', 598),\n",
       " ('elektronische', 597),\n",
       " ('kennen', 597),\n",
       " ('lands', 596),\n",
       " ('schiphol', 596),\n",
       " ('aandelen', 595),\n",
       " ('comfortabele', 595),\n",
       " ('tevens', 595),\n",
       " ('wegligging', 595),\n",
       " ('maximaal', 594),\n",
       " ('prachtige', 594),\n",
       " ('minuten', 593),\n",
       " ('kaart', 591),\n",
       " ('tafel', 591),\n",
       " ('getint', 590),\n",
       " ('lopen', 590),\n",
       " ('nederlanders', 590),\n",
       " ('zoeken', 590),\n",
       " ('filter', 589),\n",
       " ('antwoord', 588),\n",
       " ('goedkoper', 588),\n",
       " ('hilversum', 588),\n",
       " ('ontvangen', 588),\n",
       " ('spaar', 588),\n",
       " ('zondag', 588),\n",
       " ('nederlanden', 587),\n",
       " ('onderwijs', 587),\n",
       " ('soepel', 586),\n",
       " ('binnenkort', 582),\n",
       " ('geniet', 582),\n",
       " ('apeldoorn', 581),\n",
       " ('dank', 581),\n",
       " ('groene', 579),\n",
       " ('kunst', 579),\n",
       " ('medium', 579),\n",
       " ('klanten', 578),\n",
       " ('banden', 577),\n",
       " ('aantrekkelijk', 575),\n",
       " ('adviesprijs', 575),\n",
       " ('airlines', 575),\n",
       " ('buurt', 574),\n",
       " ('hoofdkantoor', 574),\n",
       " ('binnenuit', 573),\n",
       " ('fijn', 573),\n",
       " ('schiedam', 573),\n",
       " ('lezen', 572),\n",
       " ('handen', 571),\n",
       " ('netwerk', 571),\n",
       " ('zwolle', 571),\n",
       " ('lijkt', 570),\n",
       " ('r', 570),\n",
       " ('beschikken', 568),\n",
       " ('british', 568),\n",
       " ('vormgeving', 568),\n",
       " ('bestaande', 567),\n",
       " ('gehele', 567),\n",
       " ('partner', 567),\n",
       " ('corolla', 566),\n",
       " ('heen', 565),\n",
       " ('bereikbaar', 564),\n",
       " ('hoofd', 564),\n",
       " ('ontwikkeld', 564),\n",
       " ('economische', 563),\n",
       " ('document', 562),\n",
       " ('losse', 562),\n",
       " ('volkswagen', 560),\n",
       " ('gauw', 559),\n",
       " ('hulp', 559),\n",
       " ('robeco', 559),\n",
       " ('verwachten', 559),\n",
       " ('zakelijke', 558),\n",
       " ('aanvragen', 557),\n",
       " ('card', 557),\n",
       " ('daarvan', 557),\n",
       " ('avonds', 555),\n",
       " ('bouw', 555),\n",
       " ('vrijblijvend', 555),\n",
       " ('financieel', 554),\n",
       " ('kruidenier', 554),\n",
       " ('autobedrijf', 553),\n",
       " ('vanzelfsprekend', 553),\n",
       " ('volop', 553),\n",
       " ('enschede', 552),\n",
       " ('gebouwd', 552),\n",
       " ('post', 552),\n",
       " ('royale', 552),\n",
       " ('uitstekend', 552),\n",
       " ('augustus', 551),\n",
       " ('bier', 550),\n",
       " ('grijs', 550),\n",
       " ('natuur', 550),\n",
       " ('profiteren', 549),\n",
       " ('wilde', 549),\n",
       " ('ondernemer', 547),\n",
       " ('onderstaande', 546),\n",
       " ('warm', 545),\n",
       " ('winst', 545),\n",
       " ('bestaan', 544),\n",
       " ('pierson', 544),\n",
       " ('band', 543),\n",
       " ('gesneden', 543),\n",
       " ('inhoud', 543),\n",
       " ('mocht', 543),\n",
       " ('nogal', 543),\n",
       " ('rijkspostspaarbank', 543),\n",
       " ('verschil', 541),\n",
       " ('chrysler', 538),\n",
       " ('opnieuw', 538),\n",
       " ('groter', 537),\n",
       " ('tarieven', 537),\n",
       " ('zend', 537),\n",
       " ('gebruikt', 536),\n",
       " ('sterke', 536),\n",
       " ('beige', 535),\n",
       " ('kies', 534),\n",
       " ('koninklijke', 534),\n",
       " ('noord', 534),\n",
       " ('dessins', 533),\n",
       " ('rover', 533),\n",
       " ('sportief', 533),\n",
       " ('advertenties', 532),\n",
       " ('boord', 532),\n",
       " ('eigenschappen', 532),\n",
       " ('oosten', 532),\n",
       " ('wachten', 531),\n",
       " ('spaardeposito', 529),\n",
       " ('toepassing', 529),\n",
       " ('links', 528),\n",
       " ('rotterdamse', 528),\n",
       " ('werkelijk', 526),\n",
       " ('omgeving', 524),\n",
       " ('informeren', 523),\n",
       " ('rank', 523),\n",
       " ('spelen', 522),\n",
       " ('invullen', 520),\n",
       " ('lening', 519),\n",
       " ('communicatie', 517),\n",
       " ('courant', 517),\n",
       " ('feit', 517),\n",
       " ('diensten', 516),\n",
       " ('doosje', 516),\n",
       " ('prins', 516),\n",
       " ('hoogste', 515),\n",
       " ('volledige', 515),\n",
       " ('allerlei', 514),\n",
       " ('hard', 514),\n",
       " ('honda', 514),\n",
       " ('bepaald', 512),\n",
       " ('heijn', 512),\n",
       " ('horen', 512),\n",
       " ('eind', 511),\n",
       " ('halve', 511),\n",
       " ('motors', 511),\n",
       " ('hypotheekbank', 510),\n",
       " ('perfect', 510),\n",
       " ('duitsland', 509),\n",
       " ('moeite', 509),\n",
       " ('druk', 508),\n",
       " ('specifieke', 508),\n",
       " ('stoel', 508),\n",
       " ('automaat', 507),\n",
       " ('fonds', 507),\n",
       " ('beperkt', 506),\n",
       " ('handige', 506),\n",
       " ('nummers', 506),\n",
       " ('stop', 506),\n",
       " ('teer', 506),\n",
       " ('woord', 506),\n",
       " ('gevallen', 505),\n",
       " ('versnellingsbak', 505),\n",
       " ('weekend', 505),\n",
       " ('dichtstbijzijnde', 504),\n",
       " ('ondernemers', 504),\n",
       " ('sherry', 504),\n",
       " ('gezin', 503),\n",
       " ('rechts', 503),\n",
       " ('termijn', 503),\n",
       " ('bron', 502),\n",
       " ('daarna', 502),\n",
       " ('gesprek', 502),\n",
       " ('grafische', 502),\n",
       " ('tilburg', 502),\n",
       " ('zichzelf', 502),\n",
       " ...]"
      ]
     },
     "execution_count": 124,
     "metadata": {},
     "output_type": "execute_result"
    }
   ],
   "source": [
    "freq_dist(df4['ocr'], 2500)"
   ]
  },
  {
   "cell_type": "code",
   "execution_count": 53,
   "metadata": {
    "collapsed": false,
    "scrolled": false
   },
   "outputs": [
    {
     "data": {
      "text/plain": [
       "date\n",
       "1970-10-23    http://imageviewer.kb.nl/ImagingService/imagingService?id=KBNRC01:000032931:mpeg21:p027:image&x=122&y=3461&w=4639&h=3522\n",
       "1970-10-27    http://imageviewer.kb.nl/ImagingService/imagingService?id=KBNRC01:000032934:mpeg21:p010:image&x=265&y=3943&w=4630&h=2996\n",
       "1970-10-31    http://imageviewer.kb.nl/ImagingService/imagingService?id=KBNRC01:000032938:mpeg21:p012:image&x=62&y=146&w=4862&h=6923  \n",
       "1970-11-05    http://imageviewer.kb.nl/ImagingService/imagingService?id=KBNRC01:000032450:mpeg21:p016:image&x=613&y=4176&w=4253&h=2845\n",
       "1970-11-10    http://imageviewer.kb.nl/ImagingService/imagingService?id=KBNRC01:000032454:mpeg21:p008:image&x=123&y=4008&w=4723&h=2977\n",
       "1970-11-12    http://imageviewer.kb.nl/ImagingService/imagingService?id=KBNRC01:000032456:mpeg21:p034:image&x=162&y=208&w=4715&h=6800 \n",
       "1970-12-05    http://imageviewer.kb.nl/ImagingService/imagingService?id=KBNRC01:000032401:mpeg21:p025:image&x=79&y=485&w=4594&h=4821  \n",
       "1970-12-08    http://imageviewer.kb.nl/ImagingService/imagingService?id=KBNRC01:000032403:mpeg21:p016:image&x=162&y=346&w=4715&h=3023 \n",
       "1970-12-15    http://imageviewer.kb.nl/ImagingService/imagingService?id=KBNRC01:000032409:mpeg21:p028:image&x=123&y=177&w=4761&h=6700 \n",
       "1970-12-19    http://imageviewer.kb.nl/ImagingService/imagingService?id=KBNRC01:000032413:mpeg21:p014:image&x=131&y=3346&w=4800&h=3846\n",
       "1970-12-24    http://imageviewer.kb.nl/ImagingService/imagingService?id=KBNRC01:000032417:mpeg21:p014:image&x=189&y=1533&w=3333&h=5456\n",
       "1970-12-30    http://imageviewer.kb.nl/ImagingService/imagingService?id=KBNRC01:000032420:mpeg21:p024:image&x=54&y=146&w=4831&h=6877  \n",
       "1970-12-31    http://imageviewer.kb.nl/ImagingService/imagingService?id=KBNRC01:000032421:mpeg21:p019:image&x=69&y=554&w=4723&h=6554  \n",
       "1971-01-13    http://imageviewer.kb.nl/ImagingService/imagingService?id=KBNRC01:000031452:mpeg21:p004:image&x=150&y=4124&w=4168&h=2959\n",
       "1971-01-25    http://imageviewer.kb.nl/ImagingService/imagingService?id=KBNRC01:000031471:mpeg21:p018:image&x=62&y=146&w=4577&h=6638  \n",
       "1971-01-30    http://imageviewer.kb.nl/ImagingService/imagingService?id=KBNRC01:000031486:mpeg21:p029:image&x=157&y=1964&w=4393&h=4807\n",
       "1971-02-15    http://imageviewer.kb.nl/ImagingService/imagingService?id=KBNRC01:000031510:mpeg21:p008:image&x=133&y=179&w=4604&h=6392 \n",
       "1971-02-25    http://imageviewer.kb.nl/ImagingService/imagingService?id=KBNRC01:000031520:mpeg21:p008:image&x=396&y=417&w=4400&h=6452 \n",
       "1971-02-26    http://imageviewer.kb.nl/ImagingService/imagingService?id=KBNRC01:000031521:mpeg21:p014:image&x=667&y=4983&w=4167&h=1967\n",
       "1971-02-27    http://imageviewer.kb.nl/ImagingService/imagingService?id=KBNRC01:000031522:mpeg21:p010:image&x=150&y=157&w=4671&h=6293 \n",
       "1971-03-02    http://imageviewer.kb.nl/ImagingService/imagingService?id=KBNRC01:000032355:mpeg21:p024:image&x=286&y=507&w=4479&h=6357 \n",
       "1971-03-17    http://imageviewer.kb.nl/ImagingService/imagingService?id=KBNRC01:000032370:mpeg21:p003:image&x=100&y=5074&w=4542&h=1889\n",
       "1971-03-19    http://imageviewer.kb.nl/ImagingService/imagingService?id=KBNRC01:000032422:mpeg21:p010:image&x=683&y=4893&w=4028&h=1989\n",
       "1971-03-20    http://imageviewer.kb.nl/ImagingService/imagingService?id=KBNRC01:000032600:mpeg21:p013:image&x=50&y=5076&w=4641&h=1888 \n",
       "1971-04-08    http://imageviewer.kb.nl/ImagingService/imagingService?id=KBNRC01:000033372:mpeg21:p028:image&x=1252&y=390&w=3459&h=5086\n",
       "1971-04-13    http://imageviewer.kb.nl/ImagingService/imagingService?id=KBNRC01:000033380:mpeg21:p022:image&x=184&y=526&w=3768&h=6395 \n",
       "1971-05-18    http://imageviewer.kb.nl/ImagingService/imagingService?id=KBNRC01:000031369:mpeg21:p015:image&x=38&y=4912&w=4592&h=1875 \n",
       "1971-05-25    http://imageviewer.kb.nl/ImagingService/imagingService?id=KBNRC01:000031399:mpeg21:p020:image&x=211&y=2058&w=4400&h=4653\n",
       "1971-05-28    http://imageviewer.kb.nl/ImagingService/imagingService?id=KBNRC01:000031428:mpeg21:p012:image&x=643&y=321&w=4029&h=1964 \n",
       "1971-06-09    http://imageviewer.kb.nl/ImagingService/imagingService?id=KBNRC01:000031538:mpeg21:p006:image&x=36&y=136&w=4607&h=6629  \n",
       "                                                                       ...                                                            \n",
       "1994-06-18    http://imageviewer.kb.nl/ImagingService/imagingService?id=KBNRC01:000031194:mpeg21:p040:image&x=207&y=121&w=4636&h=6636 \n",
       "1994-06-22    http://imageviewer.kb.nl/ImagingService/imagingService?id=KBNRC01:000031197:mpeg21:p024:image&x=179&y=21&w=4614&h=6536  \n",
       "1994-06-27    http://imageviewer.kb.nl/ImagingService/imagingService?id=KBNRC01:000031203:mpeg21:p014:image&x=0&y=100&w=4836&h=6657   \n",
       "1994-06-28    http://imageviewer.kb.nl/ImagingService/imagingService?id=KBNRC01:000031204:mpeg21:p014:image&x=79&y=71&w=4700&h=6664   \n",
       "1994-06-30    http://imageviewer.kb.nl/ImagingService/imagingService?id=KBNRC01:000031206:mpeg21:p018:image&x=64&y=171&w=4743&h=6579  \n",
       "1994-07-16    http://imageviewer.kb.nl/ImagingService/imagingService?id=KBNRC01:000031137:mpeg21:p028:image&x=221&y=495&w=3226&h=3763 \n",
       "1994-08-02    http://imageviewer.kb.nl/ImagingService/imagingService?id=KBNRC01:000031089:mpeg21:p015:image&x=121&y=1429&w=4679&h=5291\n",
       "1994-09-05    http://imageviewer.kb.nl/ImagingService/imagingService?id=KBNRC01:000030942:mpeg21:p018:image&x=145&y=138&w=4652&h=6428 \n",
       "1994-09-20    http://imageviewer.kb.nl/ImagingService/imagingService?id=KBNRC01:000030955:mpeg21:p015:image&x=107&y=71&w=4693&h=6714  \n",
       "1994-09-21    http://imageviewer.kb.nl/ImagingService/imagingService?id=KBNRC01:000030956:mpeg21:p014:image&x=153&y=142&w=4668&h=6505 \n",
       "1994-10-04    http://imageviewer.kb.nl/ImagingService/imagingService?id=KBNRC01:000030873:mpeg21:p012:image&x=121&y=3438&w=4668&h=3294\n",
       "1994-10-07    http://imageviewer.kb.nl/ImagingService/imagingService?id=KBNRC01:000030877:mpeg21:p010:image&x=100&y=150&w=4747&h=6707 \n",
       "1994-10-08    http://imageviewer.kb.nl/ImagingService/imagingService?id=KBNRC01:000030878:mpeg21:p006:image&x=42&y=100&w=4695&h=3321  \n",
       "1994-10-11    http://imageviewer.kb.nl/ImagingService/imagingService?id=KBNRC01:000030880:mpeg21:p024:image&x=114&y=79&w=4671&h=6636  \n",
       "1994-10-15    http://imageviewer.kb.nl/ImagingService/imagingService?id=KBNRC01:000030884:mpeg21:p010:image&x=166&y=228&w=3286&h=6428 \n",
       "1994-10-15    http://imageviewer.kb.nl/ImagingService/imagingService?id=KBNRC01:000030884:mpeg21:p026:image&x=141&y=3416&w=4638&h=3205\n",
       "1994-10-25    http://imageviewer.kb.nl/ImagingService/imagingService?id=KBNRC01:000030896:mpeg21:p014:image&x=68&y=58&w=4726&h=6658   \n",
       "1994-10-25    http://imageviewer.kb.nl/ImagingService/imagingService?id=KBNRC01:000030896:mpeg21:p020:image&x=75&y=321&w=4688&h=6312  \n",
       "1994-11-05    http://imageviewer.kb.nl/ImagingService/imagingService?id=KBNRC01:000030846:mpeg21:p023:image&x=93&y=129&w=4743&h=6629  \n",
       "1994-11-07    http://imageviewer.kb.nl/ImagingService/imagingService?id=KBNRC01:000030847:mpeg21:p008:image&x=105&y=2637&w=3479&h=4111\n",
       "1994-11-09    http://imageviewer.kb.nl/ImagingService/imagingService?id=KBNRC01:000030849:mpeg21:p022:image&x=72&y=92&w=4751&h=6544   \n",
       "1994-11-15    http://imageviewer.kb.nl/ImagingService/imagingService?id=KBNRC01:000030855:mpeg21:p014:image&x=144&y=153&w=4666&h=6554 \n",
       "1994-11-17    http://imageviewer.kb.nl/ImagingService/imagingService?id=KBNRC01:000030857:mpeg21:p026:image&x=47&y=42&w=4689&h=6695   \n",
       "1994-11-17    http://imageviewer.kb.nl/ImagingService/imagingService?id=KBNRC01:000030857:mpeg21:p028:image&x=14&y=86&w=4714&h=6671   \n",
       "1994-11-19    http://imageviewer.kb.nl/ImagingService/imagingService?id=KBNRC01:000030859:mpeg21:p022:image&x=76&y=272&w=3341&h=3703  \n",
       "1994-11-19    http://imageviewer.kb.nl/ImagingService/imagingService?id=KBNRC01:000030859:mpeg21:p036:image&x=71&y=171&w=3407&h=6579  \n",
       "1994-11-29    http://imageviewer.kb.nl/ImagingService/imagingService?id=KBNRC01:000030867:mpeg21:p022:image&x=50&y=100&w=4750&h=6700  \n",
       "1994-12-10    http://imageviewer.kb.nl/ImagingService/imagingService?id=KBNRC01:000030814:mpeg21:p046:image&x=1341&y=257&w=3289&h=4720\n",
       "1994-12-13    http://imageviewer.kb.nl/ImagingService/imagingService?id=KBNRC01:000030816:mpeg21:p012:image&x=121&y=168&w=4711&h=6532 \n",
       "1994-12-22    http://imageviewer.kb.nl/ImagingService/imagingService?id=KBNRC01:000030827:mpeg21:p032:image&x=189&y=3711&w=4511&h=2853\n",
       "Name: image_url, dtype: object"
      ]
     },
     "execution_count": 53,
     "metadata": {},
     "output_type": "execute_result"
    }
   ],
   "source": [
    "cluster2['image_url'].loc[cluster2['ocr'].str.contains(\"amerika\")]"
   ]
  },
  {
   "cell_type": "code",
   "execution_count": 137,
   "metadata": {
    "collapsed": false
   },
   "outputs": [
    {
     "data": {
      "text/plain": [
       "1069"
      ]
     },
     "execution_count": 137,
     "metadata": {},
     "output_type": "execute_result"
    }
   ],
   "source": [
    "len(america)"
   ]
  },
  {
   "cell_type": "markdown",
   "metadata": {},
   "source": [
    "SIZE!!"
   ]
  },
  {
   "cell_type": "code",
   "execution_count": 62,
   "metadata": {
    "collapsed": false
   },
   "outputs": [
    {
     "data": {
      "text/plain": [
       "<matplotlib.axes._subplots.AxesSubplot at 0x139292c50>"
      ]
     },
     "execution_count": 62,
     "metadata": {},
     "output_type": "execute_result"
    },
    {
     "data": {
      "image/png": "[encoded data removed]",
      "text/plain": [
       "<matplotlib.figure.Figure at 0x11e9b5dd8>"
      ]
     },
     "metadata": {},
     "output_type": "display_data"
    }
   ],
   "source": [
    "df['mean_total_area'] = df['area'].groupby(pd.TimeGrouper('D')).aggregate(np.mean).dropna()\n",
    "df['mean_total_area'].groupby(pd.TimeGrouper('12M')).aggregate(np.mean).dropna().plot()"
   ]
  },
  {
   "cell_type": "markdown",
   "metadata": {},
   "source": [
    "The size of advertisements in NRC increases during the 90s "
   ]
  },
  {
   "cell_type": "code",
   "execution_count": 43,
   "metadata": {
    "collapsed": false
   },
   "outputs": [
    {
     "data": {
      "text/plain": [
       "<matplotlib.axes._subplots.AxesSubplot at 0x13abf3390>"
      ]
     },
     "execution_count": 43,
     "metadata": {},
     "output_type": "execute_result"
    },
    {
     "data": {
      "image/png": "[encoded data removed]",
      "text/plain": [
       "<matplotlib.figure.Figure at 0x13ac03fd0>"
      ]
     },
     "metadata": {},
     "output_type": "display_data"
    }
   ],
   "source": [
    "df['n_pages'].groupby(pd.TimeGrouper('12M')).aggregate(np.mean).dropna().plot()"
   ]
  },
  {
   "cell_type": "markdown",
   "metadata": {},
   "source": [
    "The number of pages in NRC increases over time with a sharp increase from 1984 onwards. It stabilizes at the end of the 1980s."
   ]
  },
  {
   "cell_type": "code",
   "execution_count": 63,
   "metadata": {
    "collapsed": false
   },
   "outputs": [
    {
     "data": {
      "text/plain": [
       "<matplotlib.axes._subplots.AxesSubplot at 0x11ea6f8d0>"
      ]
     },
     "execution_count": 63,
     "metadata": {},
     "output_type": "execute_result"
    },
    {
     "data": {
      "image/png": "[encoded data removed]",
      "text/plain": [
       "<matplotlib.figure.Figure at 0x140690c88>"
      ]
     },
     "metadata": {},
     "output_type": "display_data"
    }
   ],
   "source": [
    "df['area-per-pages'] = df['mean_total_area'] / df['n_pages']\n",
    "df['area-per-pages'].groupby(pd.TimeGrouper('M')).aggregate(np.mean).dropna().plot()"
   ]
  },
  {
   "cell_type": "markdown",
   "metadata": {},
   "source": [
    "Similar pattern for every year. Dip in summer months (July/August) in size. In the 1980s the total area taken up by ads decreases but it rises again in the 1990s. 1970s and 1990s more advertisements. "
   ]
  },
  {
   "cell_type": "code",
   "execution_count": 57,
   "metadata": {
    "collapsed": false
   },
   "outputs": [],
   "source": [
    "#determine mean size of ads per day\n",
    "size_mean = df['area'].groupby(pd.TimeGrouper('D')).aggregate(np.mean).dropna()\n",
    "size_mean = size_mean.reset_index()\n",
    "size_mean = size_mean.set_index(['date'])"
   ]
  },
  {
   "cell_type": "code",
   "execution_count": 58,
   "metadata": {
    "collapsed": true
   },
   "outputs": [],
   "source": [
    "from statsmodels.tsa.stattools import adfuller\n",
    "def test_stationarity(timeseries):\n",
    "    \n",
    "    #Determing rolling statistics\n",
    "    rolmean = pd.rolling_mean(timeseries, window=12)\n",
    "    rolstd = pd.rolling_std(timeseries, window=12)\n",
    "\n",
    "    #Plot rolling statistics:\n",
    "    orig = plt.plot(timeseries, color='blue',label='Original')\n",
    "    mean = plt.plot(rolmean, color='red', label='Rolling Mean')\n",
    "    std = plt.plot(rolstd, color='black', label = 'Rolling Std')\n",
    "    plt.legend(loc='best')\n",
    "    plt.title('Rolling Mean & Standard Deviation')\n",
    "    plt.show(block=False)\n",
    "    \n",
    "    #Perform Dickey-Fuller test:\n",
    "    print('Results of Dickey-Fuller Test:')\n",
    "    dftest = adfuller(timeseries, autolag='AIC')\n",
    "    dfoutput = pd.Series(dftest[0:4], index=['Test Statistic','p-value','#Lags Used','Number of Observations Used'])\n",
    "    for key,value in dftest[4].items():\n",
    "        dfoutput['Critical Value (%s)'%key] = value\n",
    "    print(dfoutput)"
   ]
  },
  {
   "cell_type": "code",
   "execution_count": null,
   "metadata": {
    "collapsed": false
   },
   "outputs": [],
   "source": [
    "test_stationarity(size_mean['area'])\n",
    "size_mean['size_log'] = np.log(size_mean['area']) #calculate log\n",
    "moving_avg = pd.rolling_mean(size_mean['size_log'],12)\n",
    "size_mean_log_moving_avg_diff = size_mean['size_log'] - moving_avg\n",
    "size_mean_log_moving_avg_diff.dropna(inplace=True)\n",
    "test_stationarity(size_mean_log_moving_avg_diff)"
   ]
  },
  {
   "cell_type": "code",
   "execution_count": null,
   "metadata": {
    "collapsed": true
   },
   "outputs": [],
   "source": [
    "#to do also plot dispersion of type of ads over time"
   ]
  },
  {
   "cell_type": "markdown",
   "metadata": {},
   "source": [
    "Face recognition"
   ]
  },
  {
   "cell_type": "code",
   "execution_count": 55,
   "metadata": {
    "collapsed": false
   },
   "outputs": [
    {
     "ename": "ModuleNotFoundError",
     "evalue": "No module named 'cv2'",
     "output_type": "error",
     "traceback": [
      "\u001b[0;31m---------------------------------------------------------------------------\u001b[0m",
      "\u001b[0;31mModuleNotFoundError\u001b[0m                       Traceback (most recent call last)",
      "\u001b[0;32m<ipython-input-55-a2893e677173>\u001b[0m in \u001b[0;36m<module>\u001b[0;34m()\u001b[0m\n\u001b[0;32m----> 1\u001b[0;31m \u001b[0;32mimport\u001b[0m \u001b[0mcv2\u001b[0m\u001b[0;34m\u001b[0m\u001b[0m\n\u001b[0m\u001b[1;32m      2\u001b[0m \u001b[0;32mimport\u001b[0m \u001b[0mos\u001b[0m\u001b[0;34m\u001b[0m\u001b[0m\n",
      "\u001b[0;31mModuleNotFoundError\u001b[0m: No module named 'cv2'"
     ]
    }
   ],
   "source": [
    "import cv2\n",
    "import os"
   ]
  },
  {
   "cell_type": "code",
   "execution_count": null,
   "metadata": {
    "collapsed": true
   },
   "outputs": [],
   "source": []
  }
 ],
 "metadata": {
  "kernelspec": {
   "display_name": "Python 3",
   "language": "python",
   "name": "python3"
  },
  "language_info": {
   "codemirror_mode": {
    "name": "ipython",
    "version": 3
   },
   "file_extension": ".py",
   "mimetype": "text/x-python",
   "name": "python",
   "nbconvert_exporter": "python",
   "pygments_lexer": "ipython3",
   "version": "3.6.0"
  }
 },
 "nbformat": 4,
 "nbformat_minor": 0
}
