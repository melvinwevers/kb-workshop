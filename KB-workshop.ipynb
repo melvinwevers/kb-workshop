{
 "cells": [
  {
   "cell_type": "markdown",
   "metadata": {},
   "source": [
    "<h2>Mining Delpher Data</h2>\n",
    "<h3>Harvest, Clean and Analyse Large Amounts of Digitised Text</h3>"
   ]
  },
  {
   "cell_type": "markdown",
   "metadata": {},
   "source": [
    "<p>When analysing sources of the National Library of the Netherlands (KB), researchers often use Delpher, the online gateway to more than 10 million pages of historical text (newspapers, books,journals & radio bulletins), mostly in Dutch. Delpher allows you to search and browse all documents in full text, making it a good resource for close reading. However, when you want to analyse large amounts of data to do distant reading, the KB allows researchers access to both the digital images, metadata, and full text in bulk via KB’s Dataservices & API’s, as well as additional data such as the Medieval Illuminated Manuscripts and the Dutch Digital Parliamentary Papers. </p>\n",
    "\n",
    "<p>To successfully harvest this data and subsequently clean and analyse it, you need knowledge about:\n",
    "\n",
    "<ul>\n",
    "<li> the KB’s data formats and infrastructure</li>\n",
    "<li> tools to clean the data and subsequently</li>\n",
    "<li> tools to analyse the data.</li>\n",
    "</ul>\n",
    "</p>\n"
   ]
  },
  {
   "cell_type": "markdown",
   "metadata": {},
   "source": [
    "<h3>Jupyter Notebook Tips</h3>\n",
    "<ul>\n",
    "<li>New cells are created with the <b>Plus</b> button in the toolbar. When not editing, this can be done by pressing ‘b’ on your keyboard.</li>\n",
    "<li>New cells are “code” cells by default, but can be changed to “Markdown” (a type of text input) in a dropdown menu on the toolbar. In edit mode, you can paste in code from this lesson or type it yourself.</li>\n",
    "<li>Switching a cell to edit mode is done by pressing Enter.</li>\n",
    "<li>Running a cell is done by clicking Play in the toolbar, or with Shift + Enter.</li>\n",
    "<li>We use two types of cells: Markdown (for text) and Code (for code blocks)\n"
   ]
  },
  {
   "cell_type": "markdown",
   "metadata": {},
   "source": [
    "<h3>Libraries and settings</h3>"
   ]
  },
  {
   "cell_type": "code",
   "execution_count": 5,
   "metadata": {
    "collapsed": true
   },
   "outputs": [],
   "source": [
    "import csv #to work with csv files\n",
    "import pandas as pd #for data analysis\n",
    "import numpy as np #for scientific computing\n",
    "import requests #for html requests \n",
    "from lxml import etree #for browsing xml structures\n",
    "\n",
    "SRU_BASE_URL = 'http://jsru.kb.nl/sru/sru?' #the url for the KB's sru service\n",
    "MAX_RECORDS = 1000 #the number of records queried at a time \n",
    "pd.set_option('display.max_colwidth', -1) #this option show the full cell contents of the pandas output. \n",
    "#this option shows graphs within Jupyter\n",
    "%matplotlib inline"
   ]
  },
  {
   "cell_type": "markdown",
   "metadata": {},
   "source": [
    "<h2>Harvest Function</h2>\n",
    "\n",
    "The following function is used to communicate with the SRU service, download collection of texts with the fields 'text', 'date', and 'title'. The download is stored as a tsv file. "
   ]
  },
  {
   "cell_type": "code",
   "execution_count": 3,
   "metadata": {
    "collapsed": true
   },
   "outputs": [],
   "source": [
    "def jsru_query(collection, cql, filename):\n",
    "    '''\n",
    "    Query jSRU to obtain from collection context (text), date and title fields,\n",
    "    write results to tab separated CSV file.\n",
    "    '''\n",
    "\n",
    "    start_record = 1\n",
    "\n",
    "    request_payload = {\n",
    "        'operation': 'searchRetrieve',\n",
    "        'x-collection': collection,\n",
    "        'x-fields': 'content',\n",
    "        'maximumRecords': MAX_RECORDS,\n",
    "        'startRecord': start_record,\n",
    "        'query': cql\n",
    "    }\n",
    "\n",
    "    sru_response = requests.get(SRU_BASE_URL, params=request_payload)\n",
    "    sru_tree = etree.fromstring(sru_response.content)\n",
    "\n",
    "    num_records = sru_tree.find('{http://www.loc.gov/zing/srw/}numberOfRecords')\n",
    "    num_records = int(num_records.text)\n",
    "    \n",
    "    csv_writer = csv.writer(open(filename, 'w', newline=''), delimiter='\\t', )\n",
    "    csv_writer.writerow(['title', 'date', 'text'])\n",
    "\n",
    "    records_left = (num_records >= 1)\n",
    "    while records_left:\n",
    "        \n",
    "        for record in sru_tree.iter('{http://www.loc.gov/zing/srw/}recordData'):\n",
    "            title = record.find('{http://purl.org/dc/elements/1.1/}title').text\n",
    "            date = record.find('{http://purl.org/dc/elements/1.1/}date').text\n",
    "            text = record.find('content').text\n",
    "\n",
    "            csv_writer.writerow([title, date, text])\n",
    "\n",
    "        records_left=(start_record + MAX_RECORDS <= num_records)\n",
    "        if records_left:\n",
    "            start_record = start_record + MAX_RECORDS\n",
    "            request_payload['startRecord'] = start_record\n",
    "            sru_response = requests.get(SRU_BASE_URL, params=request_payload)\n",
    "            sru_tree = etree.fromstring(sru_response.content)"
   ]
  },
  {
   "cell_type": "markdown",
   "metadata": {},
   "source": [
    "<h2>Downloading data from Delpher</h2>\n",
    "\n",
    "<p>Here you can run the function called jsru_query that is defined in the cell above. This function has three parameters.</p> \n",
    "<ol>\n",
    "<li>the collection (ANP)</li>\n",
    "<li>the query (\"verenigde staten\" and nederland not duitsland and date within \"01-01-1971 31-12-1979\"), and \n",
    "<li>the name of the output file (output.tsv).</li>\n",
    "</ol>\n",
    "\n",
    "Make sure to enclose these three parameters with apostrophes. \n",
    "We will now try to rebuild the queries we made during the first part of this workshop."
   ]
  },
  {
   "cell_type": "code",
   "execution_count": 18,
   "metadata": {},
   "outputs": [],
   "source": [
    "#Example Query\n",
    "jsru_query('ANP', \n",
    "           'klimaat and date within \"01-01-1939 31-12-1984\"', \n",
    "           'query_klimaat.tsv')"
   ]
  },
  {
   "cell_type": "markdown",
   "metadata": {},
   "source": [
    "<h2>Importing downloaded data into Python</h2>\n",
    "<p>Now we will load the tsv into python using a library called Pandas. <br> Pandas is a library that is often used by data scientists. <br> You can read more about Pandas here: https://pandas.pydata.org\n",
    "<br> N.B. A table or spreadsheet is called a dataframe in Pandas. </p>\n",
    "You can find a new cheat sheet here: https://www.dataquest.io/blog/images/cheat-sheets/pandas-cheat-sheet.pdf"
   ]
  },
  {
   "cell_type": "code",
   "execution_count": 19,
   "metadata": {},
   "outputs": [],
   "source": [
    "#define the name of your file here as your input here. This should be the same as the name of \n",
    "#the output you defined in the query function\n",
    "#delimiter indicates how the file is separated. Tabs = '\\t', and commas = ','.\n",
    "#df is the default name for a dataframe. You can give this variable any name you prefer. \n",
    "df = pd.read_csv('query_klimaat.tsv', delimiter='\\t', encoding = \"ISO-8859-1\") "
   ]
  },
  {
   "cell_type": "code",
   "execution_count": 12,
   "metadata": {},
   "outputs": [
    {
     "data": {
      "text/html": [
       "<div>\n",
       "<table border=\"1\" class=\"dataframe\">\n",
       "  <thead>\n",
       "    <tr style=\"text-align: right;\">\n",
       "      <th></th>\n",
       "      <th>title</th>\n",
       "      <th>date</th>\n",
       "      <th>text</th>\n",
       "    </tr>\n",
       "  </thead>\n",
       "  <tbody>\n",
       "    <tr>\n",
       "      <th>9</th>\n",
       "      <td>ANP Nieuwsbericht - 04-05-1977 - 113</td>\n",
       "      <td>1977/05/04 00:00:00</td>\n",
       "      <td>\\n    Red.: \\n    Datum: \\n    Tijd: \\n    Onderwerp: \\n    Haz,.. \\n    4 5 77 \\n    18-18^ \\n    Omzet Gasunie \\n    15. \\n    De Nederlandse Gasunie verwacht dat haar omzet dit jaar met \\n    ongeveer 20 proce^nt zal stijgen tot bijna 14 miljard gulden \\n    3. \\n    De Unie schrijft die stijging voor een deel toe aan de gro- \\n    4. \\n    / ^ tere leveringen van aas/ vooral im eigen land,' L V \\n    voor een \\n    5. \\n    ander deel aan prijsverhogingen. Het afgelopen jaar 1976 \\n    is de afzet achtergebleven bij de verwachtingen. Dit als \\n    7. \\n    gevolg van het zachte weer, het voortduren van het slechte \\n    8. \\n    economische klimaat en activiteiten ter besparing van energi&amp;lt; \\n    9. \\n    De Gasunie beklaagt er zich in haar verslag over, dat/ondanks \\n    10. \\n    een verhoging op 1 januari vorig jaar) de gasprijs voor \\n    11. \\n    kleinverbruikers nog steeds onvoldoende is aangepast aan het \\n    12. \\n    internationale prijspeil. De Nederlandse Gasunie heeft in \\n    13. \\n    14 \\n    1976 ruim 80 miljoen gulden netto-winst geboekt - iets meer \\n    dan een jaar ervoor. - \\n    Bron: gnp \\n    Regels: 13^ \\n\\n</td>\n",
       "    </tr>\n",
       "    <tr>\n",
       "      <th>10</th>\n",
       "      <td>ANP Nieuwsbericht - 24-05-1978 - 1</td>\n",
       "      <td>1978/05/24 00:00:00</td>\n",
       "      <td>\\n    . *! \\n    Red.: Datum: \\n    swaab 24. 5. 78 \\n    Tijd: \\n    g. o \\n    Onderwerp: \\n    enkele punten \\n    Ruim duizend Belgische parachutisten zijn uit Zaire in hun \\n    land teruggekeerd. ------- \\n    In ItaliÃ« ligt het treinverkeer stil als gevolg van een \\n    24-uurs-staking bij de spoorwegen. ---- \\n    5 \\n    6. \\n    \\Peru, In&amp;lt; Ã«^B9^nebben de vakbonden de stakende arbeiders opgeroepen \\n    8. \\n    weer aan het werk te gaan. ----- \\n    10. \\n    Het industriÃ«le klimaat in de meeste EEG-landen is in de / drie J eerstejmaanden van dit jaat verbeterd. \\n    (^J-yV y \\n    11. \\n    12. \\n    13. \\n    14. \\n    15 \\n    het weer ! op de meeste plaatsen droog met veel bewolking. r rlnngn f*n knit a^ Â°^ ****** ^^^ m-ic+- ^=. r&amp;lt; ^^o maxima van 12 graden aan zee tot 16 graden in het binnenland. \\n    &amp;amp; R- \\n    Bron: \\n    Regels \\n\\n</td>\n",
       "    </tr>\n",
       "    <tr>\n",
       "      <th>11</th>\n",
       "      <td>ANP Nieuwsbericht - 23-03-1971 - 53</td>\n",
       "      <td>1971/03/23 00:00:00</td>\n",
       "      <td>\\n    Red. \\n    Datum: \\n    Tijd: \\n    Onderwerp: \\n    Gin.. \\n    23-3-71. 1. 2. ^-13 sowjetkarnexplnsie \\n    2. \\n    7. \\n    10. \\n    11. \\n    12. \\n    13. \\n    14. \\n    15. \\n    In de Sowjetunie heeft zich vanochtend weer een krachtige ondergrondse kernontploffing voorgedaan, dit keer vermoedelijk-  op de westelijke hellingen van het Oeral-gebergte. De explosie was nog zwaarder dan die van gisterochtend bij Semipalatinsk in het aziatische deel van de Sowjetunieg De kracht dAa*rvan werd geschat op 1 Megaton. Volgens het seismologisch instituut in Uppsala, Zweden, ging het gisteren-  om een militaire proef. De ontploffing van vanochten zou teweeg gebracht zijn voor vreedzame doeleinden. Weate- /de/ lijke deskundigen nemen al enige tijd aan dat/russen met behulp-  van ondergrondse kernontploffingen rivieren willen verleggen naar het noorden. Doel ervan zou zijn het klimaat in noordelijker delen van de Sowjetunie te verbeteren. - \\n    650. 1. 18. 50. 000. 10. 70. vdm. \\n    Bron: ap-Upi \\n    Regets: -j ^ \\n\\n</td>\n",
       "    </tr>\n",
       "    <tr>\n",
       "      <th>12</th>\n",
       "      <td>ANP Nieuwsbericht - 16-08-1971 - 1</td>\n",
       "      <td>1971/08/16 00:00:00</td>\n",
       "      <td>\\n    Red.: \\n    jansen \\n    Datu \\n    m: \\n    16-8-71 \\n    Tijd: 23. 55 \\n    Onderwerp: Mon. toestand \\n    2. \\n    4. \\n    5. \\n    7. \\n    8. \\n    10. \\n    11. \\n    12. \\n    13. \\n    14. \\n    15. \\n    650. 1. 17. 50. 000. 3. 70. vdM. \\n    Als gevolg van de economische maatregelen van president \\n    Nixon zijn vandaag op de New Yorkse effectenbeurs \\n    records gebroken. Er werden ruim 31, 7-miljoen aandelen \\n    verhandeld; het vorige record was ruim 28, 2-miljoen. \\n    Het Dow Jones-gemiddelde steeg met 33 punten. Dat is op Ã©Ã©n dag ook nog nooit eerder voorgekomen. De kooplust (die nnÃMiirlljli de koersstijging verklaart) wordt toegeschreven- \\n    toegeschreven aan de terugkeer van het vertrouwen, dat de \\n    Amerikaanse regering een beter economisch klimaat zal \\n    scheepen. In New York waren vandaag vooral weer de \\n    individuele beleggers van de partij. Zijn ontbraken de \\n    afgelopen maanden. De levendige handel gold niet voor: \\n    de internationale oliemaatschappijen, buitenlandse \\n    fondsen, importondernemingen en de goudfondsen. \\n    In veel Europese landen zullen ook morgen de geld- en \\n    Bron: \\n    Regeis: \\n    meer \\n\\n</td>\n",
       "    </tr>\n",
       "    <tr>\n",
       "      <th>13</th>\n",
       "      <td>ANP Nieuwsbericht - 21-09-1972 - 107</td>\n",
       "      <td>1972/09/21 00:00:00</td>\n",
       "      <td>\\n    Red. \\n    Datu \\n    m: \\n    Tijd: \\n    Onderwerp: \\n    * sÃ§hrau 21-9-72 \\n    ..... 1. 8-183 0........... EN. KE. LE.... P. UNTEN...... ^ \\n    3. \\n    10. \\n    1 1. \\n    12. \\n    13. \\n    14. \\n    15. \\n    He raad. vanhestuar van' het AKEpL-^meem he&amp;amp; T? Kaax het \\n    or de^E^KX-bepyiÃ¢Ven pla^H/teruggenomen. ^. \\n    De ministers Langman en Udink hebben in een Nota Noorden \\n    des Lands plannen hekend gemaakt voor Verbetering van het \\n    agrarische en het industriÃ«le klimaat in de noordelijke \\n    provincies. â \\n    De tweede kamer zal volgende week het regeringsvoorstel \\n    behandelen voor een nieuw tarievenstelsel voor de looh- \\n    en inkomstenbelasting. â \\n    Koningin Juliana en Prins Bernhard hebben in JoegoslaviÃ« \\n    een fabriek bezocht, waar zij uitleg kregen van het \\n    arbeiders-zelfbestuur. â \\n    &amp;lt; 0^ \\n    In Hamburg zijn vier Arabieren gearresteerd 3ÃB op \\n    verdenking van terrorisme \\n    uitgewezen. â \\n    HEE WEER: op de meeste plaatsen droog met vooral in het zuiden flinke zonnige perioden. \\n    Bron: \\n    Regeis: / r \\n    650. 1. 19. 50. 000. 10. 71 vdm. \\n\\n</td>\n",
       "    </tr>\n",
       "    <tr>\n",
       "      <th>14</th>\n",
       "      <td>ANP Nieuwsbericht - 30-04-1973 - 47</td>\n",
       "      <td>1973/04/30 00:00:00</td>\n",
       "      <td>\\n    Red.: \\n    Datum: \\n    Tijd: \\n    Onderwerp: \\n    SO \\n    .. 3. 0. r... 4-. 7. 3 \\n    . 1. 4. \\n    weer. \\n    1. De wereld heeft het afgelonen jaar een buitengewoon grillig 2. klimaat gehad. Overal hebben zich records voorgedaan in 3. droogte, regenval, temperatuurverschillen en dergelijke. 4. yAldus ^^ S^Ã^HHB de meteorologische wereldorganisatie in GenÃ¨ve. 5. ( ^bÃ¨/bijvoorbeeld__. 3 ^4%L_^ ihzR Rusland\\te ^amnen met grote droogte! de Don bereikte hel # 6. laagste ^eil in 90 jaar. Madrid had een record-regenval, 7. de ergste in ruim honderd jaar. In Amerika richtte wervel- 8. storm Agnes een ongeÃ«venaarde schade aan. 122 mensen kamen 9. erbij om het leven. Ook een absoluut record. 10. 11. # 12. 13. 14. 15. Bron: Regels: ^ 650. 1. 21. 50. 000. 1. 73. vdm \\n\\n</td>\n",
       "    </tr>\n",
       "    <tr>\n",
       "      <th>15</th>\n",
       "      <td>ANP Nieuwsbericht - 12-05-1973 - 10</td>\n",
       "      <td>1973/05/12 00:00:00</td>\n",
       "      <td>\\n    Red.: \\n    Datum: \\n    Tijd: \\n    Onderwerp: \\n    ...kram......... 12-5-1973 \\n    2230 \\n    headlibes \\n    1. Premier den Uyl zal maandag 28 Mei de regerings-verklaring 2. afleggen van het nieuwe kabinet. 3. De Sovietunie en Polen zijn blij met de verbetering van 4. het KmKmxmxhxhx politieke klimaat in Europa. 5. De Egyptische diplomaat El Koly die namens president Sadat 6. ' * 7 heeft bemiddeld tussen Libanon en Syrie is in Cairo 8. teruggekeerd. 9. De Amerikaa. se minister Rogers van buitenlandse zaken is 10. in Mexico een rondreis begonnen langs een aantal midden- 11. en zuid-amerikaanse landen. 12. Het weer: Heldere nacht. Morgen toenemende bewolking, &amp;lt; 13. in het Noorden mogelijk gevolgd door regen. 14. 15. Bron: Regels: 13 650. 1. 21. 50. 000. 1. 73. vdm \\n\\n</td>\n",
       "    </tr>\n",
       "    <tr>\n",
       "      <th>16</th>\n",
       "      <td>ANP Nieuwsbericht - 26-11-1974 - 42</td>\n",
       "      <td>1974/11/26 00:00:00</td>\n",
       "      <td>\\n    Red.: Datum: Tijd: Onderwerp: cas 26-11-74 18. 18^ tweede kamer 1 \\n    1. \\n    3. \\n    4. \\n    De KVP meentlevenals AR en CHU, dat een lastenverlichting / voor het bedrijfsleven/in de regeringsmaatregelen-om-onze- &amp;lt;^&amp;lt; 2^\" / economie-weer-wat-aan-te-zwengelen/sen zwaarder accent moet krijgen dan op het ogenblik nog het geval is. De KVP-er Van Amelsfoort meent dat om het ondernemersklimaat te verbeteren 6. de voorgestelde investeringsfaciliteiten zouden moeten worde: ? uitgebreid^ De venno#tsschapsbelasting verlaagd, en de zelf- 8. standigen-aftrek verhoogd? De VVD-er Koning sprak van een verziekt belasting-klimaat. HE Belasting-fraude en kapitaal- vlucht zijn naar zijn oordeel uitingen van burgerlijke on- gehoorzaamheiybegen het structurele geweld, dat de overheid i2 tegen de belasting-betaler hanteert. Zijn fractiegenoot \\n    10. \\n    11 \\n    13. \\n    14. \\n    15 \\n    Portheit)&amp;amp; verweet het kabinet in zijn maatregelen op een funeste wijze te nivelleren^ Discriminatie moet over de hele lijn worden opgeheven, aldus deze VVD-er. Ze mag niet halt \\n    Bron. \\n    Regels: Meer \\n\\n</td>\n",
       "    </tr>\n",
       "    <tr>\n",
       "      <th>17</th>\n",
       "      <td>ANP Nieuwsbericht - 30-09-1974 - 147</td>\n",
       "      <td>1974/09/30 00:00:00</td>\n",
       "      <td>\\n    Red.: \\n    Datum: \\n    Tijd: \\n    Onderwerp: \\n    burg 30 9 74 2355 Portugal \\n    2. \\n    4. \\n    5. \\n    8. \\n    10. \\n    11 \\n    12 \\n    In bet elempaleis in Lissabon is generaal Da Costa Gomez \\n    vanavond beeidigd als de nieuwe president van Portugal? In \\n    een rede voor radio en televisie riep het nieuwe staatshoofd het Portugese volk op de eendracht en de rust te ^HHH* beware \\n    Hij zei verder onder meer, dat zijn land de banden met het \\n    atlÃ ntisch bondgenootschap instand zal houden. President Da \\n    Costa Gomez bracht hulde aan zijn \\n    afgetreden \\n    voorga tgerSpinola, maar nam tegelijk afstand van diens rede i van vanmiddag. Generaal Sninnla zei daarin onder meer, dat \\n    in Portugal een klimaat van anarchie heerst. \\n    In de portugese kolonie Angola is vandaag na het aftreden \\n    **3' van Spinola de pers weer onder censuur ^HHHÃ geplaatst. De \\n    14. \\n    15 \\n    junt^a, die het land voorlopig bestuurt, heeft laten w&amp;amp; %en, \\n    dat het gaat om een tijdelijke maatregels- \\n    Bron: \\n    alle \\n    Regels: \\n    15 \\n\\n</td>\n",
       "    </tr>\n",
       "    <tr>\n",
       "      <th>18</th>\n",
       "      <td>ANP Nieuwsbericht - 29-01-1975 - 104</td>\n",
       "      <td>1975/01/29 00:00:00</td>\n",
       "      <td>\\n    Red. \\n    Datum: \\n    Tijd: \\n    Onderwerp: \\n    eo \\n    29-1-75 \\n    22^ \\n    kvp \\n    Als de regering morgen tijdens de interpellatie Wiegel/over de werkloosheid, meegeelt dat de verwachtingen weer slechter \\n    zijn geworden, zal de KVP alsnog uitvoering verlangen van de \\n    4. \\n    motie Van Amelsvoort. Dit heeft KVP-fractievoorzitter \\n    5. Andriessen vanavond in Utrecht bekendgemaakt op een bijeen- fter tafej komst van zijn partij. De motie Van Amelsvoort kwam/tijdens het tweede kamerdebat over het plan van 3^-miljard gulden ter bestrijding van de inflatie en de werkloosheid. De heer \\n    10. \\n    E Andriessen zei, dat de KVP met de motie meer belasting- ba*?&amp;lt; ?yÃ^ verlichting *a*Ã¯&amp;amp; dK voor het bedrijfsleven, om het investerings- \\n    11. \\n    klimaat te verbeteren. Daarbij werd( gedacht aan verlaging van \\n    12 \\n    de vennootschapsbelasting of rechtstreekse bevordering van \\n    13. \\n    14. \\n    15 \\n    investeringen en aan soortgelijke maatregelen voor zelfstandige-  ondernemens. Als de verwachtingen over de werkloos/t- zal de motie J* heid tegenvallen, *****t**t*a*M) **\" volgens de fractievoorzitter moeten \\n    Bron: \\n    Regets: \\n    anp \\n    meer \\n\\n</td>\n",
       "    </tr>\n",
       "    <tr>\n",
       "      <th>19</th>\n",
       "      <td>ANP Nieuwsbericht - 10-05-1976 - 31</td>\n",
       "      <td>1976/05/10 00:00:00</td>\n",
       "      <td>\\n    Red.: \\n    Datum: \\n    Tijd: \\n    Onderwerp: \\n    Krul....... 10^5^76 3KK 22^ \\n    Mont. Edison \\n    1. \\n    6 \\n    9. \\n    10. \\n    11. \\n    12. \\n    13. \\n    14. \\n    15. \\n    In Zeeland is verschillend gereageerd op de mededeling uit Rome concern Mont Edison \\n    dat het Italiaanse petro chemische \\n    \" zich niet in deze \\n    provincie zal vestigen, maar in BelgiÃ«. Gedeputeerde Kaland is teleurgesteld. Hij heeft morgen een gesprek op het ministerie van economische zaken in een poging Mont Edison alsnog naar Zeeland-  te halen. De industriebond NVV afdeling Zeeland is verheugd- \\n    verheugd, omdat er nu wa** terrein vrijkomt voor industrieÃ«n die passen bij de Zeeuwse arbeidsmarkt en de milieu-eisen. Aldus een verklaring van de bond. Het CNV Zeeland zegt zich met betrekking-  tot Mont Edison nooit afwijzend te hebben opgesteld. Nt de vestiging er niet komt is er een klimaat geschapen waarin volgens het CNV alle partijen weer kunnen spreken over een goed arbeidsbeleid. \\n    Bron: \\n    anp \\n    Regels: 12 E^X \\n\\n</td>\n",
       "    </tr>\n",
       "    <tr>\n",
       "      <th>20</th>\n",
       "      <td>ANP Nieuwsbericht - 10-05-1976 - 43</td>\n",
       "      <td>1976/05/10 00:00:00</td>\n",
       "      <td>\\n    Red.: \\n    Datum: \\n    Tijd: \\n    Onderwerp: \\n    Krul \\n    10-5-76 XDBX 22^ Mont Edison \\n    # \\n    5. \\n    9. \\n    10. \\n    11. \\n    12 \\n    13. \\n    14. \\n    15. \\n    In Zeeland is verschillend gereageerd op de mededeling uit Rome concern Mont Edison \\n    dat het Italiaanse petro chemische \\n    \" zich niet in\" deze \\n    provincie zal vestigen, maar in BelgiÃ«. Gedeputeerde Kaland is teleurges+eld. Hij heeft morgen een gesprek op het ministerie var economische zaken in een poging Mont Edison alsnog naar Zeeland-  te halen. De industriebond NVV afdeling Zeeland is verheugd- \\n    verheugd, omdat er nu was* terrein vrijkomt voor industrieÃ«n die \\n    passen bij de Zeeuwse arbeidsmarkt en de milieu-eisen. Aldus eer verklaring van de bond. Het CNV Zeeland zegt zich met betrekking-  tot Mont Edison nooit afwijzend te hebben opgesteld. Nu de vestiging er niet komt is er een klimaat geschapen waarin volgens het CNV alle partijen weer kunnen spreken over een goed \\n    arbeidsbeleid. \\n    Bron: anp Regels: 12 KgX \\n\\n</td>\n",
       "    </tr>\n",
       "    <tr>\n",
       "      <th>21</th>\n",
       "      <td>ANP Nieuwsbericht - 11-01-1977 - 30</td>\n",
       "      <td>1977/01/11 00:00:00</td>\n",
       "      <td>\\n    Red Datum: Tijd: Onderwerp: kreek 11. 1. 77 23-, 2%? den uyl en de onrust \\n    1. Uitblijven van overeenstemming in de loon-onderhandelingen 2. kan volgens premier Den Uyl/schadelijke gevolgen hebben voor het sociale en economische klimaat. In een gesprek met iemand van het blad De Onderneming( van het Verbond van Ne- 5. derlandse Ondernemingen) zei de heer Den Uyl dat hij zich over de stand van zaken nu, /zorgen Taakt. Di 4njgiMt.. aieh Hij ziet het als een taak van de overheid te voorkomen dat een verkies aan vertrouwen over en weer/leidt tot een maatschappelijke crisis. \"[riniiiitiiiiiii)&amp;lt; !itli1ijii]ir) Trri* 10. \\n    6. \\n    7. \\n    11. \\n    12. \\n    13. \\n    14. \\n    15. \\n    Bron: Regels: SV * 8 \\n\\n</td>\n",
       "    </tr>\n",
       "    <tr>\n",
       "      <th>22</th>\n",
       "      <td>ANP Nieuwsbericht - 11-01-1977 - 36</td>\n",
       "      <td>1977/01/11 00:00:00</td>\n",
       "      <td>\\n    Red. \\n    Datum: \\n    kreek..... 11. 1. 77 \\n    23 \\n    Tijd: \\n    onderwerp: \\n    den uyl en de onrust \\n    1. Uitblijven van overeenstemming in de loon-onderhandelingen 2. kan volgens premier Den Uyl/schadelijke gevolgen hebben voor \\n    3. \\n    het sociale en economische klimaat. In een gesprek met \\n    4. \\n    iemand van het blad De Onderneming( van het Verbond van Ne- \\n    5. \\n    derlandse Ondernemingen) zei de heer Den Uyl dat hij zich \\n    6. \\n    over de stand van zaken nu, /zorgen rraakt. Di ^ugint-zieh Hij ziet het als een taak van de overheid te voorkomen dat \"\"^Igm\" ^Â° pTiniii i iintt ! nT It\" till..... un..... n MMii ifiÃ¼fij^jng\"' in een verliesvaan vertrouwen over en weer/leidt tot een c-cn verrlrijj' i'\" nTiT*iin- aiiitrÃ¯TlilrrrlijÃ¯nTfr.' in ii' mimiilijlir maatschappelijke crisis. \\n    10. \\n    11. \\n    12 \\n    13. \\n    14. \\n    15. \\n    Bron: SV \\n    Regels: \\n    e \\n\\n</td>\n",
       "    </tr>\n",
       "    <tr>\n",
       "      <th>23</th>\n",
       "      <td>ANP Nieuwsbericht - 22-10-1977 - 106</td>\n",
       "      <td>1977/10/22 00:00:00</td>\n",
       "      <td>\\n    Red. \\n    ) atum: \\n    kram........ 22-10-1977 \\n    Tijd: 18 Ã830 \\n    rerwerp: \\n    onderzoek ruimte \\n    1. \\n    3. \\n    5. \\n    8. \\n    Vanaf de amerikaanse basis Cape Canaveral is een Delta- raket gelanceerd met twee kunstmanen, Ã©Ã©n van het Europese ruimtebureau en Ã©Ã©n van het Amerikaanse bureau voor het onderzoek van de ruimte/: Beide kunstmanen zijn uitgerust metzowel Amerikaanse als Europese instrumenten die gegevens moeten gaan verstrekken over de invloed van de zon yfp het klimaat hier /p aarde/De twee satellieten worden in een sterk eliptische baan om de aarde gebracht/waarvan he verste pun%87* duizend mijlen verwijderd is%pn het di \\n    chtste \\n    10. \\n    11. \\n    12. \\n    ^.. \\n    punt 174 mijlen. Het gaat vooral om de invloed van de \\n    zogenoemde zonnewind op het weer. \\n    ^ \\n    13. \\n    14. \\n    15 \\n    Bron: \\n    rtr anp \\n    Regeis: -j Q \\n\\n</td>\n",
       "    </tr>\n",
       "    <tr>\n",
       "      <th>24</th>\n",
       "      <td>ANP Nieuwsbericht - 26-11-1977 - 16</td>\n",
       "      <td>1977/11/26 00:00:00</td>\n",
       "      <td>\\n    Red.: \\n    Datum: \\n    Tijd: \\n    Onderwerp: \\n    blank \\n    26 11 77 12^j^3T sadat in parlement \\n    President Sadat van Egypte heeft Amerika, de Sovjetunie- \\n    Sovjetunie, IsraÃ«l en de arabische landen uitgenodigd naar \\n    3. \\n    Cairo te komen om vÃ³Ã³r-overleg te plegen, dat de \\n    4. \\n    vredesconferentie in GenÃ¨ve weer op gang moet helpen. \\n    5. \\n    Sadat zei dit in het egyptische parlement, waar hij ver- \\n    6. \\n    slag uitbracht van zijn reis naar Jerusalem. Volgens \\n    7. \\n    Sadat is het belangrijkste resultaat van zijn bezoek \\n    8. \\n    geweest: het verbeteren van het psychologisch klimaat. \\n    10. \\n    Nog geen tien dagen tevoren, zei hij, was er een levensgrote-  dreiging van een nieuwe oorlog; nu gelooft niemand \\n    11. \\n    12. \\n    13. \\n    14. \\n    15 \\n    in IsraÃ«l meer, dat Egypte oorlog wil. - Andere resultaten- \\n    resultaten waren volgens Sadat: de overtuiging in IsraÃ«l, dat \\n    van dÃ¢Ã¢r nu een nieuw initiatief moet komen, en het feit, \\n    dat er bij\" veilige grenzen\" nu niet meer wordt gedacht \\n    aan het annexeren van andermans gebied. - - Sadat haalde \\n    Bron: \\n    Regets: \\n\\n</td>\n",
       "    </tr>\n",
       "    <tr>\n",
       "      <th>25</th>\n",
       "      <td>ANP Nieuwsbericht - 13-11-1979 - 24</td>\n",
       "      <td>1979/11/13 00:00:00</td>\n",
       "      <td>\\n    Red.: \\n    Datum: \\n    Tijd: \\n    Schip 13-11-79 \\n    Onderwerp: Iran ^VS \\n    5. \\n    10. \\n    11. \\n    12. \\n    13. \\n    14. \\n    15. \\n    De Iraanse minister van Buitenlandse Zaken, Bani Sadr, heeft gevraagd om een bijeenkomst van de Veiligheidsraad, omdat volgens hem in de Verenigde Staten een oorlogs-klimaat wordt geschapen. Hij doelde daarmee daarmee op de arrestatie van \\n    Iraanse demonstranten in Amerika. In een open brief aan \\n    Secretaris-Generaal Waldheim van de Verenigde Staten, verzocht de Iraanse minister diens persoonlijke tussenkomst om de uitlevering-  van de Sjah te bewerkstelligen. Hij liet weten dat \\n    Iran bereid is de voorwaarden waaronder het de Amerikaanse \\n    gijzelaars wil vrij laten, te versoepelen. Iran wil twee dingen: Ten eerste het instellen van een onderzoek naar de misdaden \\n    die de Sjah heeft begaan. De resultaten daarvan moeten door Amerika worden erkend. Ten tweede dat het kapitaal en de eigendommen- \\n    eigendommen van de Sjah weer naar Iran worden gebracht. \\n    Bron: \\n    Regets: 1 ^ \\n    rtr-upi \\n\\n</td>\n",
       "    </tr>\n",
       "    <tr>\n",
       "      <th>26</th>\n",
       "      <td>ANP Nieuwsbericht - 13-11-1979 - 36</td>\n",
       "      <td>1979/11/13 00:00:00</td>\n",
       "      <td>\\n    Red. \\n    Datum: \\n    Tijd: \\n    Onderwerp: \\n    Schip 13-11-79 \\n    Iran \\n    % \\n    4. \\n    7. \\n    9. \\n    10. \\n    11. \\n    12. \\n    13. \\n    14. \\n    15. \\n    De Iraanse minister van Buitenlandse Zaken, Bani Sadr, heeft gevraagd-  om een bijeenkomst van de veiligheidsraad, omdat volgens hem in de Verenigde Staten een oorlogs-klimaat wordt gecreerd. \\n    Hij deed dit een open brief aan Secretaris-Generaal Waldheim \\n    van de Verenigde Naties, en verzocht ook diens persoonlijke tussenkomst om de uitlevering van de Sjah te bewerkstelligen. De Iraanse minister liet ook weten dat Iran bereid is de voorwaarden-  waaronder het bereid is de Amerikaanse gijzelaars te \\n    \\ \\n    het \\n    laten gaaa, te versoepelen. Iran wil nu twee dingen instellen van een \\n    i ii r u \\n    onderzoek naar de misdaden die de Sjah heeft bsaan, **&amp;amp; e resultaten daarvan MÃttH^M Ã³Ã¯fM*3 ^^ ^_ \\n    kend. Ten tweede dat' het kapitaal en alle eigendommen van de Sjah weer naar Iran worden gebracht. \\n    Bron: \\n    Regets: \\n\\n</td>\n",
       "    </tr>\n",
       "    <tr>\n",
       "      <th>27</th>\n",
       "      <td>ANP Nieuwsbericht - 05-12-1978 - 101</td>\n",
       "      <td>1978/12/05 00:00:00</td>\n",
       "      <td>\\n    R^ Datum: Tijd: Onderwerp: \\n    n \\n    aup 5-12-78 12 \\n    #^3 Vehus \\n    De Amerikaanse ruimte-verkenner Pioneer-Ã©Ã©n is in een baan om de planeet Venus gekomen en heeft de eerste wetenschappelijke-  gegevens naar de aarde geseind. De Pioneer 4 heeft Venus gisteren voor het eerst gerond en voorlopig zal dat elke 23 uur gebeuren. Verwacht wordt dat de Venus-verkenner een groot aantal gegevens zal opleveren over de oorsprong van het klimaat op aarde. jNet als hier* f /, * / j / / worden de weersomstandigheden op Venus voor een groot / deel door bewolking bepaald. Alleen zijn er op de planeet n. 12 13. 14. doÃ¨ling dat de sondegs, /%sMÂ«a?- vÃ³Ã³r ^e op Venus te \";i !'' pletter slaanJeen groot aadtal gegevens zullen overseinen. Bron: Regels \\n    veel minder veranderingen in het weer. -- Zaterdagkomt een tweede ruimte-verkenner in de buurt van Venus. Dat \\n    ruimtevaartuig heeft vier sondes aan boord die H) f door de \\n    atmosfeer van Venus heen zullen breken. Het is de be- \\n    ^ ^ \\n\\n</td>\n",
       "    </tr>\n",
       "    <tr>\n",
       "      <th>28</th>\n",
       "      <td>ANP Nieuwsbericht - 05-12-1978 - 42</td>\n",
       "      <td>1978/12/05 00:00:00</td>\n",
       "      <td>\\n    Red.: \\n    Datum: \\n    Tijd: \\n    Onderwerp: \\n    aup 5-12-78 \\n    12^ 13 \\n    Vehus \\n    1. \\n    De Amerikaanse ruimte-verkenner Pioneer-Ã©Ã©n/is in een baan \\n    om de planeet Venus gekomen/en heeft de eerste weten- \\n    3. \\n    schappelijke gegevens naar de aarde geseind. De Pioneer \\n    Ã¯ \\n    4. \\n    heeft Venus gisteren voor het eerst gerbnd/en voorlopig zal dat elke 23 uur gebeuren. Verwacht wordt dat de Venus-verkenner een groot aantal gegevens zal opleveren \\n    7. \\n    over de oorsprong van het klimaat op aarde. Net als hier/ \\n    6. \\n    worden de weersomstandigheden op Venus voor een groot \\n    \\ deel door bewolking bepaald. Alleen zijn er op de planeet \\n    10. \\n    11. \\n    12. \\n    13. \\n    14. \\n    15 \\n    veel minder veranderingen in het weer. Æ-Æ Zaterdadkomt een tweede ruimte-verkenner in de buurt van Venus. Dat ruimtevaartuig heeft vier sondes aan boord die HUfdoor de \\n    atmosfeer van Venus heen zullen breken. Het is de bedoeling-  dat de sondegs, /*^) *^ v66r ze op Venus te pletter slaanJeen groot aantal gegevens zullen overseinen. \\n    Bron: \\n    Regets: \\n    &amp;lt;^ \\n    &amp;lt; ^ \\n\\n</td>\n",
       "    </tr>\n",
       "    <tr>\n",
       "      <th>29</th>\n",
       "      <td>ANP Nieuwsbericht - 28-04-1974 - 18</td>\n",
       "      <td>1974/04/28 00:00:00</td>\n",
       "      <td>\\n    Red.: Datum: Tijd: Onderwerp: eo 28-4-74 1. 24-13...... portugal.............. \\n    Het nieuwe regime in Portugal heeft de ÃatHaatHME luchthavens weer opengesteld/ zowel voor binnenkomende als voor ver- 3 trekkende vliegtuigen. De douane-formaliteiten worden verricht- \\n    verricht door militairen/ Ook de banken gaan weer open. \\n    ^ \\n    borlopig noÃtÃn* voorTSrTe uur per dag en alleen voor \\n    loonzaken/ De beurs in Lissabon blijft nog dicht en % er \\n    zijn geen aanwijzingen wanneer die zal worden Â§ heropend. \\n    &amp;lt;gr Het is rustig in de hoofdstad. Generaal Spinola heeft!giste \\n    9. \\n    10 \\n    11 \\n    12 \\n    13 \\n    14 \\n    15 \\n    ren in een gesprek met de pers, radio en televisie, op aan \\n    gedrongen de% nieuwgewonnen vrijheid niet te misbruiken/. \\n    :ui/t \\n    Hij zei geen straatterreur' te zullen dulden. Spinola vroeg de hoofdredacteuren van de kranten een klimaat van bewustzijn te willen scheppen. Het zou erg jammer zijn, zei hij, als de junta maatregelen zou moeten nemen die ha* ze eigenlijk liever niet wi^dÃªJnemen. -SHM*HnHH^HHnHHHHnH^HHMHH^nHHHH5E&amp;amp; ^) Bron: apupirtr Regek: meer \\n    650. 1. 21 20. 000. 9. 72. vdm \\n\\n</td>\n",
       "    </tr>\n",
       "    <tr>\n",
       "      <th>30</th>\n",
       "      <td>ANP Nieuwsbericht - 16-04-1973 - 115</td>\n",
       "      <td>1973/04/16 00:00:00</td>\n",
       "      <td>\\n    Red.: \\n    Datum: \\n    mon 16-4-73 \\n    Tijd: \\n    22. 30 \\n    Onderwerp: de pons \\n    1. \\n    6. \\n    7. \\n    9. \\n    10. \\n    11. \\n    12 \\n    13. \\n    14. \\n    15. \\n    De voorzitter van de Sociaal-Economische Raad, doctorandus De Pous, heeft een beroep gedaan op de werkgevers- en werknemersorganisaties weer aan de onderhandelingstafel te gaan zitten. Hij voorziet een verslechtering van het die nog lange tijd zal doorwerken. / sociale klimaat en de verhoudingen in de Dedrijven-/Het is mijn diepste overtuiging a-eldus de heer De Pous/ dat alleen langs de weg van goed overleg structurele verande* ringen tot stand kunnen komenJ De SER-voorzitter deed zijn oproep vanavond in bet N 0 S-Journaal7 De voorzitters /^ ^â^ van de drie industriebonden staan positief tegenover de oproep; Ze hebben te kennen gegeven de woorden van doctorandus De Pous beslist niet naast zich te zullen neerleggen. De bondsbesturen van de Industriebonden van het N K V en C N V zullen morgen in spoedvergadering bijeenkomen om zich te beraden over de oproep. De Industriebond- N V V \\n    Bron: anp \\n    Regels: meer \\n    650. 1. 21. 50. 000. 1. 73. vdm \\n\\n</td>\n",
       "    </tr>\n",
       "    <tr>\n",
       "      <th>31</th>\n",
       "      <td>ANP Nieuwsbericht - 12-02-1979 - 105</td>\n",
       "      <td>1979/02/12 00:00:00</td>\n",
       "      <td>\\n    Red. \\n    Datum: \\n    Tijd: \\n    nderwerp: \\n    Schip \\n    12-2-79 \\n    18. 00-18. 30 weer-konferentie \\n    In Geneve is een internationale konferentie begonnen over de \\n    gevolgen van klimaat-veranderingen voorlaat mensaAtÃ¨aj \\n    5. \\n    7. \\n    en hat milieu. De konferentie, die iS bijeengeroepen door de Meteorologische Wereldorganisatie WMO, een instelling van de Verenigde Naties, wordt bijgewoond door meer dan 300 desk&amp;amp; ndigt uit 50 landen. HHnÃHnÃnH&amp;lt;&amp;amp; 9HBzijn het erover eens dat de aardt / kouder wordt, maar de meningen lopen uiteen over de vraag of e] \\n    9. \\n    10. \\n    11. \\n    12. \\n    13. \\n    14. \\n    een nieuwe ijstijd komt, of zeltfs al* begonnen i*. Toegegeven wordt ook, dat er teveel koolzuurgas wordt geproduceerd^/ Sommige deskundigen verwachten zelfs een verdubbeling hiervan \\n    door toenemende verbranding van olie en steenkool, en door het \\n    i. \\n    y \\n    vernietigen van wouden. Dit zou, volgens de deskundigen in Kunnen !etde&amp;lt; ^ ^o( r \\n    sommige gebieden \\n    -bot \\n    en in andere \\n    te veel neerslag^of zelfs het smelten van de ijskap aan de \\n    15 \\n    polen, \\n    !&amp;amp; BMEsa^a&amp;amp; Ha^5H^ \\n    ' f?aMJat, \\n    Ã¯lt-L Ce^ul hunnen. \\n    15 \\n    Bron: dd-upi \\n    Regels: \\n    N \\n\\n</td>\n",
       "    </tr>\n",
       "    <tr>\n",
       "      <th>32</th>\n",
       "      <td>ANP Nieuwsbericht - 17-09-1979 - 25</td>\n",
       "      <td>1979/09/17 00:00:00</td>\n",
       "      <td>\\n    Red.: \\n    spa \\n    Datum: \\n    Tijd: \\n    Onderwerp: \\n    2 \\n    17-9-79 ^] b^ imf-rapport \\n    1. \\n    Het Internationale Monetaire Fonds heeft in zijn jaarverslag \\n    een somber beeld gegeven van de ontwikkeling van de wereldeconomie- \\n    wereldeconomie. Het Fonds noemt het economisch klimaat erg onzeker, \\n    4. \\n    en waarschuwt dat een flinke inzinking van de bedrijvigheid \\n    onder ogen moet worden gezien. Op korte termijn zien de \\n    economen van het IMF geen oplossing&amp;amp; m de wereldeconomie \\n    7. \\n    weer uit het slop te krijgen. Maar op middellange termijn \\n    8. \\n    is er wel wat aan te doen, door een gezamenlijke inspanning \\n    9. \\n    van een groot aantal landen. De belangrijkste oorzaak van \\n    10. \\n    de huidige recessie is de scherpe verhoging van de energie- \\n    11. \\n    prijzen, met name die van olie. Het IMF heeft becijferd dat \\n    12 \\n    de rijke landen dit jaar voor een extra-uitgavenpost voor \\n    13. \\n    olie komen te staan van 70 miljard dollar. Het Fonds waar- \\n    14. \\n    schuwt ervoor dat \\n    deze extra uitgaven niet moger \\n    15. \\n    leiden tot een aanwakkering van de inflatie. \\n    Eerder \\n    Bron: \\n    Hegels: \\n\\n</td>\n",
       "    </tr>\n",
       "    <tr>\n",
       "      <th>33</th>\n",
       "      <td>ANP Nieuwsbericht - 17-09-1979 - 6</td>\n",
       "      <td>1979/09/17 00:00:00</td>\n",
       "      <td>\\n    Red.: \\n    Datum: \\n    Tijd: \\n    Onderwerp: \\n    spa \\n    17-9-79 \\n    imf-rapport \\n    Het Internationale Monetaire Fonds heeft in zijn jaarverslag \\n    2. \\n    een somber beeld gegeven van de ontwikkeling van de wereld- \\n    3. \\n    economie. Het Fonds noemt het economisch klimaat erg onzeker, \\n    en waarschuwt dat een flinke inzinking van de bedrijvigheid \\n    onder ogen moet worden gezien. Op korte termijn zien de \\n    economen van het IMF geen oplossing Ãm de wereldeconomie \\n    7. \\n    weer uit het slop te krijgen. Maar op middellange termijn \\n    8. \\n    is er wel wat aan te doen, door een gezamenlijke inspanning \\n    van een groot aantal landen. De belangrijkste oorzaak van \\n    10. \\n    de huidige recessie is de scherpe verhoging van de energie- \\n    11 \\n    prijzen, met name die van olie. Het IMF heeft becijferd dat \\n    12 \\n    de rijke landen dit jaar voor een extra-uitgavenpost voor \\n    13. \\n    olie komen te staan van 70 miljard dollar. Het Fonds waar- \\n    14. \\n    schuwt ervoor dat \\n    deze extra uitgaven niet moge \\n    15. \\n    leiden tot een aanwakkering van de inflatie, \\n    Eerder \\n    Bron: \\n    Regels: \\n\\n</td>\n",
       "    </tr>\n",
       "  </tbody>\n",
       "</table>\n",
       "</div>"
      ],
      "text/plain": [
       "                                   title                 date  \\\n",
       "9   ANP Nieuwsbericht - 04-05-1977 - 113  1977/05/04 00:00:00   \n",
       "10  ANP Nieuwsbericht - 24-05-1978 - 1    1978/05/24 00:00:00   \n",
       "11  ANP Nieuwsbericht - 23-03-1971 - 53   1971/03/23 00:00:00   \n",
       "12  ANP Nieuwsbericht - 16-08-1971 - 1    1971/08/16 00:00:00   \n",
       "13  ANP Nieuwsbericht - 21-09-1972 - 107  1972/09/21 00:00:00   \n",
       "14  ANP Nieuwsbericht - 30-04-1973 - 47   1973/04/30 00:00:00   \n",
       "15  ANP Nieuwsbericht - 12-05-1973 - 10   1973/05/12 00:00:00   \n",
       "16  ANP Nieuwsbericht - 26-11-1974 - 42   1974/11/26 00:00:00   \n",
       "17  ANP Nieuwsbericht - 30-09-1974 - 147  1974/09/30 00:00:00   \n",
       "18  ANP Nieuwsbericht - 29-01-1975 - 104  1975/01/29 00:00:00   \n",
       "19  ANP Nieuwsbericht - 10-05-1976 - 31   1976/05/10 00:00:00   \n",
       "20  ANP Nieuwsbericht - 10-05-1976 - 43   1976/05/10 00:00:00   \n",
       "21  ANP Nieuwsbericht - 11-01-1977 - 30   1977/01/11 00:00:00   \n",
       "22  ANP Nieuwsbericht - 11-01-1977 - 36   1977/01/11 00:00:00   \n",
       "23  ANP Nieuwsbericht - 22-10-1977 - 106  1977/10/22 00:00:00   \n",
       "24  ANP Nieuwsbericht - 26-11-1977 - 16   1977/11/26 00:00:00   \n",
       "25  ANP Nieuwsbericht - 13-11-1979 - 24   1979/11/13 00:00:00   \n",
       "26  ANP Nieuwsbericht - 13-11-1979 - 36   1979/11/13 00:00:00   \n",
       "27  ANP Nieuwsbericht - 05-12-1978 - 101  1978/12/05 00:00:00   \n",
       "28  ANP Nieuwsbericht - 05-12-1978 - 42   1978/12/05 00:00:00   \n",
       "29  ANP Nieuwsbericht - 28-04-1974 - 18   1974/04/28 00:00:00   \n",
       "30  ANP Nieuwsbericht - 16-04-1973 - 115  1973/04/16 00:00:00   \n",
       "31  ANP Nieuwsbericht - 12-02-1979 - 105  1979/02/12 00:00:00   \n",
       "32  ANP Nieuwsbericht - 17-09-1979 - 25   1979/09/17 00:00:00   \n",
       "33  ANP Nieuwsbericht - 17-09-1979 - 6    1979/09/17 00:00:00   \n",
       "\n",
       "                                                                                                                                                                                                                                                                                                                                                                                                                                                                                                                                                                                                                                                                                                                                                                                                                                                                                                                                                                                                                                                                                                                                                                                                                                                                                                                                             text  \n",
       "9   \\n    Red.: \\n    Datum: \\n    Tijd: \\n    Onderwerp: \\n    Haz,.. \\n    4 5 77 \\n    18-18^ \\n    Omzet Gasunie \\n    15. \\n    De Nederlandse Gasunie verwacht dat haar omzet dit jaar met \\n    ongeveer 20 proce^nt zal stijgen tot bijna 14 miljard gulden \\n    3. \\n    De Unie schrijft die stijging voor een deel toe aan de gro- \\n    4. \\n    / ^ tere leveringen van aas/ vooral im eigen land,' L V \\n    voor een \\n    5. \\n    ander deel aan prijsverhogingen. Het afgelopen jaar 1976 \\n    is de afzet achtergebleven bij de verwachtingen. Dit als \\n    7. \\n    gevolg van het zachte weer, het voortduren van het slechte \\n    8. \\n    economische klimaat en activiteiten ter besparing van energi&lt; \\n    9. \\n    De Gasunie beklaagt er zich in haar verslag over, dat/ondanks \\n    10. \\n    een verhoging op 1 januari vorig jaar) de gasprijs voor \\n    11. \\n    kleinverbruikers nog steeds onvoldoende is aangepast aan het \\n    12. \\n    internationale prijspeil. De Nederlandse Gasunie heeft in \\n    13. \\n    14 \\n    1976 ruim 80 miljoen gulden netto-winst geboekt - iets meer \\n    dan een jaar ervoor. - \\n    Bron: gnp \\n    Regels: 13^ \\n\\n                                                                                                                                         \n",
       "10  \\n    . *! \\n    Red.: Datum: \\n    swaab 24. 5. 78 \\n    Tijd: \\n    g. o \\n    Onderwerp: \\n    enkele punten \\n    Ruim duizend Belgische parachutisten zijn uit Zaire in hun \\n    land teruggekeerd. ------- \\n    In ItaliÃ« ligt het treinverkeer stil als gevolg van een \\n    24-uurs-staking bij de spoorwegen. ---- \\n    5 \\n    6. \\n    \\Peru, In&lt; Ã«^B9^nebben de vakbonden de stakende arbeiders opgeroepen \\n    8. \\n    weer aan het werk te gaan. ----- \\n    10. \\n    Het industriÃ«le klimaat in de meeste EEG-landen is in de / drie J eerstejmaanden van dit jaat verbeterd. \\n    (^J-yV y \\n    11. \\n    12. \\n    13. \\n    14. \\n    15 \\n    het weer ! op de meeste plaatsen droog met veel bewolking. r rlnngn f*n knit a^ Â°^ ****** ^^^ m-ic+- ^=. r&lt; ^^o maxima van 12 graden aan zee tot 16 graden in het binnenland. \\n    &amp; R- \\n    Bron: \\n    Regels \\n\\n                                                                                                                                                                                                                                                                                                                                                                                                                                  \n",
       "11  \\n    Red. \\n    Datum: \\n    Tijd: \\n    Onderwerp: \\n    Gin.. \\n    23-3-71. 1. 2. ^-13 sowjetkarnexplnsie \\n    2. \\n    7. \\n    10. \\n    11. \\n    12. \\n    13. \\n    14. \\n    15. \\n    In de Sowjetunie heeft zich vanochtend weer een krachtige ondergrondse kernontploffing voorgedaan, dit keer vermoedelijk-  op de westelijke hellingen van het Oeral-gebergte. De explosie was nog zwaarder dan die van gisterochtend bij Semipalatinsk in het aziatische deel van de Sowjetunieg De kracht dAa*rvan werd geschat op 1 Megaton. Volgens het seismologisch instituut in Uppsala, Zweden, ging het gisteren-  om een militaire proef. De ontploffing van vanochten zou teweeg gebracht zijn voor vreedzame doeleinden. Weate- /de/ lijke deskundigen nemen al enige tijd aan dat/russen met behulp-  van ondergrondse kernontploffingen rivieren willen verleggen naar het noorden. Doel ervan zou zijn het klimaat in noordelijker delen van de Sowjetunie te verbeteren. - \\n    650. 1. 18. 50. 000. 10. 70. vdm. \\n    Bron: ap-Upi \\n    Regets: -j ^ \\n\\n                                                                                                                                                                                                                                                                 \n",
       "12  \\n    Red.: \\n    jansen \\n    Datu \\n    m: \\n    16-8-71 \\n    Tijd: 23. 55 \\n    Onderwerp: Mon. toestand \\n    2. \\n    4. \\n    5. \\n    7. \\n    8. \\n    10. \\n    11. \\n    12. \\n    13. \\n    14. \\n    15. \\n    650. 1. 17. 50. 000. 3. 70. vdM. \\n    Als gevolg van de economische maatregelen van president \\n    Nixon zijn vandaag op de New Yorkse effectenbeurs \\n    records gebroken. Er werden ruim 31, 7-miljoen aandelen \\n    verhandeld; het vorige record was ruim 28, 2-miljoen. \\n    Het Dow Jones-gemiddelde steeg met 33 punten. Dat is op Ã©Ã©n dag ook nog nooit eerder voorgekomen. De kooplust (die nnÃMiirlljli de koersstijging verklaart) wordt toegeschreven- \\n    toegeschreven aan de terugkeer van het vertrouwen, dat de \\n    Amerikaanse regering een beter economisch klimaat zal \\n    scheepen. In New York waren vandaag vooral weer de \\n    individuele beleggers van de partij. Zijn ontbraken de \\n    afgelopen maanden. De levendige handel gold niet voor: \\n    de internationale oliemaatschappijen, buitenlandse \\n    fondsen, importondernemingen en de goudfondsen. \\n    In veel Europese landen zullen ook morgen de geld- en \\n    Bron: \\n    Regeis: \\n    meer \\n\\n                                                                                                     \n",
       "13  \\n    Red. \\n    Datu \\n    m: \\n    Tijd: \\n    Onderwerp: \\n    * sÃ§hrau 21-9-72 \\n    ..... 1. 8-183 0........... EN. KE. LE.... P. UNTEN...... ^ \\n    3. \\n    10. \\n    1 1. \\n    12. \\n    13. \\n    14. \\n    15. \\n    He raad. vanhestuar van' het AKEpL-^meem he&amp; T? Kaax het \\n    or de^E^KX-bepyiÃ¢Ven pla^H/teruggenomen. ^. \\n    De ministers Langman en Udink hebben in een Nota Noorden \\n    des Lands plannen hekend gemaakt voor Verbetering van het \\n    agrarische en het industriÃ«le klimaat in de noordelijke \\n    provincies. â \\n    De tweede kamer zal volgende week het regeringsvoorstel \\n    behandelen voor een nieuw tarievenstelsel voor de looh- \\n    en inkomstenbelasting. â \\n    Koningin Juliana en Prins Bernhard hebben in JoegoslaviÃ« \\n    een fabriek bezocht, waar zij uitleg kregen van het \\n    arbeiders-zelfbestuur. â \\n    &lt; 0^ \\n    In Hamburg zijn vier Arabieren gearresteerd 3ÃB op \\n    verdenking van terrorisme \\n    uitgewezen. â \\n    HEE WEER: op de meeste plaatsen droog met vooral in het zuiden flinke zonnige perioden. \\n    Bron: \\n    Regeis: / r \\n    650. 1. 19. 50. 000. 10. 71 vdm. \\n\\n                                                                                                                                            \n",
       "14  \\n    Red.: \\n    Datum: \\n    Tijd: \\n    Onderwerp: \\n    SO \\n    .. 3. 0. r... 4-. 7. 3 \\n    . 1. 4. \\n    weer. \\n    1. De wereld heeft het afgelonen jaar een buitengewoon grillig 2. klimaat gehad. Overal hebben zich records voorgedaan in 3. droogte, regenval, temperatuurverschillen en dergelijke. 4. yAldus ^^ S^Ã^HHB de meteorologische wereldorganisatie in GenÃ¨ve. 5. ( ^bÃ¨/bijvoorbeeld__. 3 ^4%L_^ ihzR Rusland\\te ^amnen met grote droogte! de Don bereikte hel # 6. laagste ^eil in 90 jaar. Madrid had een record-regenval, 7. de ergste in ruim honderd jaar. In Amerika richtte wervel- 8. storm Agnes een ongeÃ«venaarde schade aan. 122 mensen kamen 9. erbij om het leven. Ook een absoluut record. 10. 11. # 12. 13. 14. 15. Bron: Regels: ^ 650. 1. 21. 50. 000. 1. 73. vdm \\n\\n                                                                                                                                                                                                                                                                                                                                                                                                                                                                                                                            \n",
       "15  \\n    Red.: \\n    Datum: \\n    Tijd: \\n    Onderwerp: \\n    ...kram......... 12-5-1973 \\n    2230 \\n    headlibes \\n    1. Premier den Uyl zal maandag 28 Mei de regerings-verklaring 2. afleggen van het nieuwe kabinet. 3. De Sovietunie en Polen zijn blij met de verbetering van 4. het KmKmxmxhxhx politieke klimaat in Europa. 5. De Egyptische diplomaat El Koly die namens president Sadat 6. ' * 7 heeft bemiddeld tussen Libanon en Syrie is in Cairo 8. teruggekeerd. 9. De Amerikaa. se minister Rogers van buitenlandse zaken is 10. in Mexico een rondreis begonnen langs een aantal midden- 11. en zuid-amerikaanse landen. 12. Het weer: Heldere nacht. Morgen toenemende bewolking, &lt; 13. in het Noorden mogelijk gevolgd door regen. 14. 15. Bron: Regels: 13 650. 1. 21. 50. 000. 1. 73. vdm \\n\\n                                                                                                                                                                                                                                                                                                                                                                                                                                                                                                                        \n",
       "16  \\n    Red.: Datum: Tijd: Onderwerp: cas 26-11-74 18. 18^ tweede kamer 1 \\n    1. \\n    3. \\n    4. \\n    De KVP meentlevenals AR en CHU, dat een lastenverlichting / voor het bedrijfsleven/in de regeringsmaatregelen-om-onze- &lt;^&lt; 2^\" / economie-weer-wat-aan-te-zwengelen/sen zwaarder accent moet krijgen dan op het ogenblik nog het geval is. De KVP-er Van Amelsfoort meent dat om het ondernemersklimaat te verbeteren 6. de voorgestelde investeringsfaciliteiten zouden moeten worde: ? uitgebreid^ De venno#tsschapsbelasting verlaagd, en de zelf- 8. standigen-aftrek verhoogd? De VVD-er Koning sprak van een verziekt belasting-klimaat. HE Belasting-fraude en kapitaal- vlucht zijn naar zijn oordeel uitingen van burgerlijke on- gehoorzaamheiybegen het structurele geweld, dat de overheid i2 tegen de belasting-betaler hanteert. Zijn fractiegenoot \\n    10. \\n    11 \\n    13. \\n    14. \\n    15 \\n    Portheit)&amp; verweet het kabinet in zijn maatregelen op een funeste wijze te nivelleren^ Discriminatie moet over de hele lijn worden opgeheven, aldus deze VVD-er. Ze mag niet halt \\n    Bron. \\n    Regels: Meer \\n\\n                                                                                                                                                                               \n",
       "17  \\n    Red.: \\n    Datum: \\n    Tijd: \\n    Onderwerp: \\n    burg 30 9 74 2355 Portugal \\n    2. \\n    4. \\n    5. \\n    8. \\n    10. \\n    11 \\n    12 \\n    In bet elempaleis in Lissabon is generaal Da Costa Gomez \\n    vanavond beeidigd als de nieuwe president van Portugal? In \\n    een rede voor radio en televisie riep het nieuwe staatshoofd het Portugese volk op de eendracht en de rust te ^HHH* beware \\n    Hij zei verder onder meer, dat zijn land de banden met het \\n    atlÃ ntisch bondgenootschap instand zal houden. President Da \\n    Costa Gomez bracht hulde aan zijn \\n    afgetreden \\n    voorga tgerSpinola, maar nam tegelijk afstand van diens rede i van vanmiddag. Generaal Sninnla zei daarin onder meer, dat \\n    in Portugal een klimaat van anarchie heerst. \\n    In de portugese kolonie Angola is vandaag na het aftreden \\n    **3' van Spinola de pers weer onder censuur ^HHHÃ geplaatst. De \\n    14. \\n    15 \\n    junt^a, die het land voorlopig bestuurt, heeft laten w&amp; %en, \\n    dat het gaat om een tijdelijke maatregels- \\n    Bron: \\n    alle \\n    Regels: \\n    15 \\n\\n                                                                                                                                                                                                   \n",
       "18  \\n    Red. \\n    Datum: \\n    Tijd: \\n    Onderwerp: \\n    eo \\n    29-1-75 \\n    22^ \\n    kvp \\n    Als de regering morgen tijdens de interpellatie Wiegel/over de werkloosheid, meegeelt dat de verwachtingen weer slechter \\n    zijn geworden, zal de KVP alsnog uitvoering verlangen van de \\n    4. \\n    motie Van Amelsvoort. Dit heeft KVP-fractievoorzitter \\n    5. Andriessen vanavond in Utrecht bekendgemaakt op een bijeen- fter tafej komst van zijn partij. De motie Van Amelsvoort kwam/tijdens het tweede kamerdebat over het plan van 3^-miljard gulden ter bestrijding van de inflatie en de werkloosheid. De heer \\n    10. \\n    E Andriessen zei, dat de KVP met de motie meer belasting- ba*?&lt; ?yÃ^ verlichting *a*Ã¯&amp; dK voor het bedrijfsleven, om het investerings- \\n    11. \\n    klimaat te verbeteren. Daarbij werd( gedacht aan verlaging van \\n    12 \\n    de vennootschapsbelasting of rechtstreekse bevordering van \\n    13. \\n    14. \\n    15 \\n    investeringen en aan soortgelijke maatregelen voor zelfstandige-  ondernemens. Als de verwachtingen over de werkloos/t- zal de motie J* heid tegenvallen, *****t**t*a*M) **\" volgens de fractievoorzitter moeten \\n    Bron: \\n    Regets: \\n    anp \\n    meer \\n\\n                                                                      \n",
       "19  \\n    Red.: \\n    Datum: \\n    Tijd: \\n    Onderwerp: \\n    Krul....... 10^5^76 3KK 22^ \\n    Mont. Edison \\n    1. \\n    6 \\n    9. \\n    10. \\n    11. \\n    12. \\n    13. \\n    14. \\n    15. \\n    In Zeeland is verschillend gereageerd op de mededeling uit Rome concern Mont Edison \\n    dat het Italiaanse petro chemische \\n    \" zich niet in deze \\n    provincie zal vestigen, maar in BelgiÃ«. Gedeputeerde Kaland is teleurgesteld. Hij heeft morgen een gesprek op het ministerie van economische zaken in een poging Mont Edison alsnog naar Zeeland-  te halen. De industriebond NVV afdeling Zeeland is verheugd- \\n    verheugd, omdat er nu wa** terrein vrijkomt voor industrieÃ«n die passen bij de Zeeuwse arbeidsmarkt en de milieu-eisen. Aldus een verklaring van de bond. Het CNV Zeeland zegt zich met betrekking-  tot Mont Edison nooit afwijzend te hebben opgesteld. Nt de vestiging er niet komt is er een klimaat geschapen waarin volgens het CNV alle partijen weer kunnen spreken over een goed arbeidsbeleid. \\n    Bron: \\n    anp \\n    Regels: 12 E^X \\n\\n                                                                                                                                                                                                                                           \n",
       "20  \\n    Red.: \\n    Datum: \\n    Tijd: \\n    Onderwerp: \\n    Krul \\n    10-5-76 XDBX 22^ Mont Edison \\n    # \\n    5. \\n    9. \\n    10. \\n    11. \\n    12 \\n    13. \\n    14. \\n    15. \\n    In Zeeland is verschillend gereageerd op de mededeling uit Rome concern Mont Edison \\n    dat het Italiaanse petro chemische \\n    \" zich niet in\" deze \\n    provincie zal vestigen, maar in BelgiÃ«. Gedeputeerde Kaland is teleurges+eld. Hij heeft morgen een gesprek op het ministerie var economische zaken in een poging Mont Edison alsnog naar Zeeland-  te halen. De industriebond NVV afdeling Zeeland is verheugd- \\n    verheugd, omdat er nu was* terrein vrijkomt voor industrieÃ«n die \\n    passen bij de Zeeuwse arbeidsmarkt en de milieu-eisen. Aldus eer verklaring van de bond. Het CNV Zeeland zegt zich met betrekking-  tot Mont Edison nooit afwijzend te hebben opgesteld. Nu de vestiging er niet komt is er een klimaat geschapen waarin volgens het CNV alle partijen weer kunnen spreken over een goed \\n    arbeidsbeleid. \\n    Bron: anp Regels: 12 KgX \\n\\n                                                                                                                                                                                                                                                  \n",
       "21  \\n    Red Datum: Tijd: Onderwerp: kreek 11. 1. 77 23-, 2%? den uyl en de onrust \\n    1. Uitblijven van overeenstemming in de loon-onderhandelingen 2. kan volgens premier Den Uyl/schadelijke gevolgen hebben voor het sociale en economische klimaat. In een gesprek met iemand van het blad De Onderneming( van het Verbond van Ne- 5. derlandse Ondernemingen) zei de heer Den Uyl dat hij zich over de stand van zaken nu, /zorgen Taakt. Di 4njgiMt.. aieh Hij ziet het als een taak van de overheid te voorkomen dat een verkies aan vertrouwen over en weer/leidt tot een maatschappelijke crisis. \"[riniiiitiiiiiii)&lt; !itli1ijii]ir) Trri* 10. \\n    6. \\n    7. \\n    11. \\n    12. \\n    13. \\n    14. \\n    15. \\n    Bron: Regels: SV * 8 \\n\\n                                                                                                                                                                                                                                                                                                                                                                                                                                                                                                                                                                                 \n",
       "22  \\n    Red. \\n    Datum: \\n    kreek..... 11. 1. 77 \\n    23 \\n    Tijd: \\n    onderwerp: \\n    den uyl en de onrust \\n    1. Uitblijven van overeenstemming in de loon-onderhandelingen 2. kan volgens premier Den Uyl/schadelijke gevolgen hebben voor \\n    3. \\n    het sociale en economische klimaat. In een gesprek met \\n    4. \\n    iemand van het blad De Onderneming( van het Verbond van Ne- \\n    5. \\n    derlandse Ondernemingen) zei de heer Den Uyl dat hij zich \\n    6. \\n    over de stand van zaken nu, /zorgen rraakt. Di ^ugint-zieh Hij ziet het als een taak van de overheid te voorkomen dat \"\"^Igm\" ^Â° pTiniii i iintt ! nT It\" till..... un..... n MMii ifiÃ¼fij^jng\"' in een verliesvaan vertrouwen over en weer/leidt tot een c-cn verrlrijj' i'\" nTiT*iin- aiiitrÃ¯TlilrrrlijÃ¯nTfr.' in ii' mimiilijlir maatschappelijke crisis. \\n    10. \\n    11. \\n    12 \\n    13. \\n    14. \\n    15. \\n    Bron: SV \\n    Regels: \\n    e \\n\\n                                                                                                                                                                                                                                                                                                                                                                         \n",
       "23  \\n    Red. \\n    ) atum: \\n    kram........ 22-10-1977 \\n    Tijd: 18 Ã830 \\n    rerwerp: \\n    onderzoek ruimte \\n    1. \\n    3. \\n    5. \\n    8. \\n    Vanaf de amerikaanse basis Cape Canaveral is een Delta- raket gelanceerd met twee kunstmanen, Ã©Ã©n van het Europese ruimtebureau en Ã©Ã©n van het Amerikaanse bureau voor het onderzoek van de ruimte/: Beide kunstmanen zijn uitgerust metzowel Amerikaanse als Europese instrumenten die gegevens moeten gaan verstrekken over de invloed van de zon yfp het klimaat hier /p aarde/De twee satellieten worden in een sterk eliptische baan om de aarde gebracht/waarvan he verste pun%87* duizend mijlen verwijderd is%pn het di \\n    chtste \\n    10. \\n    11. \\n    12. \\n    ^.. \\n    punt 174 mijlen. Het gaat vooral om de invloed van de \\n    zogenoemde zonnewind op het weer. \\n    ^ \\n    13. \\n    14. \\n    15 \\n    Bron: \\n    rtr anp \\n    Regeis: -j Q \\n\\n                                                                                                                                                                                                                                                                                                                                                                                                \n",
       "24  \\n    Red.: \\n    Datum: \\n    Tijd: \\n    Onderwerp: \\n    blank \\n    26 11 77 12^j^3T sadat in parlement \\n    President Sadat van Egypte heeft Amerika, de Sovjetunie- \\n    Sovjetunie, IsraÃ«l en de arabische landen uitgenodigd naar \\n    3. \\n    Cairo te komen om vÃ³Ã³r-overleg te plegen, dat de \\n    4. \\n    vredesconferentie in GenÃ¨ve weer op gang moet helpen. \\n    5. \\n    Sadat zei dit in het egyptische parlement, waar hij ver- \\n    6. \\n    slag uitbracht van zijn reis naar Jerusalem. Volgens \\n    7. \\n    Sadat is het belangrijkste resultaat van zijn bezoek \\n    8. \\n    geweest: het verbeteren van het psychologisch klimaat. \\n    10. \\n    Nog geen tien dagen tevoren, zei hij, was er een levensgrote-  dreiging van een nieuwe oorlog; nu gelooft niemand \\n    11. \\n    12. \\n    13. \\n    14. \\n    15 \\n    in IsraÃ«l meer, dat Egypte oorlog wil. - Andere resultaten- \\n    resultaten waren volgens Sadat: de overtuiging in IsraÃ«l, dat \\n    van dÃ¢Ã¢r nu een nieuw initiatief moet komen, en het feit, \\n    dat er bij\" veilige grenzen\" nu niet meer wordt gedacht \\n    aan het annexeren van andermans gebied. - - Sadat haalde \\n    Bron: \\n    Regets: \\n\\n                                                                                                            \n",
       "25  \\n    Red.: \\n    Datum: \\n    Tijd: \\n    Schip 13-11-79 \\n    Onderwerp: Iran ^VS \\n    5. \\n    10. \\n    11. \\n    12. \\n    13. \\n    14. \\n    15. \\n    De Iraanse minister van Buitenlandse Zaken, Bani Sadr, heeft gevraagd om een bijeenkomst van de Veiligheidsraad, omdat volgens hem in de Verenigde Staten een oorlogs-klimaat wordt geschapen. Hij doelde daarmee daarmee op de arrestatie van \\n    Iraanse demonstranten in Amerika. In een open brief aan \\n    Secretaris-Generaal Waldheim van de Verenigde Staten, verzocht de Iraanse minister diens persoonlijke tussenkomst om de uitlevering-  van de Sjah te bewerkstelligen. Hij liet weten dat \\n    Iran bereid is de voorwaarden waaronder het de Amerikaanse \\n    gijzelaars wil vrij laten, te versoepelen. Iran wil twee dingen: Ten eerste het instellen van een onderzoek naar de misdaden \\n    die de Sjah heeft begaan. De resultaten daarvan moeten door Amerika worden erkend. Ten tweede dat het kapitaal en de eigendommen- \\n    eigendommen van de Sjah weer naar Iran worden gebracht. \\n    Bron: \\n    Regets: 1 ^ \\n    rtr-upi \\n\\n                                                                                                                                                                                                          \n",
       "26  \\n    Red. \\n    Datum: \\n    Tijd: \\n    Onderwerp: \\n    Schip 13-11-79 \\n    Iran \\n    % \\n    4. \\n    7. \\n    9. \\n    10. \\n    11. \\n    12. \\n    13. \\n    14. \\n    15. \\n    De Iraanse minister van Buitenlandse Zaken, Bani Sadr, heeft gevraagd-  om een bijeenkomst van de veiligheidsraad, omdat volgens hem in de Verenigde Staten een oorlogs-klimaat wordt gecreerd. \\n    Hij deed dit een open brief aan Secretaris-Generaal Waldheim \\n    van de Verenigde Naties, en verzocht ook diens persoonlijke tussenkomst om de uitlevering van de Sjah te bewerkstelligen. De Iraanse minister liet ook weten dat Iran bereid is de voorwaarden-  waaronder het bereid is de Amerikaanse gijzelaars te \\n    \\ \\n    het \\n    laten gaaa, te versoepelen. Iran wil nu twee dingen instellen van een \\n    i ii r u \\n    onderzoek naar de misdaden die de Sjah heeft bsaan, **&amp; e resultaten daarvan MÃttH^M Ã³Ã¯fM*3 ^^ ^_ \\n    kend. Ten tweede dat' het kapitaal en alle eigendommen van de Sjah weer naar Iran worden gebracht. \\n    Bron: \\n    Regets: \\n\\n                                                                                                                                                                                                                                                   \n",
       "27  \\n    R^ Datum: Tijd: Onderwerp: \\n    n \\n    aup 5-12-78 12 \\n    #^3 Vehus \\n    De Amerikaanse ruimte-verkenner Pioneer-Ã©Ã©n is in een baan om de planeet Venus gekomen en heeft de eerste wetenschappelijke-  gegevens naar de aarde geseind. De Pioneer 4 heeft Venus gisteren voor het eerst gerond en voorlopig zal dat elke 23 uur gebeuren. Verwacht wordt dat de Venus-verkenner een groot aantal gegevens zal opleveren over de oorsprong van het klimaat op aarde. jNet als hier* f /, * / j / / worden de weersomstandigheden op Venus voor een groot / deel door bewolking bepaald. Alleen zijn er op de planeet n. 12 13. 14. doÃ¨ling dat de sondegs, /%sMÂ«a?- vÃ³Ã³r ^e op Venus te \";i !'' pletter slaanJeen groot aadtal gegevens zullen overseinen. Bron: Regels \\n    veel minder veranderingen in het weer. -- Zaterdagkomt een tweede ruimte-verkenner in de buurt van Venus. Dat \\n    ruimtevaartuig heeft vier sondes aan boord die H) f door de \\n    atmosfeer van Venus heen zullen breken. Het is de be- \\n    ^ ^ \\n\\n                                                                                                                                                                                                                                                                                       \n",
       "28  \\n    Red.: \\n    Datum: \\n    Tijd: \\n    Onderwerp: \\n    aup 5-12-78 \\n    12^ 13 \\n    Vehus \\n    1. \\n    De Amerikaanse ruimte-verkenner Pioneer-Ã©Ã©n/is in een baan \\n    om de planeet Venus gekomen/en heeft de eerste weten- \\n    3. \\n    schappelijke gegevens naar de aarde geseind. De Pioneer \\n    Ã¯ \\n    4. \\n    heeft Venus gisteren voor het eerst gerbnd/en voorlopig zal dat elke 23 uur gebeuren. Verwacht wordt dat de Venus-verkenner een groot aantal gegevens zal opleveren \\n    7. \\n    over de oorsprong van het klimaat op aarde. Net als hier/ \\n    6. \\n    worden de weersomstandigheden op Venus voor een groot \\n    \\ deel door bewolking bepaald. Alleen zijn er op de planeet \\n    10. \\n    11. \\n    12. \\n    13. \\n    14. \\n    15 \\n    veel minder veranderingen in het weer. Æ-Æ Zaterdadkomt een tweede ruimte-verkenner in de buurt van Venus. Dat ruimtevaartuig heeft vier sondes aan boord die HUfdoor de \\n    atmosfeer van Venus heen zullen breken. Het is de bedoeling-  dat de sondegs, /*^) *^ v66r ze op Venus te pletter slaanJeen groot aantal gegevens zullen overseinen. \\n    Bron: \\n    Regets: \\n    &lt;^ \\n    &lt; ^ \\n\\n                                                                                                                                     \n",
       "29  \\n    Red.: Datum: Tijd: Onderwerp: eo 28-4-74 1. 24-13...... portugal.............. \\n    Het nieuwe regime in Portugal heeft de ÃatHaatHME luchthavens weer opengesteld/ zowel voor binnenkomende als voor ver- 3 trekkende vliegtuigen. De douane-formaliteiten worden verricht- \\n    verricht door militairen/ Ook de banken gaan weer open. \\n    ^ \\n    borlopig noÃtÃn* voorTSrTe uur per dag en alleen voor \\n    loonzaken/ De beurs in Lissabon blijft nog dicht en % er \\n    zijn geen aanwijzingen wanneer die zal worden Â§ heropend. \\n    &lt;gr Het is rustig in de hoofdstad. Generaal Spinola heeft!giste \\n    9. \\n    10 \\n    11 \\n    12 \\n    13 \\n    14 \\n    15 \\n    ren in een gesprek met de pers, radio en televisie, op aan \\n    gedrongen de% nieuwgewonnen vrijheid niet te misbruiken/. \\n    :ui/t \\n    Hij zei geen straatterreur' te zullen dulden. Spinola vroeg de hoofdredacteuren van de kranten een klimaat van bewustzijn te willen scheppen. Het zou erg jammer zijn, zei hij, als de junta maatregelen zou moeten nemen die ha* ze eigenlijk liever niet wi^dÃªJnemen. -SHM*HnHH^HHnHHHHnH^HHMHH^nHHHH5E&amp; ^) Bron: apupirtr Regek: meer \\n    650. 1. 21 20. 000. 9. 72. vdm \\n\\n                                                                                                    \n",
       "30  \\n    Red.: \\n    Datum: \\n    mon 16-4-73 \\n    Tijd: \\n    22. 30 \\n    Onderwerp: de pons \\n    1. \\n    6. \\n    7. \\n    9. \\n    10. \\n    11. \\n    12 \\n    13. \\n    14. \\n    15. \\n    De voorzitter van de Sociaal-Economische Raad, doctorandus De Pous, heeft een beroep gedaan op de werkgevers- en werknemersorganisaties weer aan de onderhandelingstafel te gaan zitten. Hij voorziet een verslechtering van het die nog lange tijd zal doorwerken. / sociale klimaat en de verhoudingen in de Dedrijven-/Het is mijn diepste overtuiging a-eldus de heer De Pous/ dat alleen langs de weg van goed overleg structurele verande* ringen tot stand kunnen komenJ De SER-voorzitter deed zijn oproep vanavond in bet N 0 S-Journaal7 De voorzitters /^ ^â^ van de drie industriebonden staan positief tegenover de oproep; Ze hebben te kennen gegeven de woorden van doctorandus De Pous beslist niet naast zich te zullen neerleggen. De bondsbesturen van de Industriebonden van het N K V en C N V zullen morgen in spoedvergadering bijeenkomen om zich te beraden over de oproep. De Industriebond- N V V \\n    Bron: anp \\n    Regels: meer \\n    650. 1. 21. 50. 000. 1. 73. vdm \\n\\n                                                                                                                                \n",
       "31  \\n    Red. \\n    Datum: \\n    Tijd: \\n    nderwerp: \\n    Schip \\n    12-2-79 \\n    18. 00-18. 30 weer-konferentie \\n    In Geneve is een internationale konferentie begonnen over de \\n    gevolgen van klimaat-veranderingen voorlaat mensaAtÃ¨aj \\n    5. \\n    7. \\n    en hat milieu. De konferentie, die iS bijeengeroepen door de Meteorologische Wereldorganisatie WMO, een instelling van de Verenigde Naties, wordt bijgewoond door meer dan 300 desk&amp; ndigt uit 50 landen. HHnÃHnÃnH&lt;&amp; 9HBzijn het erover eens dat de aardt / kouder wordt, maar de meningen lopen uiteen over de vraag of e] \\n    9. \\n    10. \\n    11. \\n    12. \\n    13. \\n    14. \\n    een nieuwe ijstijd komt, of zeltfs al* begonnen i*. Toegegeven wordt ook, dat er teveel koolzuurgas wordt geproduceerd^/ Sommige deskundigen verwachten zelfs een verdubbeling hiervan \\n    door toenemende verbranding van olie en steenkool, en door het \\n    i. \\n    y \\n    vernietigen van wouden. Dit zou, volgens de deskundigen in Kunnen !etde&lt; ^ ^o( r \\n    sommige gebieden \\n    -bot \\n    en in andere \\n    te veel neerslag^of zelfs het smelten van de ijskap aan de \\n    15 \\n    polen, \\n    !&amp; BMEsa^a&amp; Ha^5H^ \\n    ' f?aMJat, \\n    Ã¯lt-L Ce^ul hunnen. \\n    15 \\n    Bron: dd-upi \\n    Regels: \\n    N \\n\\n  \n",
       "32  \\n    Red.: \\n    spa \\n    Datum: \\n    Tijd: \\n    Onderwerp: \\n    2 \\n    17-9-79 ^] b^ imf-rapport \\n    1. \\n    Het Internationale Monetaire Fonds heeft in zijn jaarverslag \\n    een somber beeld gegeven van de ontwikkeling van de wereldeconomie- \\n    wereldeconomie. Het Fonds noemt het economisch klimaat erg onzeker, \\n    4. \\n    en waarschuwt dat een flinke inzinking van de bedrijvigheid \\n    onder ogen moet worden gezien. Op korte termijn zien de \\n    economen van het IMF geen oplossing&amp; m de wereldeconomie \\n    7. \\n    weer uit het slop te krijgen. Maar op middellange termijn \\n    8. \\n    is er wel wat aan te doen, door een gezamenlijke inspanning \\n    9. \\n    van een groot aantal landen. De belangrijkste oorzaak van \\n    10. \\n    de huidige recessie is de scherpe verhoging van de energie- \\n    11. \\n    prijzen, met name die van olie. Het IMF heeft becijferd dat \\n    12 \\n    de rijke landen dit jaar voor een extra-uitgavenpost voor \\n    13. \\n    olie komen te staan van 70 miljard dollar. Het Fonds waar- \\n    14. \\n    schuwt ervoor dat \\n    deze extra uitgaven niet moger \\n    15. \\n    leiden tot een aanwakkering van de inflatie. \\n    Eerder \\n    Bron: \\n    Hegels: \\n\\n                                                                   \n",
       "33  \\n    Red.: \\n    Datum: \\n    Tijd: \\n    Onderwerp: \\n    spa \\n    17-9-79 \\n    imf-rapport \\n    Het Internationale Monetaire Fonds heeft in zijn jaarverslag \\n    2. \\n    een somber beeld gegeven van de ontwikkeling van de wereld- \\n    3. \\n    economie. Het Fonds noemt het economisch klimaat erg onzeker, \\n    en waarschuwt dat een flinke inzinking van de bedrijvigheid \\n    onder ogen moet worden gezien. Op korte termijn zien de \\n    economen van het IMF geen oplossing Ãm de wereldeconomie \\n    7. \\n    weer uit het slop te krijgen. Maar op middellange termijn \\n    8. \\n    is er wel wat aan te doen, door een gezamenlijke inspanning \\n    van een groot aantal landen. De belangrijkste oorzaak van \\n    10. \\n    de huidige recessie is de scherpe verhoging van de energie- \\n    11 \\n    prijzen, met name die van olie. Het IMF heeft becijferd dat \\n    12 \\n    de rijke landen dit jaar voor een extra-uitgavenpost voor \\n    13. \\n    olie komen te staan van 70 miljard dollar. Het Fonds waar- \\n    14. \\n    schuwt ervoor dat \\n    deze extra uitgaven niet moge \\n    15. \\n    leiden tot een aanwakkering van de inflatie, \\n    Eerder \\n    Bron: \\n    Regels: \\n\\n                                                                                                       "
      ]
     },
     "execution_count": 12,
     "metadata": {},
     "output_type": "execute_result"
    }
   ],
   "source": [
    "#this command shows you the first lines of the file. Put a number between the parenthesis to specify and exact number.\n",
    "#Change df.head into df.tail to see what happens\n",
    "df.tail(25) "
   ]
  },
  {
   "cell_type": "code",
   "execution_count": 20,
   "metadata": {},
   "outputs": [
    {
     "data": {
      "text/plain": [
       "1163"
      ]
     },
     "execution_count": 20,
     "metadata": {},
     "output_type": "execute_result"
    }
   ],
   "source": [
    "len(df) #the len function shows the length of a variable. In this case how many rows in the dataframe "
   ]
  },
  {
   "cell_type": "code",
   "execution_count": 14,
   "metadata": {},
   "outputs": [
    {
     "data": {
      "text/html": [
       "<div>\n",
       "<table border=\"1\" class=\"dataframe\">\n",
       "  <thead>\n",
       "    <tr style=\"text-align: right;\">\n",
       "      <th></th>\n",
       "      <th>title</th>\n",
       "      <th>date</th>\n",
       "      <th>text</th>\n",
       "    </tr>\n",
       "  </thead>\n",
       "  <tbody>\n",
       "    <tr>\n",
       "      <th>5</th>\n",
       "      <td>ANP Nieuwsbericht - 31-12-1973 - 53</td>\n",
       "      <td>1973/12/31 00:00:00</td>\n",
       "      <td>\\n    Red.: \\n    ..E. r?. s \\n    Datum: \\n    31-12-73 \\n    Tijd: ,2.. 2i. \\n    Onderwerp: \\n    enkele nunten \\n    10 \\n    11 \\n    12 \\n    13 \\n    14 \\n    15 \\n    De industriebond ^VV meent dat het klimaat voor 3w werkgelegenheid- \\n    werkgelegenheid in het Waterweggebied sterk is verbterad. \\n    Verscheidene landen hebben hun olieprijzen verhoogd. LybiÃ« rekent nu bijna 1Â° dollar per vat. \\n    In Emmen is de brandweer bezig met het nablussen van de grote mmAgmmmmmmbrand bij Enka-Glanzstoff. \\n    Pakistan heeft alle banken genationaliseerd. \\n    Het weer: Droog en rustig, op v \\n    nacht en ochtend lichte vorst. \\n    ^el plaatsen mist, en in \\n    de \\n    Bron: \\n    Regets: \\n    S \\n    650. 1. 21. 20. 000. 9. 72 vdm \\n\\n</td>\n",
       "    </tr>\n",
       "    <tr>\n",
       "      <th>6</th>\n",
       "      <td>ANP Nieuwsbericht - 12-02-1979 - 33</td>\n",
       "      <td>1979/02/12 00:00:00</td>\n",
       "      <td>\\n    Red. \\n    Schip \\n    Datum: \\n    12-2-79 \\n    Tijd: \\n    15. 00 \\n    Onderwerp: \\n    weer-conferenyie \\n    1. \\n    3. \\n    In Geneve is een internationale konferentie begonnen over de gevolgen van klimaatveranderingen voor-ha^*^c5s&amp;amp; a^jk \\n    ^/? \\n    milieu. De konferentie *h*a is bijeengeroepen \\n    door de Meteorologische Wereldorganisatie WMO, een instelling van de verenigde NatiesTwordt bijgewoond door meer dan 300 \\n    8. \\n    10. \\n    11. \\n    deskundigen uit 50 landen. Volgens de deskundiger. wordt het kouder op aarde, maar men twijfelt over de komst van een nieuwe ijstijd. Er wordt *H* teveel koolzuurgas geproduceerd; dit heeft verstoringen in het klimaat tot gevolg, zoals plaatselijk grote droogte, of overvloedige neerslag. 43? M^Mxa? \\n    12. \\n    13. \\n    14. \\n    15 \\n    Bron: \\n    C^cC \\n    K^ \\n    Regels: Æ%? \\n\\n</td>\n",
       "    </tr>\n",
       "    <tr>\n",
       "      <th>7</th>\n",
       "      <td>ANP Nieuwsbericht - 27-05-1978 - 101</td>\n",
       "      <td>1978/05/27 00:00:00</td>\n",
       "      <td>\\n    Red.: \\n    Datum: \\n    gras 27-5-78 \\n    Tijd: A 1Q \\n    Onderwerp: \\n    ^4 \\n    cda-jongeren \\n    4. \\n    5. \\n    9. \\n    10. \\n    it \\n    12. \\n    De voorzitter van de CDA_jongeren, Borgman, heeft gezegd dat \\n    het geschimp van de VVD tegen de vorige regering en het voortdurend waarschuwen tegen een voortzetting van het / het beleid van het kabinet den Uyl, ÃHMÃAanan&amp;amp; mnm klimaat vee- / slechtert. Hij waarschuwde de PVDA ervoop niet af te glijden \\n    naar een isolement, waardoor net onmogelijk zou worden in d* toekomst weer regeringspartij te woeden. De heer Borgman *pm _^- \\ sprak op een vongres van de CDA-jongeren iw Utrecht. \\n    13. 14. 15 - Bron: anp Regels: 8 \\n\\n</td>\n",
       "    </tr>\n",
       "    <tr>\n",
       "      <th>8</th>\n",
       "      <td>ANP Nieuwsbericht - 27-05-1978 - 8</td>\n",
       "      <td>1978/05/27 00:00:00</td>\n",
       "      <td>\\n    Red.: \\n    Datum: \\n    Tijd: \\n    Onderwerp: \\n    gras 27-5-78 \\n    A 1%/{) cda-jongeren \\n    2. \\n    3. \\n    4. \\n    9. \\n    De voorzitter van de CDA_jongeren, Borgman, heeft gezegd dat het geschimp van de VVD tegen de vorige regering en het voortdurend waarschuwen tegen een voortzetting van het het \\n    beleid van het kabinet-jÃ¢en Uyl, \\n    klimaat verslechtert- \\n    verslechtert. Hij waarschuwde de PVDA ervoor niet af te glijden naar een isolement, waardoor Ret onmogelijk zou worden in de \\n    toekomst weer regeringspartij te \\n    De heer Borgman \\n    sprak op een wongres van de CDA-jongeren ip Utrecht. \\n    10. 11. Â§ 12. 13. 14. 15 Bron: anp Rege!s: 8 \\n\\n</td>\n",
       "    </tr>\n",
       "    <tr>\n",
       "      <th>9</th>\n",
       "      <td>ANP Nieuwsbericht - 04-05-1977 - 113</td>\n",
       "      <td>1977/05/04 00:00:00</td>\n",
       "      <td>\\n    Red.: \\n    Datum: \\n    Tijd: \\n    Onderwerp: \\n    Haz,.. \\n    4 5 77 \\n    18-18^ \\n    Omzet Gasunie \\n    15. \\n    De Nederlandse Gasunie verwacht dat haar omzet dit jaar met \\n    ongeveer 20 proce^nt zal stijgen tot bijna 14 miljard gulden \\n    3. \\n    De Unie schrijft die stijging voor een deel toe aan de gro- \\n    4. \\n    / ^ tere leveringen van aas/ vooral im eigen land,' L V \\n    voor een \\n    5. \\n    ander deel aan prijsverhogingen. Het afgelopen jaar 1976 \\n    is de afzet achtergebleven bij de verwachtingen. Dit als \\n    7. \\n    gevolg van het zachte weer, het voortduren van het slechte \\n    8. \\n    economische klimaat en activiteiten ter besparing van energi&amp;lt; \\n    9. \\n    De Gasunie beklaagt er zich in haar verslag over, dat/ondanks \\n    10. \\n    een verhoging op 1 januari vorig jaar) de gasprijs voor \\n    11. \\n    kleinverbruikers nog steeds onvoldoende is aangepast aan het \\n    12. \\n    internationale prijspeil. De Nederlandse Gasunie heeft in \\n    13. \\n    14 \\n    1976 ruim 80 miljoen gulden netto-winst geboekt - iets meer \\n    dan een jaar ervoor. - \\n    Bron: gnp \\n    Regels: 13^ \\n\\n</td>\n",
       "    </tr>\n",
       "  </tbody>\n",
       "</table>\n",
       "</div>"
      ],
      "text/plain": [
       "                                  title                 date  \\\n",
       "5  ANP Nieuwsbericht - 31-12-1973 - 53   1973/12/31 00:00:00   \n",
       "6  ANP Nieuwsbericht - 12-02-1979 - 33   1979/02/12 00:00:00   \n",
       "7  ANP Nieuwsbericht - 27-05-1978 - 101  1978/05/27 00:00:00   \n",
       "8  ANP Nieuwsbericht - 27-05-1978 - 8    1978/05/27 00:00:00   \n",
       "9  ANP Nieuwsbericht - 04-05-1977 - 113  1977/05/04 00:00:00   \n",
       "\n",
       "                                                                                                                                                                                                                                                                                                                                                                                                                                                                                                                                                                                                                                                                                                                                                                                                                                                                                                                                                                                                                                                                                                                                                                                                     text  \n",
       "5  \\n    Red.: \\n    ..E. r?. s \\n    Datum: \\n    31-12-73 \\n    Tijd: ,2.. 2i. \\n    Onderwerp: \\n    enkele nunten \\n    10 \\n    11 \\n    12 \\n    13 \\n    14 \\n    15 \\n    De industriebond ^VV meent dat het klimaat voor 3w werkgelegenheid- \\n    werkgelegenheid in het Waterweggebied sterk is verbterad. \\n    Verscheidene landen hebben hun olieprijzen verhoogd. LybiÃ« rekent nu bijna 1Â° dollar per vat. \\n    In Emmen is de brandweer bezig met het nablussen van de grote mmAgmmmmmmbrand bij Enka-Glanzstoff. \\n    Pakistan heeft alle banken genationaliseerd. \\n    Het weer: Droog en rustig, op v \\n    nacht en ochtend lichte vorst. \\n    ^el plaatsen mist, en in \\n    de \\n    Bron: \\n    Regets: \\n    S \\n    650. 1. 21. 20. 000. 9. 72 vdm \\n\\n                                                                                                                                                                                                                                                                                                                                                                                                                     \n",
       "6  \\n    Red. \\n    Schip \\n    Datum: \\n    12-2-79 \\n    Tijd: \\n    15. 00 \\n    Onderwerp: \\n    weer-conferenyie \\n    1. \\n    3. \\n    In Geneve is een internationale konferentie begonnen over de gevolgen van klimaatveranderingen voor-ha^*^c5s&amp; a^jk \\n    ^/? \\n    milieu. De konferentie *h*a is bijeengeroepen \\n    door de Meteorologische Wereldorganisatie WMO, een instelling van de verenigde NatiesTwordt bijgewoond door meer dan 300 \\n    8. \\n    10. \\n    11. \\n    deskundigen uit 50 landen. Volgens de deskundiger. wordt het kouder op aarde, maar men twijfelt over de komst van een nieuwe ijstijd. Er wordt *H* teveel koolzuurgas geproduceerd; dit heeft verstoringen in het klimaat tot gevolg, zoals plaatselijk grote droogte, of overvloedige neerslag. 43? M^Mxa? \\n    12. \\n    13. \\n    14. \\n    15 \\n    Bron: \\n    C^cC \\n    K^ \\n    Regels: Æ%? \\n\\n                                                                                                                                                                                                                                                                                            \n",
       "7  \\n    Red.: \\n    Datum: \\n    gras 27-5-78 \\n    Tijd: A 1Q \\n    Onderwerp: \\n    ^4 \\n    cda-jongeren \\n    4. \\n    5. \\n    9. \\n    10. \\n    it \\n    12. \\n    De voorzitter van de CDA_jongeren, Borgman, heeft gezegd dat \\n    het geschimp van de VVD tegen de vorige regering en het voortdurend waarschuwen tegen een voortzetting van het / het beleid van het kabinet den Uyl, ÃHMÃAanan&amp; mnm klimaat vee- / slechtert. Hij waarschuwde de PVDA ervoop niet af te glijden \\n    naar een isolement, waardoor net onmogelijk zou worden in d* toekomst weer regeringspartij te woeden. De heer Borgman *pm _^- \\ sprak op een vongres van de CDA-jongeren iw Utrecht. \\n    13. 14. 15 - Bron: anp Regels: 8 \\n\\n                                                                                                                                                                                                                                                                                                                                                                                                                                                                 \n",
       "8  \\n    Red.: \\n    Datum: \\n    Tijd: \\n    Onderwerp: \\n    gras 27-5-78 \\n    A 1%/{) cda-jongeren \\n    2. \\n    3. \\n    4. \\n    9. \\n    De voorzitter van de CDA_jongeren, Borgman, heeft gezegd dat het geschimp van de VVD tegen de vorige regering en het voortdurend waarschuwen tegen een voortzetting van het het \\n    beleid van het kabinet-jÃ¢en Uyl, \\n    klimaat verslechtert- \\n    verslechtert. Hij waarschuwde de PVDA ervoor niet af te glijden naar een isolement, waardoor Ret onmogelijk zou worden in de \\n    toekomst weer regeringspartij te \\n    De heer Borgman \\n    sprak op een wongres van de CDA-jongeren ip Utrecht. \\n    10. 11. Â§ 12. 13. 14. 15 Bron: anp Rege!s: 8 \\n\\n                                                                                                                                                                                                                                                                                                                                                                                                                                                                                   \n",
       "9  \\n    Red.: \\n    Datum: \\n    Tijd: \\n    Onderwerp: \\n    Haz,.. \\n    4 5 77 \\n    18-18^ \\n    Omzet Gasunie \\n    15. \\n    De Nederlandse Gasunie verwacht dat haar omzet dit jaar met \\n    ongeveer 20 proce^nt zal stijgen tot bijna 14 miljard gulden \\n    3. \\n    De Unie schrijft die stijging voor een deel toe aan de gro- \\n    4. \\n    / ^ tere leveringen van aas/ vooral im eigen land,' L V \\n    voor een \\n    5. \\n    ander deel aan prijsverhogingen. Het afgelopen jaar 1976 \\n    is de afzet achtergebleven bij de verwachtingen. Dit als \\n    7. \\n    gevolg van het zachte weer, het voortduren van het slechte \\n    8. \\n    economische klimaat en activiteiten ter besparing van energi&lt; \\n    9. \\n    De Gasunie beklaagt er zich in haar verslag over, dat/ondanks \\n    10. \\n    een verhoging op 1 januari vorig jaar) de gasprijs voor \\n    11. \\n    kleinverbruikers nog steeds onvoldoende is aangepast aan het \\n    12. \\n    internationale prijspeil. De Nederlandse Gasunie heeft in \\n    13. \\n    14 \\n    1976 ruim 80 miljoen gulden netto-winst geboekt - iets meer \\n    dan een jaar ervoor. - \\n    Bron: gnp \\n    Regels: 13^ \\n\\n  "
      ]
     },
     "execution_count": 14,
     "metadata": {},
     "output_type": "execute_result"
    }
   ],
   "source": [
    "#if you want to view specific slices of the dataset. Let's say row 5 to 10, you can use the following command.\n",
    "#N.B. the first row is numbered 0 and not 1. \n",
    "df[5:10]"
   ]
  },
  {
   "cell_type": "markdown",
   "metadata": {},
   "source": [
    "<h2>Datacleaning</h2>\n",
    "<p>As you have seen the text in the cell is not clean. It contains superfluous character and strings. <br>The next section presents some methods to clean the text in the cell. <br>There are many different ways of doing this, these are just a few examples to give you a sense of how Python and Pandas work. </p>"
   ]
  },
  {
   "cell_type": "code",
   "execution_count": 21,
   "metadata": {
    "collapsed": true
   },
   "outputs": [],
   "source": [
    "#we will store the original dateframe under a new name (df2). \n",
    "#If you use a different name than df in the previous section change this in the code.\n",
    "df2 = df "
   ]
  },
  {
   "cell_type": "code",
   "execution_count": 22,
   "metadata": {},
   "outputs": [],
   "source": [
    "df2['text'] = df2['text'].str.replace('Red.', '') #remove returning text (Red.)"
   ]
  },
  {
   "cell_type": "code",
   "execution_count": 25,
   "metadata": {},
   "outputs": [
    {
     "data": {
      "text/html": [
       "<div>\n",
       "<table border=\"1\" class=\"dataframe\">\n",
       "  <thead>\n",
       "    <tr style=\"text-align: right;\">\n",
       "      <th></th>\n",
       "      <th>title</th>\n",
       "      <th>date</th>\n",
       "      <th>text</th>\n",
       "    </tr>\n",
       "  </thead>\n",
       "  <tbody>\n",
       "    <tr>\n",
       "      <th>5</th>\n",
       "      <td>ANP Nieuwsbericht - 19-09-1953 - 65</td>\n",
       "      <td>1953/09/19 00:00:00</td>\n",
       "      <td>^     ... **..         19 Spet 53         23     *  Teheran     In de Perzische hoofdstad Teheran/is het gisteren tot demonsl&amp;amp;&amp;amp; ties gekomer/ tegen de regering-Zahediy/dn een moskee in het centrum van de stad/begonnen een aantal betogers/\" lang leve MossÃ deq\" te roepen^//Zij werden onmiddellijk gearresteerd^ Volgens een( later uitgegeven verklaring %ijn zij gedeporteerd naar een gebied met een slecht klimaat, /^^^^^M^^^^_     Bron: ft? SP     Regels:</td>\n",
       "    </tr>\n",
       "    <tr>\n",
       "      <th>6</th>\n",
       "      <td>ANP Nieuwsbericht - 21-09-1972 - 69</td>\n",
       "      <td>1972/09/21 00:00:00</td>\n",
       "      <td>Datu     m:              duÃ¼v     21 9 72     1730     nws samenvatting -1     2.     6.     10.     11.     12.     13.     14.     15.     De raad van bestuur van het AKZO-concern neemt het     structuurplan volledig terug, Dat plan was gericht op     de bestdjding van de overcapaciteit in de garen- en vezelsector en het JanSHalt behelsde ookjsluiting van de     r&amp;lt; -t ENKA-bedrijven in Breda. Emmercompazcuum, Zwijnaarde in BelgiÃ« en Wuppertal in WestDuitsland. De raad van bestum meent dat door het schrappen van het plan demogelijk&amp;amp; ^Ã³     wordt geschapen om de rust te herstellen die nodig is     voor het goed functioneren van de onderneming. Uit de     eerste reacties van vakbondszijde blijken verrassing en     voldoening. ---De ministers Langmanen Udink hebben in     een nota-Noorden des lands plannen bekend gemaakt voor     verbetering van het agrarische en het industriÃ«le klimaat-     klimaat in     de noordelijke provincies. -     Koningin Juliana en prigs Bernhard hebben op de tweede     Bron:     SV     Regeis     meer     650. 1. 19. 50. 000. 10. 71 vdm.</td>\n",
       "    </tr>\n",
       "    <tr>\n",
       "      <th>7</th>\n",
       "      <td>ANP Nieuwsbericht - 14-02-1976 - 46</td>\n",
       "      <td>1976/02/14 00:00:00</td>\n",
       "      <td>kram 14-2-1976     1000      S. G. P. congres     -g=-     //\". K     2.     10.     11     12.     13.     14.     In Utrecht werdt vandaag de jaar-vergadering gehouden van de Staatkundig Gereformeerde Partij. In zijn openingsrede z^%R de fraktievoorzitter, dominee' bmo het on-ontkoomb^ar te vinden dat de collektieve voorzieningen op de helling komen. Be S. G. P. -fraktievoorzitter zei over verbetering van het economisch klimaat dat de overheid het uiterste moet doeh om de eigen uitgaven terug te dringen. Over aktiegrcepen op milieu-gebied zei dominee Abma dat die niet bedrijfsblind moeten zijn. Het is onmogelijk alles te hebben, zei hij: een hoog peil van welvaart en een maximaal milieu. Het economisch klimaat, vond hij, laat zich niet straffeloos verwaarlozen.     15.     Bron:     an&amp;lt; j     Regels: -: 1</td>\n",
       "    </tr>\n",
       "    <tr>\n",
       "      <th>8</th>\n",
       "      <td>ANP Nieuwsbericht - 14-02-1976 - 99</td>\n",
       "      <td>1976/02/14 00:00:00</td>\n",
       "      <td>: kram         14-2-1976 jj&amp;amp; eo ,2^          S. G. P. congres     3.     5.     6.     7.     10.     11.     12     13.     14     15     In Utrecht wordt vandaag de jaar-vergadering gehouden van     de Staatkundig Gereformeerde Partij. In zijn openingsrede     IA     Ba-de fraktievoorzitter, dominee Abma, het on-ontkoomb^ar te vinden dat de collektieve voorzieningen op de helling     komen. De S. G. P. -fraktievoorzitter zei over verbetering van     het economisch klimaat dat de overheid het uiterste moet     doeh om de eigen uitgaven terug te dringen. Over aktiegroepen op milieu-gebied zei dominee Abma dat die niet bedrijfsblind     moeten zijn. Het is onmogelijk alles te hebben, zei hij:     een hoog peil van welvaart en een maximaal milieu. Het     economisch klimaat, vond hij, laat zich niet straffeloos     verwaarlozen.     Bron.     anp     Regels: -) -]     *</td>\n",
       "    </tr>\n",
       "    <tr>\n",
       "      <th>9</th>\n",
       "      <td>ANP Nieuwsbericht - 29-08-1955 - 61</td>\n",
       "      <td>1955/08/29 00:00:00</td>\n",
       "      <td>:  Korp.. 29Aug.' 53 2300 ECLA -2- 1. opeenvolging van gebeurtenissen de neiging aangetoond tot - 2. het scheppen van een klimaat, dat gunstiger is voor het *----7 3. constructieve werk dat de Verenigde Naties zo zeer kunnen 4. bevorderen%Binnen de volkerenorganisatie kan ieder lid zijn 5. invloed aanwenden om te komen tot een meer vastberaden en * ' n^-aaA^ ^internationale/ ^ 'wezenlijke/aanval op de armoede dan ooit tevoren^aldus 7. 8. Hammasrkj81a/V 9. 10. 11. * 12. 13. - 14. - 15. Bron: rtr Regels7( 22) 650 [ t 25000 H' 54 A4 vdM.</td>\n",
       "    </tr>\n",
       "  </tbody>\n",
       "</table>\n",
       "</div>"
      ],
      "text/plain": [
       "                                 title                 date  \\\n",
       "5  ANP Nieuwsbericht - 19-09-1953 - 65  1953/09/19 00:00:00   \n",
       "6  ANP Nieuwsbericht - 21-09-1972 - 69  1972/09/21 00:00:00   \n",
       "7  ANP Nieuwsbericht - 14-02-1976 - 46  1976/02/14 00:00:00   \n",
       "8  ANP Nieuwsbericht - 14-02-1976 - 99  1976/02/14 00:00:00   \n",
       "9  ANP Nieuwsbericht - 29-08-1955 - 61  1955/08/29 00:00:00   \n",
       "\n",
       "                                                                                                                                                                                                                                                                                                                                                                                                                                                                                                                                                                                                                                                                                                                                                                                                                                                                                                                                                                                                                                                                                                                                           text  \n",
       "5           ^     ... **..         19 Spet 53         23     *  Teheran     In de Perzische hoofdstad Teheran/is het gisteren tot demonsl&amp;&amp; ties gekomer/ tegen de regering-Zahediy/dn een moskee in het centrum van de stad/begonnen een aantal betogers/\" lang leve MossÃ deq\" te roepen^//Zij werden onmiddellijk gearresteerd^ Volgens een( later uitgegeven verklaring %ijn zij gedeporteerd naar een gebied met een slecht klimaat, /^^^^^M^^^^_     Bron: ft? SP     Regels:                                                                                                                                                                                                                                                                                                                                                                                                                                                                                                                                                                                                                                                      \n",
       "6           Datu     m:              duÃ¼v     21 9 72     1730     nws samenvatting -1     2.     6.     10.     11.     12.     13.     14.     15.     De raad van bestuur van het AKZO-concern neemt het     structuurplan volledig terug, Dat plan was gericht op     de bestdjding van de overcapaciteit in de garen- en vezelsector en het JanSHalt behelsde ookjsluiting van de     r&lt; -t ENKA-bedrijven in Breda. Emmercompazcuum, Zwijnaarde in BelgiÃ« en Wuppertal in WestDuitsland. De raad van bestum meent dat door het schrappen van het plan demogelijk&amp; ^Ã³     wordt geschapen om de rust te herstellen die nodig is     voor het goed functioneren van de onderneming. Uit de     eerste reacties van vakbondszijde blijken verrassing en     voldoening. ---De ministers Langmanen Udink hebben in     een nota-Noorden des lands plannen bekend gemaakt voor     verbetering van het agrarische en het industriÃ«le klimaat-     klimaat in     de noordelijke provincies. -     Koningin Juliana en prigs Bernhard hebben op de tweede     Bron:     SV     Regeis     meer     650. 1. 19. 50. 000. 10. 71 vdm.   \n",
       "7               kram 14-2-1976     1000      S. G. P. congres     -g=-     //\". K     2.     10.     11     12.     13.     14.     In Utrecht werdt vandaag de jaar-vergadering gehouden van de Staatkundig Gereformeerde Partij. In zijn openingsrede z^%R de fraktievoorzitter, dominee' bmo het on-ontkoomb^ar te vinden dat de collektieve voorzieningen op de helling komen. Be S. G. P. -fraktievoorzitter zei over verbetering van het economisch klimaat dat de overheid het uiterste moet doeh om de eigen uitgaven terug te dringen. Over aktiegrcepen op milieu-gebied zei dominee Abma dat die niet bedrijfsblind moeten zijn. Het is onmogelijk alles te hebben, zei hij: een hoog peil van welvaart en een maximaal milieu. Het economisch klimaat, vond hij, laat zich niet straffeloos verwaarlozen.     15.     Bron:     an&lt; j     Regels: -: 1                                                                                                                                                                                                                                                                            \n",
       "8      : kram         14-2-1976 jj&amp; eo ,2^          S. G. P. congres     3.     5.     6.     7.     10.     11.     12     13.     14     15     In Utrecht wordt vandaag de jaar-vergadering gehouden van     de Staatkundig Gereformeerde Partij. In zijn openingsrede     IA     Ba-de fraktievoorzitter, dominee Abma, het on-ontkoomb^ar te vinden dat de collektieve voorzieningen op de helling     komen. De S. G. P. -fraktievoorzitter zei over verbetering van     het economisch klimaat dat de overheid het uiterste moet     doeh om de eigen uitgaven terug te dringen. Over aktiegroepen op milieu-gebied zei dominee Abma dat die niet bedrijfsblind     moeten zijn. Het is onmogelijk alles te hebben, zei hij:     een hoog peil van welvaart en een maximaal milieu. Het     economisch klimaat, vond hij, laat zich niet straffeloos     verwaarlozen.     Bron.     anp     Regels: -) -]     *                                                                                                                                                                                                                      \n",
       "9      :  Korp.. 29Aug.' 53 2300 ECLA -2- 1. opeenvolging van gebeurtenissen de neiging aangetoond tot - 2. het scheppen van een klimaat, dat gunstiger is voor het *----7 3. constructieve werk dat de Verenigde Naties zo zeer kunnen 4. bevorderen%Binnen de volkerenorganisatie kan ieder lid zijn 5. invloed aanwenden om te komen tot een meer vastberaden en * ' n^-aaA^ ^internationale/ ^ 'wezenlijke/aanval op de armoede dan ooit tevoren^aldus 7. 8. Hammasrkj81a/V 9. 10. 11. * 12. 13. - 14. - 15. Bron: rtr Regels7( 22) 650 [ t 25000 H' 54 A4 vdM.                                                                                                                                                                                                                                                                                                                                                                                                                                                                                                                                                                              "
      ]
     },
     "execution_count": 25,
     "metadata": {},
     "output_type": "execute_result"
    }
   ],
   "source": [
    "df2[5:10] #inspect the dataframe"
   ]
  },
  {
   "cell_type": "code",
   "execution_count": 24,
   "metadata": {},
   "outputs": [],
   "source": [
    "#if you wan to skip one of these cleaning steps you can put a # in front of the line. \n",
    "#Python will then think that the code is a comment and it will not interpret it.\n",
    "df2['text'] = df2['text'].str.replace('Datum:.', '') #remove returning text (Datum:.)\n",
    "df2['text'] = df2['text'].str.replace('Tijd:.', '') #remove returning text (Tijd:.)\n",
    "df2['text'] = df2['text'].str.replace('Onderwerp:', '') #remove returning text (Onderwerp:)\n",
    "df2['text'] = df2['text'].str.replace('\\n', '') #remove newline (/n) character"
   ]
  },
  {
   "cell_type": "code",
   "execution_count": null,
   "metadata": {
    "collapsed": true
   },
   "outputs": [],
   "source": [
    "df2['text'] = df2['text'].str.replace('\\d+', '') #remove all digits from the text"
   ]
  },
  {
   "cell_type": "code",
   "execution_count": 26,
   "metadata": {},
   "outputs": [],
   "source": [
    "df2['text'] = df2['text'].str.findall('\\w{3,}').str.join(' ') #remove words shorter than 4 characters"
   ]
  },
  {
   "cell_type": "code",
   "execution_count": 27,
   "metadata": {
    "collapsed": true
   },
   "outputs": [],
   "source": [
    "df2['text'].replace('[!\"#%\\'()*+,-/:;<=>?@\\[\\]^_`{|}~’”“′‘\\\\\\]',' ',inplace=True,regex=True) #remove punctuation"
   ]
  },
  {
   "cell_type": "code",
   "execution_count": 28,
   "metadata": {},
   "outputs": [],
   "source": [
    "df2['text'] = df2['text'].str.lower() #convert all the text into lower case"
   ]
  },
  {
   "cell_type": "code",
   "execution_count": 29,
   "metadata": {
    "collapsed": true
   },
   "outputs": [],
   "source": [
    "#This is a method you can use to remove articles that contain particular words, in this case 'Egypte' and 'Turkije'\n",
    "to_drop = ['Egypte', 'Turkije'] \n",
    "df2 = df2[~df2['text'].isin(to_drop)]"
   ]
  },
  {
   "cell_type": "code",
   "execution_count": 30,
   "metadata": {
    "scrolled": true
   },
   "outputs": [
    {
     "data": {
      "text/html": [
       "<div>\n",
       "<table border=\"1\" class=\"dataframe\">\n",
       "  <thead>\n",
       "    <tr style=\"text-align: right;\">\n",
       "      <th></th>\n",
       "      <th>title</th>\n",
       "      <th>date</th>\n",
       "      <th>text</th>\n",
       "    </tr>\n",
       "  </thead>\n",
       "  <tbody>\n",
       "    <tr>\n",
       "      <th>5</th>\n",
       "      <td>ANP Nieuwsbericht - 19-09-1953 - 65</td>\n",
       "      <td>1953/09/19 00:00:00</td>\n",
       "      <td>spet teheran perzische hoofdstad teheran het gisteren tot demonsl amp amp ties gekomer tegen regering zahediy een moskee het centrum van stad begonnen een aantal betogers lang leve mossã deq roepen zij werden onmiddellijk gearresteerd volgens een later uitgegeven verklaring ijn zij gedeporteerd naar een gebied met een slecht klimaat bron regels</td>\n",
       "    </tr>\n",
       "    <tr>\n",
       "      <th>6</th>\n",
       "      <td>ANP Nieuwsbericht - 21-09-1972 - 69</td>\n",
       "      <td>1972/09/21 00:00:00</td>\n",
       "      <td>datu duã¼v 1730 nws samenvatting raad van bestuur van het akzo concern neemt het structuurplan volledig terug dat plan was gericht bestdjding van overcapaciteit garen vezelsector het janshalt behelsde ookjsluiting van enka bedrijven breda emmercompazcuum zwijnaarde belgiã wuppertal westduitsland raad van bestum meent dat door het schrappen van het plan demogelijk amp wordt geschapen rust herstellen die nodig voor het goed functioneren van onderneming uit eerste reacties van vakbondszijde blijken verrassing voldoening ministers langmanen udink hebben een nota noorden des lands plannen bekend gemaakt voor verbetering van het agrarische het industriã klimaat klimaat noordelijke provincies koningin juliana prigs bernhard hebben tweede bron regeis meer 650 000 vdm</td>\n",
       "    </tr>\n",
       "    <tr>\n",
       "      <th>7</th>\n",
       "      <td>ANP Nieuwsbericht - 14-02-1976 - 46</td>\n",
       "      <td>1976/02/14 00:00:00</td>\n",
       "      <td>kram 1976 1000 congres utrecht werdt vandaag jaar vergadering gehouden van staatkundig gereformeerde partij zijn openingsrede fraktievoorzitter dominee bmo het ontkoomb vinden dat collektieve voorzieningen helling komen fraktievoorzitter zei over verbetering van het economisch klimaat dat overheid het uiterste moet doeh eigen uitgaven terug dringen over aktiegrcepen milieu gebied zei dominee abma dat die niet bedrijfsblind moeten zijn het onmogelijk alles hebben zei hij een hoog peil van welvaart een maximaal milieu het economisch klimaat vond hij laat zich niet straffeloos verwaarlozen bron regels</td>\n",
       "    </tr>\n",
       "    <tr>\n",
       "      <th>8</th>\n",
       "      <td>ANP Nieuwsbericht - 14-02-1976 - 99</td>\n",
       "      <td>1976/02/14 00:00:00</td>\n",
       "      <td>kram 1976 amp congres utrecht wordt vandaag jaar vergadering gehouden van staatkundig gereformeerde partij zijn openingsrede fraktievoorzitter dominee abma het ontkoomb vinden dat collektieve voorzieningen helling komen fraktievoorzitter zei over verbetering van het economisch klimaat dat overheid het uiterste moet doeh eigen uitgaven terug dringen over aktiegroepen milieu gebied zei dominee abma dat die niet bedrijfsblind moeten zijn het onmogelijk alles hebben zei hij een hoog peil van welvaart een maximaal milieu het economisch klimaat vond hij laat zich niet straffeloos verwaarlozen bron anp regels</td>\n",
       "    </tr>\n",
       "    <tr>\n",
       "      <th>9</th>\n",
       "      <td>ANP Nieuwsbericht - 29-08-1955 - 61</td>\n",
       "      <td>1955/08/29 00:00:00</td>\n",
       "      <td>korp 29aug 2300 ecla opeenvolging van gebeurtenissen neiging aangetoond tot het scheppen van een klimaat dat gunstiger voor het constructieve werk dat verenigde naties zeer kunnen bevorderen binnen volkerenorganisatie kan ieder lid zijn invloed aanwenden komen tot een meer vastberaden aaa internationale wezenlijke aanval armoede dan ooit tevoren aldus hammasrkj81a bron rtr regels7 650 25000 vdm</td>\n",
       "    </tr>\n",
       "  </tbody>\n",
       "</table>\n",
       "</div>"
      ],
      "text/plain": [
       "                                 title                 date  \\\n",
       "5  ANP Nieuwsbericht - 19-09-1953 - 65  1953/09/19 00:00:00   \n",
       "6  ANP Nieuwsbericht - 21-09-1972 - 69  1972/09/21 00:00:00   \n",
       "7  ANP Nieuwsbericht - 14-02-1976 - 46  1976/02/14 00:00:00   \n",
       "8  ANP Nieuwsbericht - 14-02-1976 - 99  1976/02/14 00:00:00   \n",
       "9  ANP Nieuwsbericht - 29-08-1955 - 61  1955/08/29 00:00:00   \n",
       "\n",
       "                                                                                                                                                                                                                                                                                                                                                                                                                                                                                                                                                                                                                                                                                                                                                                                                text  \n",
       "5  spet teheran perzische hoofdstad teheran het gisteren tot demonsl amp amp ties gekomer tegen regering zahediy een moskee het centrum van stad begonnen een aantal betogers lang leve mossã deq roepen zij werden onmiddellijk gearresteerd volgens een later uitgegeven verklaring ijn zij gedeporteerd naar een gebied met een slecht klimaat bron regels                                                                                                                                                                                                                                                                                                                                                                                                                                         \n",
       "6  datu duã¼v 1730 nws samenvatting raad van bestuur van het akzo concern neemt het structuurplan volledig terug dat plan was gericht bestdjding van overcapaciteit garen vezelsector het janshalt behelsde ookjsluiting van enka bedrijven breda emmercompazcuum zwijnaarde belgiã wuppertal westduitsland raad van bestum meent dat door het schrappen van het plan demogelijk amp wordt geschapen rust herstellen die nodig voor het goed functioneren van onderneming uit eerste reacties van vakbondszijde blijken verrassing voldoening ministers langmanen udink hebben een nota noorden des lands plannen bekend gemaakt voor verbetering van het agrarische het industriã klimaat klimaat noordelijke provincies koningin juliana prigs bernhard hebben tweede bron regeis meer 650 000 vdm  \n",
       "7  kram 1976 1000 congres utrecht werdt vandaag jaar vergadering gehouden van staatkundig gereformeerde partij zijn openingsrede fraktievoorzitter dominee bmo het ontkoomb vinden dat collektieve voorzieningen helling komen fraktievoorzitter zei over verbetering van het economisch klimaat dat overheid het uiterste moet doeh eigen uitgaven terug dringen over aktiegrcepen milieu gebied zei dominee abma dat die niet bedrijfsblind moeten zijn het onmogelijk alles hebben zei hij een hoog peil van welvaart een maximaal milieu het economisch klimaat vond hij laat zich niet straffeloos verwaarlozen bron regels                                                                                                                                                                      \n",
       "8  kram 1976 amp congres utrecht wordt vandaag jaar vergadering gehouden van staatkundig gereformeerde partij zijn openingsrede fraktievoorzitter dominee abma het ontkoomb vinden dat collektieve voorzieningen helling komen fraktievoorzitter zei over verbetering van het economisch klimaat dat overheid het uiterste moet doeh eigen uitgaven terug dringen over aktiegroepen milieu gebied zei dominee abma dat die niet bedrijfsblind moeten zijn het onmogelijk alles hebben zei hij een hoog peil van welvaart een maximaal milieu het economisch klimaat vond hij laat zich niet straffeloos verwaarlozen bron anp regels                                                                                                                                                                  \n",
       "9  korp 29aug 2300 ecla opeenvolging van gebeurtenissen neiging aangetoond tot het scheppen van een klimaat dat gunstiger voor het constructieve werk dat verenigde naties zeer kunnen bevorderen binnen volkerenorganisatie kan ieder lid zijn invloed aanwenden komen tot een meer vastberaden aaa internationale wezenlijke aanval armoede dan ooit tevoren aldus hammasrkj81a bron rtr regels7 650 25000 vdm                                                                                                                                                                                                                                                                                                                                                                                      "
      ]
     },
     "execution_count": 30,
     "metadata": {},
     "output_type": "execute_result"
    }
   ],
   "source": [
    "#inspect the dataframe after the cleaning. \n",
    "#You can also run df[5:10] in a new cell (with the + sign) to compare the differences. \n",
    "df2[5:10] "
   ]
  },
  {
   "cell_type": "markdown",
   "metadata": {},
   "source": [
    "<h2>Visualization</h2> \n",
    "<p>In this section, we are going to generate a simple line graph that shows the number of articles over time. We will select different time scales.</p>"
   ]
  },
  {
   "cell_type": "code",
   "execution_count": 34,
   "metadata": {},
   "outputs": [
    {
     "data": {
      "text/plain": [
       "0       1978/06/29\n",
       "1       1978/06/29\n",
       "2       1954/10/06\n",
       "3       1955/05/14\n",
       "4       1959/12/12\n",
       "5       1953/09/19\n",
       "6       1972/09/21\n",
       "7       1976/02/14\n",
       "8       1976/02/14\n",
       "9       1955/08/29\n",
       "10      1960/03/24\n",
       "11      1960/05/03\n",
       "12      1972/08/02\n",
       "13      1973/10/25\n",
       "14      1973/09/27\n",
       "15      1973/09/27\n",
       "16      1975/05/01\n",
       "17      1977/10/22\n",
       "18      1983/02/07\n",
       "19      1953/08/27\n",
       "20      1955/08/23\n",
       "21      1956/04/05\n",
       "22      1958/10/04\n",
       "23      1960/10/06\n",
       "24      1965/10/18\n",
       "25      1968/07/16\n",
       "26      1969/06/02\n",
       "27      1971/01/15\n",
       "28      1972/08/02\n",
       "29      1973/04/17\n",
       "           ...    \n",
       "1133    1982/10/09\n",
       "1134    1982/10/19\n",
       "1135    1982/10/22\n",
       "1136    1982/12/28\n",
       "1137    1982/12/28\n",
       "1138    1982/12/28\n",
       "1139    1982/02/12\n",
       "1140    1982/02/12\n",
       "1141    1983/10/19\n",
       "1142    1983/12/26\n",
       "1143    1983/02/07\n",
       "1144    1983/02/07\n",
       "1145    1983/04/28\n",
       "1146    1983/05/28\n",
       "1147    1983/05/28\n",
       "1148    1983/06/21\n",
       "1149    1983/06/22\n",
       "1150    1983/08/18\n",
       "1151    1984/02/09\n",
       "1152    1984/02/19\n",
       "1153    1984/02/25\n",
       "1154    1984/03/31\n",
       "1155    1984/04/30\n",
       "1156    1984/04/30\n",
       "1157    1984/06/26\n",
       "1158    1984/06/26\n",
       "1159    1978/01/22\n",
       "1160    1978/11/16\n",
       "1161    1978/11/16\n",
       "1162    1978/11/16\n",
       "Name: date, dtype: object"
      ]
     },
     "execution_count": 34,
     "metadata": {},
     "output_type": "execute_result"
    }
   ],
   "source": [
    "df2['date'] #show the date column"
   ]
  },
  {
   "cell_type": "code",
   "execution_count": 33,
   "metadata": {
    "collapsed": true
   },
   "outputs": [],
   "source": [
    "df2['date'] = df2['date'].str.replace(' 00:00:00', '') #re-format date to just show year-month-day"
   ]
  },
  {
   "cell_type": "code",
   "execution_count": 35,
   "metadata": {
    "collapsed": true
   },
   "outputs": [],
   "source": [
    "df2['date'] = pd.to_datetime(df2['date']) #tell Pandas that this column contains date information\n",
    "df2 = df2.set_index(['date']) #set the date column as the index. This makes calculations involving time easier. "
   ]
  },
  {
   "cell_type": "code",
   "execution_count": 41,
   "metadata": {},
   "outputs": [
    {
     "data": {
      "text/plain": [
       "<matplotlib.axes._subplots.AxesSubplot at 0x115d6c358>"
      ]
     },
     "execution_count": 41,
     "metadata": {},
     "output_type": "execute_result"
    },
    {
     "data": {
      "image/png": "[encoded data removed]",
      "text/plain": [
       "<matplotlib.figure.Figure at 0x115d58a20>"
      ]
     },
     "metadata": {},
     "output_type": "display_data"
    }
   ],
   "source": [
    "df2['text'].groupby(pd.TimeGrouper('24M')).count().plot(kind='line')\n",
    "#also try this with D, W, M, 6M, 12M "
   ]
  },
  {
   "cell_type": "code",
   "execution_count": null,
   "metadata": {
    "collapsed": true
   },
   "outputs": [],
   "source": [
    "#You can create new dataframes that only contain a slice of the data based on their date. \n",
    "#Change the names of the variables 'df1970-1971' and 'df1975-1979' and the way they are sliced'\n",
    "df1970_1971 = df2['1970':'1971']\n",
    "df1975_1979 = df2['1975':'1979']"
   ]
  },
  {
   "cell_type": "markdown",
   "metadata": {},
   "source": [
    "<h2>Output data</h2>\n",
    "<p>In the next part of this workshop, we will work with raw text data. For this reason, we will export only the text column of the dataframe as one larger text-file.</p>"
   ]
  },
  {
   "cell_type": "code",
   "execution_count": 43,
   "metadata": {},
   "outputs": [],
   "source": [
    "#give the .txt file a name you prefer\n",
    "#we leave out the index column and the headers and only select the column 'text'\n",
    "#you can also change df into the name of the slice you defined in the previous step. For instance, df1970_1971.\n",
    "df2['text'].to_csv(\"text_clean.txt\", sep=' ', encoding='utf-8', index=False, header=False) "
   ]
  },
  {
   "cell_type": "code",
   "execution_count": null,
   "metadata": {
    "collapsed": true
   },
   "outputs": [],
   "source": [
    "#we will also output the text that was not cleaned. Save this using a different output name\n",
    "df['text'].to_csv(\"raw_text.txt\", sep=' ', index=False, header=False) "
   ]
  },
  {
   "cell_type": "code",
   "execution_count": null,
   "metadata": {
    "collapsed": true
   },
   "outputs": [],
   "source": []
  }
 ],
 "metadata": {
  "anaconda-cloud": {},
  "kernelspec": {
   "display_name": "Python 3",
   "language": "python",
   "name": "python3"
  },
  "language_info": {
   "codemirror_mode": {
    "name": "ipython",
    "version": 3
   },
   "file_extension": ".py",
   "mimetype": "text/x-python",
   "name": "python",
   "nbconvert_exporter": "python",
   "pygments_lexer": "ipython3",
   "version": "3.6.0"
  }
 },
 "nbformat": 4,
 "nbformat_minor": 1
}
